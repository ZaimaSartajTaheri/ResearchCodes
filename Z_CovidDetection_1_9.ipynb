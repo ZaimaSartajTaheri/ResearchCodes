{
  "nbformat": 4,
  "nbformat_minor": 0,
  "metadata": {
    "colab": {
      "name": "Z_CovidDetection_1_9.ipynb",
      "provenance": [],
      "collapsed_sections": [],
      "authorship_tag": "ABX9TyMwh1cVxUOyPM7iasv8lNNi",
      "include_colab_link": true
    },
    "kernelspec": {
      "name": "python3",
      "display_name": "Python 3"
    },
    "language_info": {
      "name": "python"
    },
    "accelerator": "GPU"
  },
  "cells": [
    {
      "cell_type": "markdown",
      "metadata": {
        "id": "view-in-github",
        "colab_type": "text"
      },
      "source": [
        "<a href=\"https://colab.research.google.com/github/ZaimaSartajTaheri/ResearchCodes/blob/main/Z_CovidDetection_1_9.ipynb\" target=\"_parent\"><img src=\"https://colab.research.google.com/assets/colab-badge.svg\" alt=\"Open In Colab\"/></a>"
      ]
    },
    {
      "cell_type": "code",
      "metadata": {
        "colab": {
          "base_uri": "https://localhost:8080/"
        },
        "id": "h3bpO-aLGhT4",
        "outputId": "50621f8f-adcc-4852-bc06-23fadecd30a1"
      },
      "source": [
        "from google.colab import drive\n",
        "drive.mount('/content/drive')"
      ],
      "execution_count": 3,
      "outputs": [
        {
          "output_type": "stream",
          "text": [
            "Drive already mounted at /content/drive; to attempt to forcibly remount, call drive.mount(\"/content/drive\", force_remount=True).\n"
          ],
          "name": "stdout"
        }
      ]
    },
    {
      "cell_type": "code",
      "metadata": {
        "id": "WzzPtCX7HZD8"
      },
      "source": [
        "!pip install -q keras"
      ],
      "execution_count": 2,
      "outputs": []
    },
    {
      "cell_type": "code",
      "metadata": {
        "id": "_wGVydA0HfSG"
      },
      "source": [
        "import keras"
      ],
      "execution_count": 4,
      "outputs": []
    },
    {
      "cell_type": "code",
      "metadata": {
        "id": "35gRVnqYHthE"
      },
      "source": [
        "import os\n",
        "import numpy as np\n",
        "import pandas as pd \n",
        "import matplotlib.pyplot as plt\n",
        "import seaborn as sns\n",
        "import tensorflow as tf\n",
        "from tensorflow import keras"
      ],
      "execution_count": 10,
      "outputs": []
    },
    {
      "cell_type": "code",
      "metadata": {
        "id": "XI8rTP4tH0pI"
      },
      "source": [
        "from keras.preprocessing.image import ImageDataGenerator\n",
        "\n",
        "image_generator = ImageDataGenerator(\n",
        "    # rotation_range=20,\n",
        "     #width_shift_range=0.1,\n",
        "    # shear_range=0.1,\n",
        "     zoom_range=0.1,\n",
        "    samplewise_center=True,\n",
        "    samplewise_std_normalization=True\n",
        ")"
      ],
      "execution_count": 11,
      "outputs": []
    },
    {
      "cell_type": "code",
      "metadata": {
        "colab": {
          "base_uri": "https://localhost:8080/"
        },
        "id": "7LQepaTqH4Cj",
        "outputId": "2006074d-c411-4978-cbbc-2805a78418a5"
      },
      "source": [
        "train = image_generator.flow_from_directory('/content/drive/MyDrive/CovidDataset/CovidDataset/Train', \n",
        "                                            batch_size=32, \n",
        "                                            shuffle=True, \n",
        "                                            class_mode='categorical',\n",
        "                                            target_size=(224, 224))\n",
        "\n",
        "validation =image_generator.flow_from_directory('/content/drive/MyDrive/CovidDataset/CovidDataset/Val', \n",
        "                                                batch_size=1, \n",
        "                                                shuffle=False, \n",
        "                                                class_mode='categorical',\n",
        "                                                target_size=(224, 224))\n",
        "\n",
        "test =image_generator.flow_from_directory('/content/drive/MyDrive/CovidDataset/CovidDataset/Test', \n",
        "                                            batch_size=1, \n",
        "                                            shuffle=False, \n",
        "                                            class_mode='categorical',\n",
        "                                            target_size=(224, 224))"
      ],
      "execution_count": 12,
      "outputs": [
        {
          "output_type": "stream",
          "text": [
            "Found 8376 images belonging to 3 classes.\n",
            "Found 2792 images belonging to 3 classes.\n",
            "Found 2790 images belonging to 3 classes.\n"
          ],
          "name": "stdout"
        }
      ]
    },
    {
      "cell_type": "code",
      "metadata": {
        "id": "urLJx5_G64jx"
      },
      "source": [
        "from keras.models import Sequential\n",
        "from keras.layers import Dense, Conv2D, MaxPool2D, Dropout, Flatten, BatchNormalization\n",
        "\n",
        "\n",
        "model = Sequential()\n",
        "model.add(Conv2D(32,kernel_size=(3,3),activation='relu',input_shape=(224,224,3)))\n",
        "model.add(Conv2D(64,(3,3),activation='relu'))\n",
        "model.add(MaxPool2D(pool_size=(2,2)))\n",
        "model.add(Dropout(0.2))\n",
        "\n",
        "model.add(Conv2D(64,(3,3),activation='relu'))\n",
        "model.add(MaxPool2D(pool_size=(2,2)))\n",
        "model.add(Dropout(0.25))\n",
        "\n",
        "model.add(Conv2D(64,(3,3),activation='relu'))\n",
        "model.add(MaxPool2D(pool_size=(2,2)))\n",
        "model.add(Dropout(0.3))\n",
        "\n",
        "model.add(Flatten())\n",
        "# model.add(Dense(64,activation='relu'))\n",
        "\n",
        "model.add(Dense(3,activation='softmax'))\n",
        "\n",
        "model.compile(loss=keras.losses.categorical_crossentropy,optimizer='adam',metrics=['accuracy'])"
      ],
      "execution_count": 13,
      "outputs": []
    },
    {
      "cell_type": "code",
      "metadata": {
        "colab": {
          "base_uri": "https://localhost:8080/"
        },
        "id": "oQ3Pwmsj66N0",
        "outputId": "a2ee5100-6445-438d-d971-5f283b05a8b7"
      },
      "source": [
        "model.summary()"
      ],
      "execution_count": 14,
      "outputs": [
        {
          "output_type": "stream",
          "text": [
            "Model: \"sequential_1\"\n",
            "_________________________________________________________________\n",
            "Layer (type)                 Output Shape              Param #   \n",
            "=================================================================\n",
            "conv2d_4 (Conv2D)            (None, 222, 222, 32)      896       \n",
            "_________________________________________________________________\n",
            "conv2d_5 (Conv2D)            (None, 220, 220, 64)      18496     \n",
            "_________________________________________________________________\n",
            "max_pooling2d_3 (MaxPooling2 (None, 110, 110, 64)      0         \n",
            "_________________________________________________________________\n",
            "dropout_3 (Dropout)          (None, 110, 110, 64)      0         \n",
            "_________________________________________________________________\n",
            "conv2d_6 (Conv2D)            (None, 108, 108, 64)      36928     \n",
            "_________________________________________________________________\n",
            "max_pooling2d_4 (MaxPooling2 (None, 54, 54, 64)        0         \n",
            "_________________________________________________________________\n",
            "dropout_4 (Dropout)          (None, 54, 54, 64)        0         \n",
            "_________________________________________________________________\n",
            "conv2d_7 (Conv2D)            (None, 52, 52, 64)        36928     \n",
            "_________________________________________________________________\n",
            "max_pooling2d_5 (MaxPooling2 (None, 26, 26, 64)        0         \n",
            "_________________________________________________________________\n",
            "dropout_5 (Dropout)          (None, 26, 26, 64)        0         \n",
            "_________________________________________________________________\n",
            "flatten_1 (Flatten)          (None, 43264)             0         \n",
            "_________________________________________________________________\n",
            "dense_1 (Dense)              (None, 3)                 129795    \n",
            "=================================================================\n",
            "Total params: 223,043\n",
            "Trainable params: 223,043\n",
            "Non-trainable params: 0\n",
            "_________________________________________________________________\n"
          ],
          "name": "stdout"
        }
      ]
    },
    {
      "cell_type": "code",
      "metadata": {
        "colab": {
          "base_uri": "https://localhost:8080/"
        },
        "id": "aafXq42E68y7",
        "outputId": "c30aa5f3-0756-4cda-b5a7-0fcf91367b2b"
      },
      "source": [
        "r = model.fit(\n",
        "    train, \n",
        "    epochs=17,\n",
        "    validation_data=validation,\n",
        "    validation_steps=100,\n",
        ")"
      ],
      "execution_count": 15,
      "outputs": [
        {
          "output_type": "stream",
          "text": [
            "Epoch 1/17\n",
            "262/262 [==============================] - 1926s 7s/step - loss: 0.7034 - accuracy: 0.6832 - val_loss: 0.2096 - val_accuracy: 0.9700\n",
            "Epoch 2/17\n",
            "262/262 [==============================] - 135s 516ms/step - loss: 0.3927 - accuracy: 0.8233 - val_loss: 0.4202 - val_accuracy: 0.8800\n",
            "Epoch 3/17\n",
            "262/262 [==============================] - 135s 516ms/step - loss: 0.2952 - accuracy: 0.8822 - val_loss: 0.3588 - val_accuracy: 0.8900\n",
            "Epoch 4/17\n",
            "262/262 [==============================] - 135s 516ms/step - loss: 0.2455 - accuracy: 0.9074 - val_loss: 0.0876 - val_accuracy: 0.9800\n",
            "Epoch 5/17\n",
            "262/262 [==============================] - 135s 516ms/step - loss: 0.1917 - accuracy: 0.9266 - val_loss: 0.1887 - val_accuracy: 0.9500\n",
            "Epoch 6/17\n",
            "262/262 [==============================] - 135s 515ms/step - loss: 0.1648 - accuracy: 0.9371 - val_loss: 0.3903 - val_accuracy: 0.8300\n",
            "Epoch 7/17\n",
            "262/262 [==============================] - 136s 517ms/step - loss: 0.1599 - accuracy: 0.9397 - val_loss: 0.1894 - val_accuracy: 0.9000\n",
            "Epoch 8/17\n",
            "262/262 [==============================] - 137s 524ms/step - loss: 0.1433 - accuracy: 0.9455 - val_loss: 0.1292 - val_accuracy: 0.9700\n",
            "Epoch 9/17\n",
            "262/262 [==============================] - 135s 517ms/step - loss: 0.1384 - accuracy: 0.9516 - val_loss: 0.1865 - val_accuracy: 0.9400\n",
            "Epoch 10/17\n",
            "262/262 [==============================] - 137s 522ms/step - loss: 0.1261 - accuracy: 0.9487 - val_loss: 0.2474 - val_accuracy: 0.9700\n",
            "Epoch 11/17\n",
            "262/262 [==============================] - 136s 519ms/step - loss: 0.1120 - accuracy: 0.9594 - val_loss: 0.1638 - val_accuracy: 0.9600\n",
            "Epoch 12/17\n",
            "262/262 [==============================] - 136s 520ms/step - loss: 0.1019 - accuracy: 0.9619 - val_loss: 0.1858 - val_accuracy: 0.9400\n",
            "Epoch 13/17\n",
            "262/262 [==============================] - 136s 517ms/step - loss: 0.1041 - accuracy: 0.9619 - val_loss: 0.1350 - val_accuracy: 0.9700\n",
            "Epoch 14/17\n",
            "262/262 [==============================] - 136s 518ms/step - loss: 0.0877 - accuracy: 0.9650 - val_loss: 0.1711 - val_accuracy: 0.9600\n",
            "Epoch 15/17\n",
            "262/262 [==============================] - 139s 531ms/step - loss: 0.0942 - accuracy: 0.9638 - val_loss: 0.2508 - val_accuracy: 0.9300\n",
            "Epoch 16/17\n",
            "262/262 [==============================] - 137s 522ms/step - loss: 0.0795 - accuracy: 0.9686 - val_loss: 0.1216 - val_accuracy: 0.9700\n",
            "Epoch 17/17\n",
            "262/262 [==============================] - 139s 532ms/step - loss: 0.0802 - accuracy: 0.9712 - val_loss: 0.1389 - val_accuracy: 0.9600\n"
          ],
          "name": "stdout"
        }
      ]
    },
    {
      "cell_type": "code",
      "metadata": {
        "colab": {
          "base_uri": "https://localhost:8080/",
          "height": 252
        },
        "id": "43Cnp1TS7GIl",
        "outputId": "d5716f97-89de-49b8-dd07-aa9f6f94f523"
      },
      "source": [
        "plt.figure(figsize=(12, 8))\n",
        "\n",
        "plt.subplot(2, 2, 1)\n",
        "plt.plot(r.history['loss'], label='Loss')\n",
        "plt.plot(r.history['val_loss'], label='Val_Loss')\n",
        "plt.legend()\n",
        "plt.title('Loss Evolution')\n",
        "\n",
        "plt.subplot(2, 2, 2)\n",
        "plt.plot(r.history['accuracy'], label='Accuracy')\n",
        "plt.plot(r.history['val_accuracy'], label='Val_Accuracy')\n",
        "plt.legend()\n",
        "plt.title('Accuracy Evolution')"
      ],
      "execution_count": 16,
      "outputs": [
        {
          "output_type": "execute_result",
          "data": {
            "text/plain": [
              "Text(0.5, 1.0, 'Accuracy Evolution')"
            ]
          },
          "metadata": {
            "tags": []
          },
          "execution_count": 16
        },
        {
          "output_type": "display_data",
          "data": {
            "image/png": "[encoded data removed]",
            "text/plain": [
              "<Figure size 864x576 with 2 Axes>"
            ]
          },
          "metadata": {
            "tags": [],
            "needs_background": "light"
          }
        }
      ]
    },
    {
      "cell_type": "code",
      "metadata": {
        "colab": {
          "base_uri": "https://localhost:8080/"
        },
        "id": "nbWg4BPY7JeS",
        "outputId": "1c1fa0d2-947d-4b96-ab15-94353981ac0f"
      },
      "source": [
        "evaluation = model.evaluate(test)\n",
        "print(f\"Test Accuracy: {evaluation[1] * 100:.2f}%\")\n",
        "\n",
        "evaluation = model.evaluate(train)\n",
        "print(f\"Train Accuracy: {evaluation[1] * 100:.2f}%\")"
      ],
      "execution_count": 17,
      "outputs": [
        {
          "output_type": "stream",
          "text": [
            "2790/2790 [==============================] - 641s 230ms/step - loss: 0.2719 - accuracy: 0.9176\n",
            "Test Accuracy: 91.76%\n",
            "262/262 [==============================] - 131s 499ms/step - loss: 0.0571 - accuracy: 0.9786\n",
            "Train Accuracy: 97.86%\n"
          ],
          "name": "stdout"
        }
      ]
    },
    {
      "cell_type": "code",
      "metadata": {
        "id": "PjhMeFB67MnQ"
      },
      "source": [
        "from sklearn.metrics import confusion_matrix, classification_report\n",
        "\n",
        "rounded_labels=np.argmax(test, axis=1)\n",
        "\n",
        "predictions = model.predict(test)\n",
        "pred = np.argmax(predictions, axis=1)\n",
        "\n",
        "\n",
        "# target_names=['Covid','Normal','Pneumonia']\n",
        "print(confusion_matrix(rounded_labels.classes, pred ))\n",
        "pd.DataFrame(classification_report(rounded_labels.classes,pred,output_dict=True))"
      ],
      "execution_count": null,
      "outputs": []
    }
  ]
}
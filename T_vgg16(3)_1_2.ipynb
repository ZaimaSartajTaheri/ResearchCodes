{
  "nbformat": 4,
  "nbformat_minor": 0,
  "metadata": {
    "colab": {
      "name": "T_vgg16(3)_1.2.ipynb",
      "provenance": [],
      "collapsed_sections": [],
      "include_colab_link": true
    },
    "kernelspec": {
      "name": "python3",
      "display_name": "Python 3"
    },
    "language_info": {
      "name": "python"
    },
    "accelerator": "GPU"
  },
  "cells": [
    {
      "cell_type": "markdown",
      "metadata": {
        "id": "view-in-github",
        "colab_type": "text"
      },
      "source": [
        "<a href=\"https://colab.research.google.com/github/ZaimaSartajTaheri/ResearchCodes/blob/main/T_vgg16(3)_1_2.ipynb\" target=\"_parent\"><img src=\"https://colab.research.google.com/assets/colab-badge.svg\" alt=\"Open In Colab\"/></a>"
      ]
    },
    {
      "cell_type": "code",
      "metadata": {
        "colab": {
          "base_uri": "https://localhost:8080/"
        },
        "id": "095p8vdhePJ3",
        "outputId": "42d6bf09-ac08-40b2-b818-394313f4a056"
      },
      "source": [
        "from google.colab import drive\n",
        "drive.mount(\"/content/drive/\")"
      ],
      "execution_count": null,
      "outputs": [
        {
          "output_type": "stream",
          "text": [
            "Drive already mounted at /content/drive/; to attempt to forcibly remount, call drive.mount(\"/content/drive/\", force_remount=True).\n"
          ],
          "name": "stdout"
        }
      ]
    },
    {
      "cell_type": "code",
      "metadata": {
        "id": "adGXnPrYej4i"
      },
      "source": [
        "test_dir=\"/content/drive/MyDrive/Project_materials/CovidDataset/Test\"\n",
        "train_dir=\"/content/drive/MyDrive/Project_materials/CovidDataset/Train\"\n",
        "val_dir=\"/content/drive/MyDrive/Project_materials/CovidDataset/Val\""
      ],
      "execution_count": null,
      "outputs": []
    },
    {
      "cell_type": "code",
      "metadata": {
        "id": "5IrX-bjMfcy3"
      },
      "source": [
        "from keras.preprocessing.image import ImageDataGenerator, array_to_img, img_to_array, load_img\n",
        "from keras import optimizers\n",
        "from keras.callbacks import History \n",
        "from keras.preprocessing.image import ImageDataGenerator\n",
        "\n",
        "image_generator = ImageDataGenerator(\n",
        "    # rotation_range=20,\n",
        "     #width_shift_range=0.1,\n",
        "    # shear_range=0.1,\n",
        "     zoom_range=0.1,\n",
        "    samplewise_center=True,\n",
        "    samplewise_std_normalization=True\n",
        ")"
      ],
      "execution_count": null,
      "outputs": []
    },
    {
      "cell_type": "code",
      "metadata": {
        "colab": {
          "base_uri": "https://localhost:8080/"
        },
        "id": "zNSRZyQtffWy",
        "outputId": "9398b34a-2220-4abb-d448-671b65a407ef"
      },
      "source": [
        "train = image_generator.flow_from_directory(train_dir, \n",
        "                                            batch_size=32, \n",
        "                                            shuffle=True, \n",
        "                                            class_mode='categorical',\n",
        "                                            target_size=(224, 224))\n",
        "\n",
        "validation =image_generator.flow_from_directory(val_dir, \n",
        "                                                batch_size=1, \n",
        "                                                shuffle=False, \n",
        "                                                class_mode='categorical',\n",
        "                                                target_size=(224, 224))\n",
        "\n",
        "test =image_generator.flow_from_directory(test_dir, \n",
        "                                            batch_size=1, \n",
        "                                            shuffle=False, \n",
        "                                            class_mode='categorical',\n",
        "                                            target_size=(224, 224))"
      ],
      "execution_count": null,
      "outputs": [
        {
          "output_type": "stream",
          "text": [
            "Found 8376 images belonging to 3 classes.\n",
            "Found 2792 images belonging to 3 classes.\n",
            "Found 2790 images belonging to 3 classes.\n"
          ],
          "name": "stdout"
        }
      ]
    },
    {
      "cell_type": "code",
      "metadata": {
        "colab": {
          "base_uri": "https://localhost:8080/"
        },
        "id": "q9Sy0EZwfiB7",
        "outputId": "1b1b77b6-4205-49b0-bf21-1e5c83ea955b"
      },
      "source": [
        "nb_train_samples = len(train.filenames)  \n",
        "nb_train_samples\n",
        "num_classes=len(train.class_indices)\n",
        "num_classes"
      ],
      "execution_count": null,
      "outputs": [
        {
          "output_type": "execute_result",
          "data": {
            "text/plain": [
              "3"
            ]
          },
          "metadata": {
            "tags": []
          },
          "execution_count": 58
        }
      ]
    },
    {
      "cell_type": "code",
      "metadata": {
        "colab": {
          "base_uri": "https://localhost:8080/"
        },
        "id": "9ouurCOwfqVF",
        "outputId": "03d2f207-4bce-470c-84ca-ba6e73d5cea0"
      },
      "source": [
        "from keras.utils.np_utils import to_categorical \n",
        " # get the class lebels for the training data, in the original order  \n",
        "train_labels = train.classes  \n",
        "   \n",
        " # convert the training labels to categorical vectors  \n",
        "train_labels = to_categorical(train_labels, num_classes=num_classes) \n",
        "train_labels"
      ],
      "execution_count": null,
      "outputs": [
        {
          "output_type": "execute_result",
          "data": {
            "text/plain": [
              "array([[1., 0., 0.],\n",
              "       [1., 0., 0.],\n",
              "       [1., 0., 0.],\n",
              "       ...,\n",
              "       [0., 0., 1.],\n",
              "       [0., 0., 1.],\n",
              "       [0., 0., 1.]], dtype=float32)"
            ]
          },
          "metadata": {
            "tags": []
          },
          "execution_count": 59
        }
      ]
    },
    {
      "cell_type": "code",
      "metadata": {
        "colab": {
          "base_uri": "https://localhost:8080/"
        },
        "id": "3oxic1Ppfq5Z",
        "outputId": "b68378aa-31b5-4682-abd2-0a892a55f414"
      },
      "source": [
        "validation_labels = validation.classes  \n",
        "validation_labels = to_categorical(validation_labels, num_classes=num_classes) \n",
        "validation_labels"
      ],
      "execution_count": null,
      "outputs": [
        {
          "output_type": "execute_result",
          "data": {
            "text/plain": [
              "array([[1., 0., 0.],\n",
              "       [1., 0., 0.],\n",
              "       [1., 0., 0.],\n",
              "       ...,\n",
              "       [0., 0., 1.],\n",
              "       [0., 0., 1.],\n",
              "       [0., 0., 1.]], dtype=float32)"
            ]
          },
          "metadata": {
            "tags": []
          },
          "execution_count": 60
        }
      ]
    },
    {
      "cell_type": "code",
      "metadata": {
        "colab": {
          "base_uri": "https://localhost:8080/"
        },
        "id": "U5ZzUfveft7k",
        "outputId": "1bee0a3e-e9d5-4127-c068-79b05f97a95f"
      },
      "source": [
        "test_labels = test.classes  \n",
        "test_labels = to_categorical(test_labels, num_classes=num_classes) \n",
        "test_labels"
      ],
      "execution_count": null,
      "outputs": [
        {
          "output_type": "execute_result",
          "data": {
            "text/plain": [
              "array([[1., 0., 0.],\n",
              "       [1., 0., 0.],\n",
              "       [1., 0., 0.],\n",
              "       ...,\n",
              "       [0., 0., 1.],\n",
              "       [0., 0., 1.],\n",
              "       [0., 0., 1.]], dtype=float32)"
            ]
          },
          "metadata": {
            "tags": []
          },
          "execution_count": 61
        }
      ]
    },
    {
      "cell_type": "code",
      "metadata": {
        "id": "SE_6nSAWfwks"
      },
      "source": [
        "#importing other required libraries\n",
        "import numpy as np\n",
        "import pandas as pd\n",
        "from sklearn.utils.multiclass import unique_labels\n",
        "import os\n",
        "import matplotlib.pyplot as plt\n",
        "import matplotlib.image as mpimg\n",
        "import seaborn as sns\n",
        "import itertools\n",
        "from sklearn.model_selection import train_test_split\n",
        "from sklearn.metrics import confusion_matrix\n",
        "from keras import Sequential\n",
        "from keras.applications import VGG16 #For Transfer Learning\n",
        "from keras.preprocessing.image import ImageDataGenerator\n",
        "from keras.optimizers import SGD,Adam\n",
        "from keras.callbacks import ReduceLROnPlateau\n",
        "from keras.layers import Flatten,Dense,BatchNormalization,Activation,Dropout\n",
        "from keras.utils import to_categorical"
      ],
      "execution_count": null,
      "outputs": []
    },
    {
      "cell_type": "code",
      "metadata": {
        "id": "o9SPmyILf1cH"
      },
      "source": [
        "#Defining the VGG Convolutional Neural Net\n",
        "base_model = VGG16(include_top = False, weights = 'imagenet', input_shape = (224,224,3))"
      ],
      "execution_count": null,
      "outputs": []
    },
    {
      "cell_type": "code",
      "metadata": {
        "id": "0T2bt8SbgUkJ"
      },
      "source": [
        "#Adding the final layers to the above base models where the actual classification is done in the dense layers\n",
        "model= Sequential()\n",
        "model.add(base_model) \n",
        "model.add(Flatten()) "
      ],
      "execution_count": null,
      "outputs": []
    },
    {
      "cell_type": "code",
      "metadata": {
        "colab": {
          "base_uri": "https://localhost:8080/"
        },
        "id": "De1zWiCUgZlA",
        "outputId": "781448a0-055e-4ef8-bc7a-6662ed6c7c0a"
      },
      "source": [
        "model.summary()"
      ],
      "execution_count": null,
      "outputs": [
        {
          "output_type": "stream",
          "text": [
            "Model: \"sequential_3\"\n",
            "_________________________________________________________________\n",
            "Layer (type)                 Output Shape              Param #   \n",
            "=================================================================\n",
            "vgg16 (Functional)           (None, 7, 7, 512)         14714688  \n",
            "_________________________________________________________________\n",
            "flatten_3 (Flatten)          (None, 25088)             0         \n",
            "=================================================================\n",
            "Total params: 14,714,688\n",
            "Trainable params: 14,714,688\n",
            "Non-trainable params: 0\n",
            "_________________________________________________________________\n"
          ],
          "name": "stdout"
        }
      ]
    },
    {
      "cell_type": "code",
      "metadata": {
        "colab": {
          "base_uri": "https://localhost:8080/"
        },
        "id": "WPpJ6JpHgb0V",
        "outputId": "3c804a18-6ec1-4849-c456-8389b05872cd"
      },
      "source": [
        "#Adding the Dense layers along with activation and batch normalization\n",
        "model.add(Dense(1024,activation=('relu'),input_dim=512))\n",
        "model.add(Dense(512,activation=('relu'))) \n",
        "model.add(Dense(256,activation=('relu'))) \n",
        "model.add(Dropout(.3))\n",
        "model.add(Dense(num_classes,activation=('softmax'))) \n",
        "\n",
        "#Checking the final model summary\n",
        "model.summary()"
      ],
      "execution_count": null,
      "outputs": [
        {
          "output_type": "stream",
          "text": [
            "Model: \"sequential_3\"\n",
            "_________________________________________________________________\n",
            "Layer (type)                 Output Shape              Param #   \n",
            "=================================================================\n",
            "vgg16 (Functional)           (None, 7, 7, 512)         14714688  \n",
            "_________________________________________________________________\n",
            "flatten_3 (Flatten)          (None, 25088)             0         \n",
            "_________________________________________________________________\n",
            "dense_12 (Dense)             (None, 1024)              25691136  \n",
            "_________________________________________________________________\n",
            "dense_13 (Dense)             (None, 512)               524800    \n",
            "_________________________________________________________________\n",
            "dense_14 (Dense)             (None, 256)               131328    \n",
            "_________________________________________________________________\n",
            "dropout_3 (Dropout)          (None, 256)               0         \n",
            "_________________________________________________________________\n",
            "dense_15 (Dense)             (None, 3)                 771       \n",
            "=================================================================\n",
            "Total params: 41,062,723\n",
            "Trainable params: 41,062,723\n",
            "Non-trainable params: 0\n",
            "_________________________________________________________________\n"
          ],
          "name": "stdout"
        }
      ]
    },
    {
      "cell_type": "code",
      "metadata": {
        "id": "X2dwI2rbgl9b"
      },
      "source": [
        "model.compile(optimizer='adam',loss='categorical_crossentropy',metrics=['accuracy'])"
      ],
      "execution_count": null,
      "outputs": []
    },
    {
      "cell_type": "code",
      "metadata": {
        "colab": {
          "base_uri": "https://localhost:8080/"
        },
        "id": "1PfqfmoZhUw2",
        "outputId": "95f2d061-4928-4a6e-d331-e3b6a192480a"
      },
      "source": [
        "\n",
        "r= model.fit(train,\n",
        "             validation_data = validation,\n",
        "             steps_per_epoch = 262,\n",
        "             validation_steps=20 ,\n",
        "             epochs = 13,\n",
        "             \n",
        "             )"
      ],
      "execution_count": null,
      "outputs": [
        {
          "output_type": "stream",
          "text": [
            "Epoch 1/13\n",
            "262/262 [==============================] - 161s 610ms/step - loss: 1.2276 - accuracy: 0.5017 - val_loss: 0.5661 - val_accuracy: 0.6000\n",
            "Epoch 2/13\n",
            "262/262 [==============================] - 159s 604ms/step - loss: 0.4240 - accuracy: 0.8202 - val_loss: 0.3152 - val_accuracy: 0.8500\n",
            "Epoch 3/13\n",
            "262/262 [==============================] - 159s 605ms/step - loss: 0.3252 - accuracy: 0.8716 - val_loss: 0.0347 - val_accuracy: 1.0000\n",
            "Epoch 4/13\n",
            "262/262 [==============================] - 160s 610ms/step - loss: 0.2702 - accuracy: 0.9003 - val_loss: 0.1049 - val_accuracy: 0.9500\n",
            "Epoch 5/13\n",
            "262/262 [==============================] - 161s 612ms/step - loss: 0.2223 - accuracy: 0.9210 - val_loss: 0.2625 - val_accuracy: 0.8500\n",
            "Epoch 6/13\n",
            "262/262 [==============================] - 161s 613ms/step - loss: 0.1858 - accuracy: 0.9353 - val_loss: 0.1226 - val_accuracy: 1.0000\n",
            "Epoch 7/13\n",
            "262/262 [==============================] - 159s 607ms/step - loss: 0.2858 - accuracy: 0.8970 - val_loss: 0.1207 - val_accuracy: 1.0000\n",
            "Epoch 8/13\n",
            "262/262 [==============================] - 157s 599ms/step - loss: 0.2108 - accuracy: 0.9245 - val_loss: 0.0427 - val_accuracy: 1.0000\n",
            "Epoch 9/13\n",
            "262/262 [==============================] - 157s 597ms/step - loss: 0.1512 - accuracy: 0.9483 - val_loss: 0.0715 - val_accuracy: 1.0000\n",
            "Epoch 10/13\n",
            "262/262 [==============================] - 157s 599ms/step - loss: 0.1541 - accuracy: 0.9478 - val_loss: 0.1974 - val_accuracy: 0.9000\n",
            "Epoch 11/13\n",
            "262/262 [==============================] - 157s 600ms/step - loss: 0.1482 - accuracy: 0.9481 - val_loss: 0.0403 - val_accuracy: 1.0000\n",
            "Epoch 12/13\n",
            "262/262 [==============================] - 159s 606ms/step - loss: 0.1382 - accuracy: 0.9482 - val_loss: 0.0628 - val_accuracy: 1.0000\n",
            "Epoch 13/13\n",
            "262/262 [==============================] - 159s 606ms/step - loss: 0.1245 - accuracy: 0.9545 - val_loss: 0.1026 - val_accuracy: 0.9500\n"
          ],
          "name": "stdout"
        }
      ]
    },
    {
      "cell_type": "code",
      "metadata": {
        "colab": {
          "base_uri": "https://localhost:8080/"
        },
        "id": "Iskr2IgZhdC4",
        "outputId": "6154a5dd-1766-44d2-caba-d1779d9edd6a"
      },
      "source": [
        "evaluation = model.evaluate(test)\n",
        "print(f\"Test Accuracy: {evaluation[1] * 100:.2f}%\")\n",
        "\n",
        "evaluation = model.evaluate(train)\n",
        "print(f\"Train Accuracy: {evaluation[1] * 100:.2f}%\")"
      ],
      "execution_count": null,
      "outputs": [
        {
          "output_type": "stream",
          "text": [
            "2790/2790 [==============================] - 56s 20ms/step - loss: 0.2515 - accuracy: 0.9079\n",
            "Test Accuracy: 90.79%\n",
            "262/262 [==============================] - 135s 515ms/step - loss: 0.1085 - accuracy: 0.9617\n",
            "Train Accuracy: 96.17%\n"
          ],
          "name": "stdout"
        }
      ]
    },
    {
      "cell_type": "code",
      "metadata": {
        "colab": {
          "base_uri": "https://localhost:8080/",
          "height": 166
        },
        "id": "QosFZH5lJSHd",
        "outputId": "2540f3eb-e776-42e6-8aa1-b18a8b0862e1"
      },
      "source": [
        "from sklearn.metrics import confusion_matrix, classification_report\n",
        "import pandas as pd\n",
        "import numpy as np\n",
        "\n",
        "\n",
        "# rounded_labels=np.argmax(test, axis=1)\n",
        "\n",
        "pred = model.predict(test)\n",
        "# pred = np.argmax(predictions, axis=1)\n",
        "\n",
        "y_pred=np.argmax(pred, axis=1)\n",
        "y_test=np.argmax(test_labels, axis=1)\n",
        "\n",
        "\n",
        "cnf_matrix=confusion_matrix(y_test, y_pred)\n",
        "pd.DataFrame(classification_report(y_test,y_pred,output_dict=True))"
      ],
      "execution_count": null,
      "outputs": [
        {
          "output_type": "execute_result",
          "data": {
            "text/html": [
              "<div>\n",
              "<style scoped>\n",
              "    .dataframe tbody tr th:only-of-type {\n",
              "        vertical-align: middle;\n",
              "    }\n",
              "\n",
              "    .dataframe tbody tr th {\n",
              "        vertical-align: top;\n",
              "    }\n",
              "\n",
              "    .dataframe thead th {\n",
              "        text-align: right;\n",
              "    }\n",
              "</style>\n",
              "<table border=\"1\" class=\"dataframe\">\n",
              "  <thead>\n",
              "    <tr style=\"text-align: right;\">\n",
              "      <th></th>\n",
              "      <th>0</th>\n",
              "      <th>1</th>\n",
              "      <th>2</th>\n",
              "      <th>accuracy</th>\n",
              "      <th>macro avg</th>\n",
              "      <th>weighted avg</th>\n",
              "    </tr>\n",
              "  </thead>\n",
              "  <tbody>\n",
              "    <tr>\n",
              "      <th>precision</th>\n",
              "      <td>0.886432</td>\n",
              "      <td>0.858316</td>\n",
              "      <td>0.975639</td>\n",
              "      <td>0.902867</td>\n",
              "      <td>0.906796</td>\n",
              "      <td>0.906796</td>\n",
              "    </tr>\n",
              "    <tr>\n",
              "      <th>recall</th>\n",
              "      <td>0.948387</td>\n",
              "      <td>0.898925</td>\n",
              "      <td>0.861290</td>\n",
              "      <td>0.902867</td>\n",
              "      <td>0.902867</td>\n",
              "      <td>0.902867</td>\n",
              "    </tr>\n",
              "    <tr>\n",
              "      <th>f1-score</th>\n",
              "      <td>0.916364</td>\n",
              "      <td>0.878151</td>\n",
              "      <td>0.914906</td>\n",
              "      <td>0.902867</td>\n",
              "      <td>0.903140</td>\n",
              "      <td>0.903140</td>\n",
              "    </tr>\n",
              "    <tr>\n",
              "      <th>support</th>\n",
              "      <td>930.000000</td>\n",
              "      <td>930.000000</td>\n",
              "      <td>930.000000</td>\n",
              "      <td>0.902867</td>\n",
              "      <td>2790.000000</td>\n",
              "      <td>2790.000000</td>\n",
              "    </tr>\n",
              "  </tbody>\n",
              "</table>\n",
              "</div>"
            ],
            "text/plain": [
              "                    0           1  ...    macro avg  weighted avg\n",
              "precision    0.886432    0.858316  ...     0.906796      0.906796\n",
              "recall       0.948387    0.898925  ...     0.902867      0.902867\n",
              "f1-score     0.916364    0.878151  ...     0.903140      0.903140\n",
              "support    930.000000  930.000000  ...  2790.000000   2790.000000\n",
              "\n",
              "[4 rows x 6 columns]"
            ]
          },
          "metadata": {
            "tags": []
          },
          "execution_count": 70
        }
      ]
    },
    {
      "cell_type": "code",
      "metadata": {
        "id": "-fCLqpxsJy9j"
      },
      "source": [
        "import matplotlib.pyplot as plt\n",
        "def plot_confusion_matrix(cm, classes,\n",
        "                          normalize=False,\n",
        "                          title='Confusion matrix',\n",
        "                          cmap=plt.cm.Blues):\n",
        "    \"\"\"\n",
        "    This function prints and plots the confusion matrix.\n",
        "    Normalization can be applied by setting normalize=True.\n",
        "    \"\"\"\n",
        "    import itertools\n",
        "    if normalize:\n",
        "        cm = cm.astype('float') / cm.sum(axis=1)[:, np.newaxis]\n",
        "        print(\"Normalized confusion matrix\")\n",
        "    else:\n",
        "        print('Confusion matrix, without normalization')\n",
        "\n",
        "    print(cm)\n",
        "\n",
        "    plt.imshow(cm, interpolation='nearest', cmap=cmap)\n",
        "    plt.title(title)\n",
        "    plt.colorbar()\n",
        "    tick_marks = np.arange(len(classes))\n",
        "    plt.xticks(tick_marks, classes, rotation=45)\n",
        "    plt.yticks(tick_marks, classes)\n",
        "\n",
        "    fmt = '.2f' if normalize else 'd'\n",
        "    thresh = cm.max() / 2.\n",
        "    for i, j in itertools.product(range(cm.shape[0]), range(cm.shape[1])):\n",
        "        plt.text(j, i, format(cm[i, j], fmt),\n",
        "                 horizontalalignment=\"center\",\n",
        "                 color=\"white\" if cm[i, j] > thresh else \"black\")\n",
        "\n",
        "    plt.ylabel('True label')\n",
        "    plt.xlabel('Predicted label')\n",
        "    plt.tight_layout()"
      ],
      "execution_count": null,
      "outputs": []
    },
    {
      "cell_type": "code",
      "metadata": {
        "colab": {
          "base_uri": "https://localhost:8080/",
          "height": 364
        },
        "id": "2nSYXsIcKctQ",
        "outputId": "b68b51d4-211a-4d0c-db04-69a10a268c8e"
      },
      "source": [
        "plt.figure()\n",
        "plot_confusion_matrix(cnf_matrix, classes=['Covid', 'Normal', 'Pneumonia'],\n",
        "                      title='Confusion matrix, without normalization')"
      ],
      "execution_count": null,
      "outputs": [
        {
          "output_type": "stream",
          "text": [
            "Confusion matrix, without normalization\n",
            "[[882  33  15]\n",
            " [ 89 836   5]\n",
            " [ 24 105 801]]\n"
          ],
          "name": "stdout"
        },
        {
          "output_type": "display_data",
          "data": {
            "image/png": "[encoded data removed]",
            "text/plain": [
              "<Figure size 432x288 with 2 Axes>"
            ]
          },
          "metadata": {
            "tags": [],
            "needs_background": "light"
          }
        }
      ]
    },
    {
      "cell_type": "code",
      "metadata": {
        "colab": {
          "base_uri": "https://localhost:8080/",
          "height": 279
        },
        "id": "cFaP5-P_KgPf",
        "outputId": "37cff5d2-c1dc-4f1d-ab93-5fa59f73b8bc"
      },
      "source": [
        "\n",
        "plt.figure(figsize=(12, 8))\n",
        "\n",
        "plt.subplot(2, 2, 1)\n",
        "plt.plot(r.history['loss'], label='Loss')\n",
        "plt.plot(r.history['val_loss'], label='Val_Loss')\n",
        "plt.legend()\n",
        "plt.title('Loss Evolution')\n",
        "\n",
        "plt.subplot(2, 2, 2)\n",
        "plt.plot(r.history['accuracy'], label='Accuracy')\n",
        "plt.plot(r.history['val_accuracy'], label='Val_Accuracy')\n",
        "plt.legend()\n",
        "plt.title('Accuracy Evolution')"
      ],
      "execution_count": null,
      "outputs": [
        {
          "output_type": "execute_result",
          "data": {
            "text/plain": [
              "Text(0.5, 1.0, 'Accuracy Evolution')"
            ]
          },
          "metadata": {
            "tags": []
          },
          "execution_count": 73
        },
        {
          "output_type": "display_data",
          "data": {
            "image/png": "[encoded data removed]",
            "text/plain": [
              "<Figure size 864x576 with 2 Axes>"
            ]
          },
          "metadata": {
            "tags": [],
            "needs_background": "light"
          }
        }
      ]
    },
    {
      "cell_type": "code",
      "metadata": {
        "id": "hvJjG9gxKpbR"
      },
      "source": [
        ""
      ],
      "execution_count": null,
      "outputs": []
    }
  ]
}
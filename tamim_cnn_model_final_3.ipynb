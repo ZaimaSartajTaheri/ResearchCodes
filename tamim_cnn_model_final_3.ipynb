{
  "nbformat": 4,
  "nbformat_minor": 0,
  "metadata": {
    "accelerator": "GPU",
    "colab": {
      "name": "tamim_cnn_model_final_3.ipynb",
      "provenance": [],
      "authorship_tag": "ABX9TyPg27jMFBa0usvhNahrPlmn",
      "include_colab_link": true
    },
    "kernelspec": {
      "display_name": "Python 3",
      "name": "python3"
    },
    "language_info": {
      "name": "python"
    }
  },
  "cells": [
    {
      "cell_type": "markdown",
      "metadata": {
        "id": "view-in-github",
        "colab_type": "text"
      },
      "source": [
        "<a href=\"https://colab.research.google.com/github/ZaimaSartajTaheri/ResearchCodes/blob/main/tamim_cnn_model_final_3.ipynb\" target=\"_parent\"><img src=\"https://colab.research.google.com/assets/colab-badge.svg\" alt=\"Open In Colab\"/></a>"
      ]
    },
    {
      "cell_type": "code",
      "metadata": {
        "colab": {
          "base_uri": "https://localhost:8080/"
        },
        "id": "mjiMqytvAVel",
        "outputId": "5de74e55-af55-4e43-8f5e-ba80487cd729"
      },
      "source": [
        "from google.colab import drive\n",
        "drive.mount(\"/content/drive/\")"
      ],
      "execution_count": 64,
      "outputs": [
        {
          "output_type": "stream",
          "text": [
            "Drive already mounted at /content/drive/; to attempt to forcibly remount, call drive.mount(\"/content/drive/\", force_remount=True).\n"
          ],
          "name": "stdout"
        }
      ]
    },
    {
      "cell_type": "code",
      "metadata": {
        "id": "TyoY5NUxAWSs"
      },
      "source": [
        "test_dir=\"/content/drive/MyDrive/CovidDataset/Test\"\n",
        "train_dir=\"/content/drive/MyDrive/CovidDataset/Train\"\n",
        "val_dir=\"/content/drive/MyDrive/CovidDataset/Val\""
      ],
      "execution_count": 65,
      "outputs": []
    },
    {
      "cell_type": "code",
      "metadata": {
        "id": "hYxw-ReVAiu2"
      },
      "source": [
        "from keras.preprocessing.image import ImageDataGenerator, array_to_img, img_to_array, load_img\n",
        "from keras import optimizers\n",
        "from keras.callbacks import History \n",
        "from keras.preprocessing.image import ImageDataGenerator\n",
        "\n",
        "image_generator = ImageDataGenerator(\n",
        "    # rotation_range=20,\n",
        "     #width_shift_range=0.1,\n",
        "    # shear_range=0.1,\n",
        "     zoom_range=0.1,\n",
        "    samplewise_center=True,\n",
        "    samplewise_std_normalization=True\n",
        ")"
      ],
      "execution_count": 66,
      "outputs": []
    },
    {
      "cell_type": "code",
      "metadata": {
        "colab": {
          "base_uri": "https://localhost:8080/"
        },
        "id": "Fp8VLJKUAlxg",
        "outputId": "219e647c-bb00-4253-f4d7-ab7ee4e5abc2"
      },
      "source": [
        "train = image_generator.flow_from_directory(train_dir, \n",
        "                                            batch_size=32, \n",
        "                                            shuffle=True, \n",
        "                                            class_mode='categorical',\n",
        "                                            target_size=(224, 224))\n",
        "\n",
        "validation =image_generator.flow_from_directory(val_dir, \n",
        "                                                batch_size=1, \n",
        "                                                shuffle=False, \n",
        "                                                class_mode='categorical',\n",
        "                                                target_size=(224, 224))\n",
        "\n",
        "test =image_generator.flow_from_directory(test_dir, \n",
        "                                            batch_size=1, \n",
        "                                            shuffle=False, \n",
        "                                            class_mode='categorical',\n",
        "                                            target_size=(224, 224))"
      ],
      "execution_count": 67,
      "outputs": [
        {
          "output_type": "stream",
          "text": [
            "Found 8376 images belonging to 3 classes.\n",
            "Found 2792 images belonging to 3 classes.\n",
            "Found 2790 images belonging to 3 classes.\n"
          ],
          "name": "stdout"
        }
      ]
    },
    {
      "cell_type": "code",
      "metadata": {
        "id": "afCHVUFbAqQo"
      },
      "source": [
        "import os\n",
        "import numpy as np\n",
        "import pandas as pd \n",
        "import matplotlib.pyplot as plt\n",
        "import seaborn as sns\n",
        "import tensorflow as tf\n",
        "from tensorflow import keras\n",
        "from keras.models import Sequential\n",
        "from keras.layers import Dense, Conv2D, MaxPool2D, Dropout, Flatten, BatchNormalization\n",
        "\n",
        "\n",
        "model = Sequential()\n",
        "model.add(Conv2D(32,kernel_size=(3,3),activation='relu',input_shape=(224,224,3)))\n",
        "model.add(Conv2D(64,(3,3),activation='relu'))\n",
        "model.add(MaxPool2D(pool_size=(2,2)))\n",
        "model.add(Dropout(0.25))\n",
        "\n",
        "model.add(Conv2D(64,(3,3),activation='relu'))\n",
        "model.add(MaxPool2D(pool_size=(2,2)))\n",
        "model.add(Dropout(0.2))\n",
        "\n",
        "model.add(Conv2D(64,(3,3),activation='relu'))\n",
        "model.add(MaxPool2D(pool_size=(2,2)))\n",
        "model.add(Dropout(0.3))\n",
        "\n",
        "model.add(Flatten())\n",
        "# model.add(Dense(64,activation='relu'))\n",
        "\n",
        "model.add(Dense(3,activation='softmax'))\n",
        "\n",
        "model.compile(loss=keras.losses.categorical_crossentropy,optimizer='adam',metrics=['accuracy'])"
      ],
      "execution_count": 68,
      "outputs": []
    },
    {
      "cell_type": "code",
      "metadata": {
        "colab": {
          "base_uri": "https://localhost:8080/"
        },
        "id": "l885YhigBD1o",
        "outputId": "be571fbe-77ae-4e06-b213-4b49cb3f0fc1"
      },
      "source": [
        "model.summary()"
      ],
      "execution_count": 69,
      "outputs": [
        {
          "output_type": "stream",
          "text": [
            "Model: \"sequential_3\"\n",
            "_________________________________________________________________\n",
            "Layer (type)                 Output Shape              Param #   \n",
            "=================================================================\n",
            "conv2d_12 (Conv2D)           (None, 222, 222, 32)      896       \n",
            "_________________________________________________________________\n",
            "conv2d_13 (Conv2D)           (None, 220, 220, 64)      18496     \n",
            "_________________________________________________________________\n",
            "max_pooling2d_9 (MaxPooling2 (None, 110, 110, 64)      0         \n",
            "_________________________________________________________________\n",
            "dropout_9 (Dropout)          (None, 110, 110, 64)      0         \n",
            "_________________________________________________________________\n",
            "conv2d_14 (Conv2D)           (None, 108, 108, 64)      36928     \n",
            "_________________________________________________________________\n",
            "max_pooling2d_10 (MaxPooling (None, 54, 54, 64)        0         \n",
            "_________________________________________________________________\n",
            "dropout_10 (Dropout)         (None, 54, 54, 64)        0         \n",
            "_________________________________________________________________\n",
            "conv2d_15 (Conv2D)           (None, 52, 52, 64)        36928     \n",
            "_________________________________________________________________\n",
            "max_pooling2d_11 (MaxPooling (None, 26, 26, 64)        0         \n",
            "_________________________________________________________________\n",
            "dropout_11 (Dropout)         (None, 26, 26, 64)        0         \n",
            "_________________________________________________________________\n",
            "flatten_3 (Flatten)          (None, 43264)             0         \n",
            "_________________________________________________________________\n",
            "dense_3 (Dense)              (None, 3)                 129795    \n",
            "=================================================================\n",
            "Total params: 223,043\n",
            "Trainable params: 223,043\n",
            "Non-trainable params: 0\n",
            "_________________________________________________________________\n"
          ],
          "name": "stdout"
        }
      ]
    },
    {
      "cell_type": "code",
      "metadata": {
        "colab": {
          "base_uri": "https://localhost:8080/"
        },
        "id": "ulAMDnP_BNe9",
        "outputId": "b96f9b97-42d0-4a78-caf9-e132f57c2680"
      },
      "source": [
        "\n",
        "r = model.fit(\n",
        "    train, \n",
        "    epochs=20,\n",
        "    validation_data=validation,\n",
        "    validation_steps=262,\n",
        ")"
      ],
      "execution_count": 70,
      "outputs": [
        {
          "output_type": "stream",
          "text": [
            "Epoch 1/20\n",
            "262/262 [==============================] - 244s 741ms/step - loss: 0.6332 - accuracy: 0.7093 - val_loss: 0.4964 - val_accuracy: 0.8130\n",
            "Epoch 2/20\n",
            "262/262 [==============================] - 143s 544ms/step - loss: 0.3176 - accuracy: 0.8716 - val_loss: 0.4390 - val_accuracy: 0.8511\n",
            "Epoch 3/20\n",
            "262/262 [==============================] - 142s 541ms/step - loss: 0.2708 - accuracy: 0.8963 - val_loss: 0.3804 - val_accuracy: 0.8588\n",
            "Epoch 4/20\n",
            "262/262 [==============================] - 143s 546ms/step - loss: 0.2383 - accuracy: 0.9094 - val_loss: 0.2964 - val_accuracy: 0.9008\n",
            "Epoch 5/20\n",
            "262/262 [==============================] - 142s 542ms/step - loss: 0.1881 - accuracy: 0.9301 - val_loss: 0.4338 - val_accuracy: 0.8740\n",
            "Epoch 6/20\n",
            "262/262 [==============================] - 143s 546ms/step - loss: 0.1804 - accuracy: 0.9314 - val_loss: 0.4760 - val_accuracy: 0.8588\n",
            "Epoch 7/20\n",
            "262/262 [==============================] - 141s 540ms/step - loss: 0.1519 - accuracy: 0.9440 - val_loss: 0.1873 - val_accuracy: 0.9389\n",
            "Epoch 8/20\n",
            "262/262 [==============================] - 141s 538ms/step - loss: 0.1249 - accuracy: 0.9509 - val_loss: 0.3721 - val_accuracy: 0.8779\n",
            "Epoch 9/20\n",
            "262/262 [==============================] - 143s 547ms/step - loss: 0.1207 - accuracy: 0.9548 - val_loss: 0.2498 - val_accuracy: 0.9008\n",
            "Epoch 10/20\n",
            "262/262 [==============================] - 142s 540ms/step - loss: 0.1198 - accuracy: 0.9556 - val_loss: 0.3152 - val_accuracy: 0.9008\n",
            "Epoch 11/20\n",
            "262/262 [==============================] - 142s 543ms/step - loss: 0.1012 - accuracy: 0.9637 - val_loss: 0.1974 - val_accuracy: 0.9389\n",
            "Epoch 12/20\n",
            "262/262 [==============================] - 142s 543ms/step - loss: 0.0950 - accuracy: 0.9678 - val_loss: 0.2551 - val_accuracy: 0.9160\n",
            "Epoch 13/20\n",
            "262/262 [==============================] - 142s 543ms/step - loss: 0.0987 - accuracy: 0.9640 - val_loss: 0.1783 - val_accuracy: 0.9695\n",
            "Epoch 14/20\n",
            "262/262 [==============================] - 143s 543ms/step - loss: 0.0876 - accuracy: 0.9672 - val_loss: 0.1398 - val_accuracy: 0.9695\n",
            "Epoch 15/20\n",
            "262/262 [==============================] - 143s 547ms/step - loss: 0.0942 - accuracy: 0.9645 - val_loss: 0.1622 - val_accuracy: 0.9466\n",
            "Epoch 16/20\n",
            "262/262 [==============================] - 141s 538ms/step - loss: 0.0908 - accuracy: 0.9660 - val_loss: 0.2349 - val_accuracy: 0.9618\n",
            "Epoch 17/20\n",
            "262/262 [==============================] - 142s 541ms/step - loss: 0.0682 - accuracy: 0.9731 - val_loss: 0.2484 - val_accuracy: 0.9008\n",
            "Epoch 18/20\n",
            "262/262 [==============================] - 145s 552ms/step - loss: 0.0701 - accuracy: 0.9748 - val_loss: 0.2843 - val_accuracy: 0.9313\n",
            "Epoch 19/20\n",
            "262/262 [==============================] - 143s 544ms/step - loss: 0.0650 - accuracy: 0.9743 - val_loss: 0.3233 - val_accuracy: 0.9504\n",
            "Epoch 20/20\n",
            "262/262 [==============================] - 143s 547ms/step - loss: 0.0618 - accuracy: 0.9774 - val_loss: 0.2155 - val_accuracy: 0.9389\n"
          ],
          "name": "stdout"
        }
      ]
    },
    {
      "cell_type": "code",
      "metadata": {
        "id": "D4Rkdrb1BS6j",
        "colab": {
          "base_uri": "https://localhost:8080/",
          "height": 276
        },
        "outputId": "36ffb2db-fd56-4462-942c-8edbbc93f4fe"
      },
      "source": [
        "plt.figure(figsize=(12, 8))\n",
        "\n",
        "plt.subplot(2, 2, 1)\n",
        "plt.plot(r.history['loss'], label='Training Loss',scalex=True)\n",
        "plt.plot(r.history['val_loss'], label='Validation Loss',scalex=True)\n",
        "plt.xlabel(\"Epoch\")\n",
        "plt.ylabel(\"Loss\")\n",
        "\n",
        "plt.xlim(0,8)\n",
        "plt.legend()\n",
        "plt.title('Evaluation of loss')\n",
        "\n",
        "plt.subplot(2, 2, 2)\n",
        "plt.plot(r.history['accuracy'], label='Training Accuracy')\n",
        "plt.plot(r.history['val_accuracy'], label='Validation Accuracy')\n",
        "plt.xlabel(\"Epoch\")\n",
        "plt.ylabel(\"Accuracy\")\n",
        "plt.xlim(0,8)\n",
        "plt.legend()\n",
        "plt.title('Evaluation of accuracy')\n",
        "plt.savefig(\"cnn_curve3.png\")"
      ],
      "execution_count": 71,
      "outputs": [
        {
          "output_type": "display_data",
          "data": {
            "image/png": "[encoded data removed]",
            "text/plain": [
              "<Figure size 864x576 with 2 Axes>"
            ]
          },
          "metadata": {
            "tags": [],
            "needs_background": "light"
          }
        }
      ]
    },
    {
      "cell_type": "code",
      "metadata": {
        "colab": {
          "base_uri": "https://localhost:8080/"
        },
        "id": "6TEgihadEb7P",
        "outputId": "e60eb5de-f2ad-4bdb-ee25-1cf9270acf9a"
      },
      "source": [
        "evaluation = model.evaluate(test)\n",
        "print(f\"Test Accuracy: {evaluation[1] * 100:.2f}%\")\n",
        "\n",
        "evaluation = model.evaluate(train)\n",
        "print(f\"Train Accuracy: {evaluation[1] * 100:.2f}%\")"
      ],
      "execution_count": 72,
      "outputs": [
        {
          "output_type": "stream",
          "text": [
            "2790/2790 [==============================] - 47s 17ms/step - loss: 0.2800 - accuracy: 0.9176\n",
            "Test Accuracy: 91.76%\n",
            "262/262 [==============================] - 133s 507ms/step - loss: 0.0352 - accuracy: 0.9865\n",
            "Train Accuracy: 98.65%\n"
          ],
          "name": "stdout"
        }
      ]
    },
    {
      "cell_type": "code",
      "metadata": {
        "colab": {
          "base_uri": "https://localhost:8080/"
        },
        "id": "F_EVOhPwF70x",
        "outputId": "99b117f9-607e-4de1-e7f6-7504c61a1780"
      },
      "source": [
        "from keras.utils.np_utils import to_categorical \n",
        "num_classes=len(test.class_indices)\n",
        "\n",
        "test_labels = test.classes  \n",
        "test_labels = to_categorical(test_labels, num_classes=num_classes) \n",
        "test_labels"
      ],
      "execution_count": 73,
      "outputs": [
        {
          "output_type": "execute_result",
          "data": {
            "text/plain": [
              "array([[1., 0., 0.],\n",
              "       [1., 0., 0.],\n",
              "       [1., 0., 0.],\n",
              "       ...,\n",
              "       [0., 0., 1.],\n",
              "       [0., 0., 1.],\n",
              "       [0., 0., 1.]], dtype=float32)"
            ]
          },
          "metadata": {
            "tags": []
          },
          "execution_count": 73
        }
      ]
    },
    {
      "cell_type": "code",
      "metadata": {
        "colab": {
          "base_uri": "https://localhost:8080/",
          "height": 172
        },
        "id": "VLpBmlxuJXAf",
        "outputId": "9c8f05c5-d77f-40dd-8b3b-aa838c268795"
      },
      "source": [
        "from sklearn.metrics import confusion_matrix, classification_report\n",
        "\n",
        "# rounded_labels=np.argmax(test, axis=1)\n",
        "\n",
        "pred = model.predict(test)\n",
        "# pred = np.argmax(predictions, axis=1)\n",
        "\n",
        "y_pred=np.argmax(pred, axis=1)\n",
        "y_test=np.argmax(test_labels, axis=1)\n",
        "\n",
        "\n",
        "cnf_matrix=confusion_matrix(y_test, y_pred)\n",
        "pd.DataFrame(classification_report(y_test,y_pred,output_dict=True))"
      ],
      "execution_count": 74,
      "outputs": [
        {
          "output_type": "execute_result",
          "data": {
            "text/html": [
              "<div>\n",
              "<style scoped>\n",
              "    .dataframe tbody tr th:only-of-type {\n",
              "        vertical-align: middle;\n",
              "    }\n",
              "\n",
              "    .dataframe tbody tr th {\n",
              "        vertical-align: top;\n",
              "    }\n",
              "\n",
              "    .dataframe thead th {\n",
              "        text-align: right;\n",
              "    }\n",
              "</style>\n",
              "<table border=\"1\" class=\"dataframe\">\n",
              "  <thead>\n",
              "    <tr style=\"text-align: right;\">\n",
              "      <th></th>\n",
              "      <th>0</th>\n",
              "      <th>1</th>\n",
              "      <th>2</th>\n",
              "      <th>accuracy</th>\n",
              "      <th>macro avg</th>\n",
              "      <th>weighted avg</th>\n",
              "    </tr>\n",
              "  </thead>\n",
              "  <tbody>\n",
              "    <tr>\n",
              "      <th>precision</th>\n",
              "      <td>0.934409</td>\n",
              "      <td>0.846006</td>\n",
              "      <td>0.991474</td>\n",
              "      <td>0.91828</td>\n",
              "      <td>0.923963</td>\n",
              "      <td>0.923963</td>\n",
              "    </tr>\n",
              "    <tr>\n",
              "      <th>recall</th>\n",
              "      <td>0.934409</td>\n",
              "      <td>0.945161</td>\n",
              "      <td>0.875269</td>\n",
              "      <td>0.91828</td>\n",
              "      <td>0.918280</td>\n",
              "      <td>0.918280</td>\n",
              "    </tr>\n",
              "    <tr>\n",
              "      <th>f1-score</th>\n",
              "      <td>0.934409</td>\n",
              "      <td>0.892839</td>\n",
              "      <td>0.929754</td>\n",
              "      <td>0.91828</td>\n",
              "      <td>0.919001</td>\n",
              "      <td>0.919001</td>\n",
              "    </tr>\n",
              "    <tr>\n",
              "      <th>support</th>\n",
              "      <td>930.000000</td>\n",
              "      <td>930.000000</td>\n",
              "      <td>930.000000</td>\n",
              "      <td>0.91828</td>\n",
              "      <td>2790.000000</td>\n",
              "      <td>2790.000000</td>\n",
              "    </tr>\n",
              "  </tbody>\n",
              "</table>\n",
              "</div>"
            ],
            "text/plain": [
              "                    0           1  ...    macro avg  weighted avg\n",
              "precision    0.934409    0.846006  ...     0.923963      0.923963\n",
              "recall       0.934409    0.945161  ...     0.918280      0.918280\n",
              "f1-score     0.934409    0.892839  ...     0.919001      0.919001\n",
              "support    930.000000  930.000000  ...  2790.000000   2790.000000\n",
              "\n",
              "[4 rows x 6 columns]"
            ]
          },
          "metadata": {
            "tags": []
          },
          "execution_count": 74
        }
      ]
    },
    {
      "cell_type": "code",
      "metadata": {
        "id": "taN9AAg8JbMV"
      },
      "source": [
        "\n",
        "def plot_confusion_matrix(cm, classes,\n",
        "                          normalize=False,\n",
        "                          title='',\n",
        "                          cmap=plt.cm.Blues):\n",
        "    \"\"\"\n",
        "    This function prints and plots the confusion matrix.\n",
        "    Normalization can be applied by setting `normalize=True`.\n",
        "    \"\"\"\n",
        "    import itertools\n",
        "    if normalize:\n",
        "        cm = cm.astype('float') / cm.sum(axis=1)[:, np.newaxis]\n",
        "        print(\"Normalized confusion matrix\")\n",
        "    else:\n",
        "        print('Confusion matrix, without normalization')\n",
        "\n",
        "    print(cm)\n",
        "\n",
        "    plt.imshow(cm, interpolation='nearest', cmap=cmap)\n",
        "    plt.title(title)\n",
        "    plt.colorbar()\n",
        "    tick_marks = np.arange(len(classes))\n",
        "    plt.xticks(tick_marks, classes, rotation=45)\n",
        "    plt.yticks(tick_marks, classes)\n",
        "\n",
        "    fmt = '.2f' if normalize else 'd'\n",
        "    thresh = cm.max() / 2.\n",
        "    for i, j in itertools.product(range(cm.shape[0]), range(cm.shape[1])):\n",
        "        plt.text(j, i, format(cm[i, j], fmt),\n",
        "                 horizontalalignment=\"center\",\n",
        "                 color=\"white\" if cm[i, j] > thresh else \"black\")\n",
        "\n",
        "    plt.ylabel('True label')\n",
        "    plt.xlabel('Predicted label')\n",
        "    plt.tight_layout()"
      ],
      "execution_count": 75,
      "outputs": []
    },
    {
      "cell_type": "code",
      "metadata": {
        "colab": {
          "base_uri": "https://localhost:8080/",
          "height": 364
        },
        "id": "KTJcO-qDJqdL",
        "outputId": "2c3e5059-6757-4b0c-accc-c01f7713e91e"
      },
      "source": [
        "plt.figure()\n",
        "plot_confusion_matrix(cnf_matrix, classes=['COVID-19', 'Normal', 'Pneumonia'])\n",
        "plt.savefig(\"CNN_CONFUTIONMATRIX3.png\")"
      ],
      "execution_count": 76,
      "outputs": [
        {
          "output_type": "stream",
          "text": [
            "Confusion matrix, without normalization\n",
            "[[869  58   3]\n",
            " [ 47 879   4]\n",
            " [ 14 102 814]]\n"
          ],
          "name": "stdout"
        },
        {
          "output_type": "display_data",
          "data": {
            "image/png": "[encoded data removed]",
            "text/plain": [
              "<Figure size 432x288 with 2 Axes>"
            ]
          },
          "metadata": {
            "tags": [],
            "needs_background": "light"
          }
        }
      ]
    },
    {
      "cell_type": "code",
      "metadata": {
        "id": "TCngtM4gJye0"
      },
      "source": [
        "model.save('tamim_cnn_model_final_1.h5')"
      ],
      "execution_count": 77,
      "outputs": []
    },
    {
      "cell_type": "code",
      "metadata": {
        "id": "ml6W7cbCLsmi"
      },
      "source": [
        ""
      ],
      "execution_count": null,
      "outputs": []
    }
  ]
}
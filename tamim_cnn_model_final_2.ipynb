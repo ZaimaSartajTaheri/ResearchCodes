{
  "nbformat": 4,
  "nbformat_minor": 0,
  "metadata": {
    "accelerator": "GPU",
    "colab": {
      "name": "tamim_cnn_model_final_2.ipynb",
      "provenance": [],
      "authorship_tag": "ABX9TyMx4hUoAqTXWBE+C+3ddir4",
      "include_colab_link": true
    },
    "kernelspec": {
      "display_name": "Python 3",
      "name": "python3"
    },
    "language_info": {
      "name": "python"
    }
  },
  "cells": [
    {
      "cell_type": "markdown",
      "metadata": {
        "id": "view-in-github",
        "colab_type": "text"
      },
      "source": [
        "<a href=\"https://colab.research.google.com/github/ZaimaSartajTaheri/ResearchCodes/blob/main/tamim_cnn_model_final_2.ipynb\" target=\"_parent\"><img src=\"https://colab.research.google.com/assets/colab-badge.svg\" alt=\"Open In Colab\"/></a>"
      ]
    },
    {
      "cell_type": "code",
      "metadata": {
        "colab": {
          "base_uri": "https://localhost:8080/"
        },
        "id": "mjiMqytvAVel",
        "outputId": "4eef658f-1a41-4c32-e5c3-6005a8b34882"
      },
      "source": [
        "from google.colab import drive\n",
        "drive.mount(\"/content/drive/\")"
      ],
      "execution_count": 46,
      "outputs": [
        {
          "output_type": "stream",
          "text": [
            "Drive already mounted at /content/drive/; to attempt to forcibly remount, call drive.mount(\"/content/drive/\", force_remount=True).\n"
          ],
          "name": "stdout"
        }
      ]
    },
    {
      "cell_type": "code",
      "metadata": {
        "id": "TyoY5NUxAWSs"
      },
      "source": [
        "test_dir=\"/content/drive/MyDrive/CovidDataset/Test\"\n",
        "train_dir=\"/content/drive/MyDrive/CovidDataset/Train\"\n",
        "val_dir=\"/content/drive/MyDrive/CovidDataset/Val\""
      ],
      "execution_count": 47,
      "outputs": []
    },
    {
      "cell_type": "code",
      "metadata": {
        "id": "hYxw-ReVAiu2"
      },
      "source": [
        "from keras.preprocessing.image import ImageDataGenerator, array_to_img, img_to_array, load_img\n",
        "from keras import optimizers\n",
        "from keras.callbacks import History \n",
        "from keras.preprocessing.image import ImageDataGenerator\n",
        "\n",
        "image_generator = ImageDataGenerator(\n",
        "    # rotation_range=20,\n",
        "     #width_shift_range=0.1,\n",
        "    # shear_range=0.1,\n",
        "     zoom_range=0.1,\n",
        "    samplewise_center=True,\n",
        "    samplewise_std_normalization=True\n",
        ")"
      ],
      "execution_count": 48,
      "outputs": []
    },
    {
      "cell_type": "code",
      "metadata": {
        "colab": {
          "base_uri": "https://localhost:8080/"
        },
        "id": "Fp8VLJKUAlxg",
        "outputId": "bb29b9ec-7a7c-4a2e-b5d4-2b4463a361d9"
      },
      "source": [
        "train = image_generator.flow_from_directory(train_dir, \n",
        "                                            batch_size=32, \n",
        "                                            shuffle=True, \n",
        "                                            class_mode='categorical',\n",
        "                                            target_size=(224, 224))\n",
        "\n",
        "validation =image_generator.flow_from_directory(val_dir, \n",
        "                                                batch_size=1, \n",
        "                                                shuffle=False, \n",
        "                                                class_mode='categorical',\n",
        "                                                target_size=(224, 224))\n",
        "\n",
        "test =image_generator.flow_from_directory(test_dir, \n",
        "                                            batch_size=1, \n",
        "                                            shuffle=False, \n",
        "                                            class_mode='categorical',\n",
        "                                            target_size=(224, 224))"
      ],
      "execution_count": 49,
      "outputs": [
        {
          "output_type": "stream",
          "text": [
            "Found 8376 images belonging to 3 classes.\n",
            "Found 2792 images belonging to 3 classes.\n",
            "Found 2790 images belonging to 3 classes.\n"
          ],
          "name": "stdout"
        }
      ]
    },
    {
      "cell_type": "code",
      "metadata": {
        "id": "afCHVUFbAqQo"
      },
      "source": [
        "import os\n",
        "import numpy as np\n",
        "import pandas as pd \n",
        "import matplotlib.pyplot as plt\n",
        "import seaborn as sns\n",
        "import tensorflow as tf\n",
        "from tensorflow import keras\n",
        "from keras.models import Sequential\n",
        "from keras.layers import Dense, Conv2D, MaxPool2D, Dropout, Flatten, BatchNormalization\n",
        "\n",
        "\n",
        "model = Sequential()\n",
        "model.add(Conv2D(32,kernel_size=(3,3),activation='relu',input_shape=(224,224,3)))\n",
        "model.add(Conv2D(64,(3,3),activation='relu'))\n",
        "model.add(MaxPool2D(pool_size=(2,2)))\n",
        "model.add(Dropout(0.25))\n",
        "\n",
        "model.add(Conv2D(64,(3,3),activation='relu'))\n",
        "model.add(MaxPool2D(pool_size=(2,2)))\n",
        "model.add(Dropout(0.2))\n",
        "\n",
        "model.add(Conv2D(64,(3,3),activation='relu'))\n",
        "model.add(MaxPool2D(pool_size=(2,2)))\n",
        "model.add(Dropout(0.3))\n",
        "\n",
        "model.add(Flatten())\n",
        "# model.add(Dense(64,activation='relu'))\n",
        "\n",
        "model.add(Dense(3,activation='softmax'))\n",
        "\n",
        "model.compile(loss=keras.losses.categorical_crossentropy,optimizer='adam',metrics=['accuracy'])"
      ],
      "execution_count": 50,
      "outputs": []
    },
    {
      "cell_type": "code",
      "metadata": {
        "colab": {
          "base_uri": "https://localhost:8080/"
        },
        "id": "l885YhigBD1o",
        "outputId": "cc8e7fbe-1c45-418f-8863-dcb57b1f1b89"
      },
      "source": [
        "model.summary()"
      ],
      "execution_count": 51,
      "outputs": [
        {
          "output_type": "stream",
          "text": [
            "Model: \"sequential_2\"\n",
            "_________________________________________________________________\n",
            "Layer (type)                 Output Shape              Param #   \n",
            "=================================================================\n",
            "conv2d_8 (Conv2D)            (None, 222, 222, 32)      896       \n",
            "_________________________________________________________________\n",
            "conv2d_9 (Conv2D)            (None, 220, 220, 64)      18496     \n",
            "_________________________________________________________________\n",
            "max_pooling2d_6 (MaxPooling2 (None, 110, 110, 64)      0         \n",
            "_________________________________________________________________\n",
            "dropout_6 (Dropout)          (None, 110, 110, 64)      0         \n",
            "_________________________________________________________________\n",
            "conv2d_10 (Conv2D)           (None, 108, 108, 64)      36928     \n",
            "_________________________________________________________________\n",
            "max_pooling2d_7 (MaxPooling2 (None, 54, 54, 64)        0         \n",
            "_________________________________________________________________\n",
            "dropout_7 (Dropout)          (None, 54, 54, 64)        0         \n",
            "_________________________________________________________________\n",
            "conv2d_11 (Conv2D)           (None, 52, 52, 64)        36928     \n",
            "_________________________________________________________________\n",
            "max_pooling2d_8 (MaxPooling2 (None, 26, 26, 64)        0         \n",
            "_________________________________________________________________\n",
            "dropout_8 (Dropout)          (None, 26, 26, 64)        0         \n",
            "_________________________________________________________________\n",
            "flatten_2 (Flatten)          (None, 43264)             0         \n",
            "_________________________________________________________________\n",
            "dense_2 (Dense)              (None, 3)                 129795    \n",
            "=================================================================\n",
            "Total params: 223,043\n",
            "Trainable params: 223,043\n",
            "Non-trainable params: 0\n",
            "_________________________________________________________________\n"
          ],
          "name": "stdout"
        }
      ]
    },
    {
      "cell_type": "code",
      "metadata": {
        "colab": {
          "base_uri": "https://localhost:8080/"
        },
        "id": "ulAMDnP_BNe9",
        "outputId": "0894ff7b-08ff-4119-e3ce-3c41d12354b9"
      },
      "source": [
        "\n",
        "r = model.fit(\n",
        "    train, \n",
        "    epochs=20,\n",
        "    validation_data=validation,\n",
        "    validation_steps=100,\n",
        ")"
      ],
      "execution_count": 52,
      "outputs": [
        {
          "output_type": "stream",
          "text": [
            "Epoch 1/20\n",
            "262/262 [==============================] - 144s 545ms/step - loss: 0.7897 - accuracy: 0.6703 - val_loss: 0.3673 - val_accuracy: 0.8800\n",
            "Epoch 2/20\n",
            "262/262 [==============================] - 138s 527ms/step - loss: 0.3679 - accuracy: 0.8428 - val_loss: 0.3905 - val_accuracy: 0.8800\n",
            "Epoch 3/20\n",
            "262/262 [==============================] - 140s 533ms/step - loss: 0.2881 - accuracy: 0.8810 - val_loss: 0.3110 - val_accuracy: 0.8900\n",
            "Epoch 4/20\n",
            "262/262 [==============================] - 138s 526ms/step - loss: 0.2521 - accuracy: 0.8985 - val_loss: 0.2430 - val_accuracy: 0.9200\n",
            "Epoch 5/20\n",
            "262/262 [==============================] - 138s 527ms/step - loss: 0.2123 - accuracy: 0.9179 - val_loss: 0.3157 - val_accuracy: 0.9000\n",
            "Epoch 6/20\n",
            "262/262 [==============================] - 140s 535ms/step - loss: 0.1704 - accuracy: 0.9346 - val_loss: 0.2233 - val_accuracy: 0.9300\n",
            "Epoch 7/20\n",
            "262/262 [==============================] - 139s 531ms/step - loss: 0.1804 - accuracy: 0.9287 - val_loss: 0.3988 - val_accuracy: 0.8800\n",
            "Epoch 8/20\n",
            "262/262 [==============================] - 139s 531ms/step - loss: 0.1536 - accuracy: 0.9441 - val_loss: 0.1502 - val_accuracy: 0.9300\n",
            "Epoch 9/20\n",
            "262/262 [==============================] - 142s 541ms/step - loss: 0.1437 - accuracy: 0.9465 - val_loss: 0.1187 - val_accuracy: 0.9600\n",
            "Epoch 10/20\n",
            "262/262 [==============================] - 142s 540ms/step - loss: 0.1106 - accuracy: 0.9594 - val_loss: 0.2038 - val_accuracy: 0.9200\n",
            "Epoch 11/20\n",
            "262/262 [==============================] - 144s 551ms/step - loss: 0.1171 - accuracy: 0.9543 - val_loss: 0.1911 - val_accuracy: 0.9300\n",
            "Epoch 12/20\n",
            "262/262 [==============================] - 142s 540ms/step - loss: 0.0939 - accuracy: 0.9624 - val_loss: 0.1308 - val_accuracy: 0.9400\n",
            "Epoch 13/20\n",
            "262/262 [==============================] - 143s 547ms/step - loss: 0.1059 - accuracy: 0.9589 - val_loss: 0.3018 - val_accuracy: 0.9400\n",
            "Epoch 14/20\n",
            "262/262 [==============================] - 140s 534ms/step - loss: 0.0968 - accuracy: 0.9655 - val_loss: 0.3103 - val_accuracy: 0.9100\n",
            "Epoch 15/20\n",
            "262/262 [==============================] - 141s 538ms/step - loss: 0.0890 - accuracy: 0.9645 - val_loss: 0.1387 - val_accuracy: 0.9500\n",
            "Epoch 16/20\n",
            "262/262 [==============================] - 140s 534ms/step - loss: 0.0877 - accuracy: 0.9682 - val_loss: 0.1828 - val_accuracy: 0.9600\n",
            "Epoch 17/20\n",
            "262/262 [==============================] - 141s 539ms/step - loss: 0.0775 - accuracy: 0.9729 - val_loss: 0.2089 - val_accuracy: 0.9500\n",
            "Epoch 18/20\n",
            "262/262 [==============================] - 141s 539ms/step - loss: 0.0705 - accuracy: 0.9747 - val_loss: 0.1319 - val_accuracy: 0.9600\n",
            "Epoch 19/20\n",
            "262/262 [==============================] - 141s 537ms/step - loss: 0.0846 - accuracy: 0.9687 - val_loss: 0.2079 - val_accuracy: 0.9500\n",
            "Epoch 20/20\n",
            "262/262 [==============================] - 140s 533ms/step - loss: 0.0617 - accuracy: 0.9776 - val_loss: 0.1935 - val_accuracy: 0.9400\n"
          ],
          "name": "stdout"
        }
      ]
    },
    {
      "cell_type": "code",
      "metadata": {
        "id": "D4Rkdrb1BS6j",
        "colab": {
          "base_uri": "https://localhost:8080/",
          "height": 276
        },
        "outputId": "3da96638-57a7-4c82-d9a9-19bc3165144f"
      },
      "source": [
        "plt.figure(figsize=(12, 8))\n",
        "\n",
        "plt.subplot(2, 2, 1)\n",
        "plt.plot(r.history['loss'], label='Training Loss',scalex=True)\n",
        "plt.plot(r.history['val_loss'], label='Validation Loss',scalex=True)\n",
        "plt.xlabel(\"Epoch\")\n",
        "plt.ylabel(\"Loss\")\n",
        "\n",
        "plt.xlim(0,8)\n",
        "plt.legend()\n",
        "plt.title('Evaluation of loss')\n",
        "\n",
        "plt.subplot(2, 2, 2)\n",
        "plt.plot(r.history['accuracy'], label='Training Accuracy')\n",
        "plt.plot(r.history['val_accuracy'], label='Validation Accuracy')\n",
        "plt.xlabel(\"Epoch\")\n",
        "plt.ylabel(\"Accuracy\")\n",
        "plt.xlim(0,8)\n",
        "plt.legend()\n",
        "plt.title('Evaluation of accuracy')\n",
        "plt.savefig(\"cnn_curve2.png\")"
      ],
      "execution_count": 58,
      "outputs": [
        {
          "output_type": "display_data",
          "data": {
            "image/png": "[encoded data removed]",
            "text/plain": [
              "<Figure size 864x576 with 2 Axes>"
            ]
          },
          "metadata": {
            "tags": [],
            "needs_background": "light"
          }
        }
      ]
    },
    {
      "cell_type": "code",
      "metadata": {
        "colab": {
          "base_uri": "https://localhost:8080/"
        },
        "id": "6TEgihadEb7P",
        "outputId": "9e1bac4c-c757-4452-d767-d4e23b55d5a9"
      },
      "source": [
        "evaluation = model.evaluate(test)\n",
        "print(f\"Test Accuracy: {evaluation[1] * 100:.2f}%\")\n",
        "\n",
        "evaluation = model.evaluate(train)\n",
        "print(f\"Train Accuracy: {evaluation[1] * 100:.2f}%\")"
      ],
      "execution_count": 59,
      "outputs": [
        {
          "output_type": "stream",
          "text": [
            "2790/2790 [==============================] - 49s 17ms/step - loss: 0.1994 - accuracy: 0.9362\n",
            "Test Accuracy: 93.62%\n",
            "262/262 [==============================] - 133s 509ms/step - loss: 0.0427 - accuracy: 0.9871\n",
            "Train Accuracy: 98.71%\n"
          ],
          "name": "stdout"
        }
      ]
    },
    {
      "cell_type": "code",
      "metadata": {
        "colab": {
          "base_uri": "https://localhost:8080/"
        },
        "id": "F_EVOhPwF70x",
        "outputId": "be21aa7d-2a26-49c9-ea00-5fe0115ea907"
      },
      "source": [
        "from keras.utils.np_utils import to_categorical \n",
        "num_classes=len(test.class_indices)\n",
        "\n",
        "test_labels = test.classes  \n",
        "test_labels = to_categorical(test_labels, num_classes=num_classes) \n",
        "test_labels"
      ],
      "execution_count": 60,
      "outputs": [
        {
          "output_type": "execute_result",
          "data": {
            "text/plain": [
              "array([[1., 0., 0.],\n",
              "       [1., 0., 0.],\n",
              "       [1., 0., 0.],\n",
              "       ...,\n",
              "       [0., 0., 1.],\n",
              "       [0., 0., 1.],\n",
              "       [0., 0., 1.]], dtype=float32)"
            ]
          },
          "metadata": {
            "tags": []
          },
          "execution_count": 60
        }
      ]
    },
    {
      "cell_type": "code",
      "metadata": {
        "colab": {
          "base_uri": "https://localhost:8080/",
          "height": 172
        },
        "id": "VLpBmlxuJXAf",
        "outputId": "f4c62865-12e9-4d6d-85ea-8ab2d3705a60"
      },
      "source": [
        "from sklearn.metrics import confusion_matrix, classification_report\n",
        "\n",
        "# rounded_labels=np.argmax(test, axis=1)\n",
        "\n",
        "pred = model.predict(test)\n",
        "# pred = np.argmax(predictions, axis=1)\n",
        "\n",
        "y_pred=np.argmax(pred, axis=1)\n",
        "y_test=np.argmax(test_labels, axis=1)\n",
        "\n",
        "\n",
        "cnf_matrix=confusion_matrix(y_test, y_pred)\n",
        "pd.DataFrame(classification_report(y_test,y_pred,output_dict=True))"
      ],
      "execution_count": 61,
      "outputs": [
        {
          "output_type": "execute_result",
          "data": {
            "text/html": [
              "<div>\n",
              "<style scoped>\n",
              "    .dataframe tbody tr th:only-of-type {\n",
              "        vertical-align: middle;\n",
              "    }\n",
              "\n",
              "    .dataframe tbody tr th {\n",
              "        vertical-align: top;\n",
              "    }\n",
              "\n",
              "    .dataframe thead th {\n",
              "        text-align: right;\n",
              "    }\n",
              "</style>\n",
              "<table border=\"1\" class=\"dataframe\">\n",
              "  <thead>\n",
              "    <tr style=\"text-align: right;\">\n",
              "      <th></th>\n",
              "      <th>0</th>\n",
              "      <th>1</th>\n",
              "      <th>2</th>\n",
              "      <th>accuracy</th>\n",
              "      <th>macro avg</th>\n",
              "      <th>weighted avg</th>\n",
              "    </tr>\n",
              "  </thead>\n",
              "  <tbody>\n",
              "    <tr>\n",
              "      <th>precision</th>\n",
              "      <td>0.931250</td>\n",
              "      <td>0.916579</td>\n",
              "      <td>0.990940</td>\n",
              "      <td>0.945161</td>\n",
              "      <td>0.946256</td>\n",
              "      <td>0.946256</td>\n",
              "    </tr>\n",
              "    <tr>\n",
              "      <th>recall</th>\n",
              "      <td>0.961290</td>\n",
              "      <td>0.933333</td>\n",
              "      <td>0.940860</td>\n",
              "      <td>0.945161</td>\n",
              "      <td>0.945161</td>\n",
              "      <td>0.945161</td>\n",
              "    </tr>\n",
              "    <tr>\n",
              "      <th>f1-score</th>\n",
              "      <td>0.946032</td>\n",
              "      <td>0.924880</td>\n",
              "      <td>0.965251</td>\n",
              "      <td>0.945161</td>\n",
              "      <td>0.945388</td>\n",
              "      <td>0.945388</td>\n",
              "    </tr>\n",
              "    <tr>\n",
              "      <th>support</th>\n",
              "      <td>930.000000</td>\n",
              "      <td>930.000000</td>\n",
              "      <td>930.000000</td>\n",
              "      <td>0.945161</td>\n",
              "      <td>2790.000000</td>\n",
              "      <td>2790.000000</td>\n",
              "    </tr>\n",
              "  </tbody>\n",
              "</table>\n",
              "</div>"
            ],
            "text/plain": [
              "                    0           1  ...    macro avg  weighted avg\n",
              "precision    0.931250    0.916579  ...     0.946256      0.946256\n",
              "recall       0.961290    0.933333  ...     0.945161      0.945161\n",
              "f1-score     0.946032    0.924880  ...     0.945388      0.945388\n",
              "support    930.000000  930.000000  ...  2790.000000   2790.000000\n",
              "\n",
              "[4 rows x 6 columns]"
            ]
          },
          "metadata": {
            "tags": []
          },
          "execution_count": 61
        }
      ]
    },
    {
      "cell_type": "code",
      "metadata": {
        "id": "taN9AAg8JbMV"
      },
      "source": [
        "\n",
        "def plot_confusion_matrix(cm, classes,\n",
        "                          normalize=False,\n",
        "                          title='',\n",
        "                          cmap=plt.cm.Blues):\n",
        "    \"\"\"\n",
        "    This function prints and plots the confusion matrix.\n",
        "    Normalization can be applied by setting `normalize=True`.\n",
        "    \"\"\"\n",
        "    import itertools\n",
        "    if normalize:\n",
        "        cm = cm.astype('float') / cm.sum(axis=1)[:, np.newaxis]\n",
        "        print(\"Normalized confusion matrix\")\n",
        "    else:\n",
        "        print('Confusion matrix, without normalization')\n",
        "\n",
        "    print(cm)\n",
        "\n",
        "    plt.imshow(cm, interpolation='nearest', cmap=cmap)\n",
        "    plt.title(title)\n",
        "    plt.colorbar()\n",
        "    tick_marks = np.arange(len(classes))\n",
        "    plt.xticks(tick_marks, classes, rotation=45)\n",
        "    plt.yticks(tick_marks, classes)\n",
        "\n",
        "    fmt = '.2f' if normalize else 'd'\n",
        "    thresh = cm.max() / 2.\n",
        "    for i, j in itertools.product(range(cm.shape[0]), range(cm.shape[1])):\n",
        "        plt.text(j, i, format(cm[i, j], fmt),\n",
        "                 horizontalalignment=\"center\",\n",
        "                 color=\"white\" if cm[i, j] > thresh else \"black\")\n",
        "\n",
        "    plt.ylabel('True label')\n",
        "    plt.xlabel('Predicted label')\n",
        "    plt.tight_layout()"
      ],
      "execution_count": 62,
      "outputs": []
    },
    {
      "cell_type": "code",
      "metadata": {
        "colab": {
          "base_uri": "https://localhost:8080/",
          "height": 364
        },
        "id": "KTJcO-qDJqdL",
        "outputId": "bb9266c6-b691-4edc-f090-428b6d82cf7f"
      },
      "source": [
        "plt.figure()\n",
        "plot_confusion_matrix(cnf_matrix, classes=['COVID-19', 'Normal', 'Pneumonia'])\n",
        "plt.savefig(\"CNN_CONFUTIONMATRIX2.png\")"
      ],
      "execution_count": 63,
      "outputs": [
        {
          "output_type": "stream",
          "text": [
            "Confusion matrix, without normalization\n",
            "[[894  35   1]\n",
            " [ 55 868   7]\n",
            " [ 11  44 875]]\n"
          ],
          "name": "stdout"
        },
        {
          "output_type": "display_data",
          "data": {
            "image/png": "[encoded data removed]",
            "text/plain": [
              "<Figure size 432x288 with 2 Axes>"
            ]
          },
          "metadata": {
            "tags": [],
            "needs_background": "light"
          }
        }
      ]
    },
    {
      "cell_type": "code",
      "metadata": {
        "id": "TCngtM4gJye0"
      },
      "source": [
        "model.save('tamim_cnn_model_final_1.h5')"
      ],
      "execution_count": 36,
      "outputs": []
    },
    {
      "cell_type": "code",
      "metadata": {
        "id": "ml6W7cbCLsmi"
      },
      "source": [
        ""
      ],
      "execution_count": null,
      "outputs": []
    }
  ]
}
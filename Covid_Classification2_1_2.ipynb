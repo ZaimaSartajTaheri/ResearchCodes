{
  "nbformat": 4,
  "nbformat_minor": 0,
  "metadata": {
    "colab": {
      "name": "Covid_Classification2_1.2.ipynb",
      "provenance": [],
      "authorship_tag": "ABX9TyPwVUBWa7cqy+4HUPOG0hS1",
      "include_colab_link": true
    },
    "kernelspec": {
      "name": "python3",
      "display_name": "Python 3"
    },
    "language_info": {
      "name": "python"
    },
    "accelerator": "GPU"
  },
  "cells": [
    {
      "cell_type": "markdown",
      "metadata": {
        "id": "view-in-github",
        "colab_type": "text"
      },
      "source": [
        "<a href=\"https://colab.research.google.com/github/ZaimaSartajTaheri/ResearchCodes/blob/main/Covid_Classification2_1_2.ipynb\" target=\"_parent\"><img src=\"https://colab.research.google.com/assets/colab-badge.svg\" alt=\"Open In Colab\"/></a>"
      ]
    },
    {
      "cell_type": "code",
      "metadata": {
        "colab": {
          "base_uri": "https://localhost:8080/"
        },
        "id": "yFVGZKGiZlMd",
        "outputId": "a1d57a4e-bb71-4e24-eaa3-81438876ed8c"
      },
      "source": [
        "!wget https://www.dropbox.com/sh/u98tzg3xfii3m9i/AACYPZMyhusI5Eh9pDiM5rIRa?dl=0"
      ],
      "execution_count": 21,
      "outputs": [
        {
          "output_type": "stream",
          "text": [
            "--2021-05-10 20:58:33--  https://www.dropbox.com/sh/u98tzg3xfii3m9i/AACYPZMyhusI5Eh9pDiM5rIRa?dl=0\n",
            "Resolving www.dropbox.com (www.dropbox.com)... 162.125.6.18, 2620:100:6019:18::a27d:412\n",
            "Connecting to www.dropbox.com (www.dropbox.com)|162.125.6.18|:443... connected.\n",
            "HTTP request sent, awaiting response... 301 Moved Permanently\n",
            "Location: /sh/raw/u98tzg3xfii3m9i/AACYPZMyhusI5Eh9pDiM5rIRa [following]\n",
            "--2021-05-10 20:58:33--  https://www.dropbox.com/sh/raw/u98tzg3xfii3m9i/AACYPZMyhusI5Eh9pDiM5rIRa\n",
            "Reusing existing connection to www.dropbox.com:443.\n",
            "HTTP request sent, awaiting response... 302 Found\n",
            "Location: https://ucd645776ef70c49baa6c3565869.dl.dropboxusercontent.com/zip_download_get/AxqOcPvTCchmnVKWOJRaGN9W9u-tcYvAP2qwUK6j7mdXWse9KMb7EHvXGqh43u9ZgoTFT8-WaLyXx7oSGqEBHGXv-E0nBVeDlEtYXTg2YYzvHg [following]\n",
            "--2021-05-10 20:58:39--  https://ucd645776ef70c49baa6c3565869.dl.dropboxusercontent.com/zip_download_get/AxqOcPvTCchmnVKWOJRaGN9W9u-tcYvAP2qwUK6j7mdXWse9KMb7EHvXGqh43u9ZgoTFT8-WaLyXx7oSGqEBHGXv-E0nBVeDlEtYXTg2YYzvHg\n",
            "Resolving ucd645776ef70c49baa6c3565869.dl.dropboxusercontent.com (ucd645776ef70c49baa6c3565869.dl.dropboxusercontent.com)... 162.125.6.15, 2620:100:6019:15::a27d:40f\n",
            "Connecting to ucd645776ef70c49baa6c3565869.dl.dropboxusercontent.com (ucd645776ef70c49baa6c3565869.dl.dropboxusercontent.com)|162.125.6.15|:443... connected.\n",
            "HTTP request sent, awaiting response... 200 OK\n",
            "Length: 1076468764 (1.0G) [application/zip]\n",
            "Saving to: ‘AACYPZMyhusI5Eh9pDiM5rIRa?dl=0.1’\n",
            "\n",
            "AACYPZMyhusI5Eh9pDi 100%[===================>]   1.00G   541KB/s    in 10m 31s \n",
            "\n",
            "2021-05-10 21:09:14 (1.63 MB/s) - ‘AACYPZMyhusI5Eh9pDiM5rIRa?dl=0.1’ saved [1076468764/1076468764]\n",
            "\n"
          ],
          "name": "stdout"
        }
      ]
    },
    {
      "cell_type": "code",
      "metadata": {
        "colab": {
          "base_uri": "https://localhost:8080/"
        },
        "id": "2_5DbbIXbqte",
        "outputId": "c855273d-7fb4-4ea9-e199-74d706cdd262"
      },
      "source": [
        "!unzip AACYPZMyhusI5Eh9pDiM5rIRa?dl=0"
      ],
      "execution_count": 22,
      "outputs": [
        {
          "output_type": "stream",
          "text": [
            "Archive:  AACYPZMyhusI5Eh9pDiM5rIRa?dl=0\n",
            "warning:  stripped absolute path spec from /\n",
            "mapname:  conversion of  failed\n",
            "replace Val/Covid/COVID_val_5.jpg? [y]es, [n]o, [A]ll, [N]one, [r]ename: y\n",
            " extracting: Val/Covid/COVID_val_5.jpg  \n",
            "replace Val/Covid/COVID_val_4.jpg? [y]es, [n]o, [A]ll, [N]one, [r]ename: yy\n",
            " extracting: Val/Covid/COVID_val_4.jpg  \n",
            "replace Val/Covid/COVID_val_2.jpg? [y]es, [n]o, [A]ll, [N]one, [r]ename: y\n",
            " extracting: Val/Covid/COVID_val_2.jpg  \n",
            "replace Val/Covid/COVID_val_3.jpg? [y]es, [n]o, [A]ll, [N]one, [r]ename: y\n",
            " extracting: Val/Covid/COVID_val_3.jpg  \n",
            "replace Val/Covid/COVID_val_1.jpg? [y]es, [n]o, [A]ll, [N]one, [r]ename: y\n",
            " extracting: Val/Covid/COVID_val_1.jpg  \n",
            "replace Val/Covid/COVID_val_7.jpg? [y]es, [n]o, [A]ll, [N]one, [r]ename: y\n",
            " extracting: Val/Covid/COVID_val_7.jpg  \n",
            "replace Val/Covid/COVID_val_9.jpg? [y]es, [n]o, [A]ll, [N]one, [r]ename: "
          ],
          "name": "stdout"
        }
      ]
    },
    {
      "cell_type": "code",
      "metadata": {
        "id": "1clZgK5rxyoN"
      },
      "source": [
        "import os\n",
        "import numpy as np\n",
        "import pandas as pd \n",
        "import matplotlib.pyplot as plt\n",
        "import seaborn as sns\n",
        "import tensorflow as tf\n",
        "from tensorflow import keras"
      ],
      "execution_count": 5,
      "outputs": []
    },
    {
      "cell_type": "code",
      "metadata": {
        "id": "hoF10WhOx-Ep"
      },
      "source": [
        "from keras.preprocessing.image import ImageDataGenerator\n",
        "\n",
        "image_generator = ImageDataGenerator(\n",
        "    # rotation_range=20,\n",
        "    # width_shift_range=0.1,\n",
        "    # shear_range=0.1,\n",
        "    # zoom_range=0.1,\n",
        "    samplewise_center=True,\n",
        "    samplewise_std_normalization=True\n",
        ")"
      ],
      "execution_count": 7,
      "outputs": []
    },
    {
      "cell_type": "code",
      "metadata": {
        "colab": {
          "base_uri": "https://localhost:8080/"
        },
        "id": "Tm7cUq3cyjSw",
        "outputId": "b5c03a77-97ba-45ed-8e68-2137429fede8"
      },
      "source": [
        "train = image_generator.flow_from_directory('Train', \n",
        "                                            batch_size=8, \n",
        "                                            shuffle=True, \n",
        "                                            class_mode='binary',\n",
        "                                            target_size=(224, 224))\n",
        "\n",
        "validation = image_generator.flow_from_directory('Val', \n",
        "                                                batch_size=1, \n",
        "                                                shuffle=False, \n",
        "                                                class_mode='binary',\n",
        "                                                target_size=(224, 224))\n",
        "\n",
        "test = image_generator.flow_from_directory('Test', \n",
        "                                            batch_size=1, \n",
        "                                            shuffle=False, \n",
        "                                            class_mode='binary',\n",
        "                                            target_size=(224, 224))"
      ],
      "execution_count": 8,
      "outputs": [
        {
          "output_type": "stream",
          "text": [
            "Found 5581 images belonging to 2 classes.\n",
            "Found 1822 images belonging to 2 classes.\n",
            "Found 1635 images belonging to 2 classes.\n"
          ],
          "name": "stdout"
        }
      ]
    },
    {
      "cell_type": "code",
      "metadata": {
        "colab": {
          "base_uri": "https://localhost:8080/"
        },
        "id": "jehGPjSa_1Bx",
        "outputId": "efdc9321-71a9-4712-f80a-ae7422a0575f"
      },
      "source": [
        "train.target_size"
      ],
      "execution_count": 9,
      "outputs": [
        {
          "output_type": "execute_result",
          "data": {
            "text/plain": [
              "(224, 224)"
            ]
          },
          "metadata": {
            "tags": []
          },
          "execution_count": 9
        }
      ]
    },
    {
      "cell_type": "code",
      "metadata": {
        "id": "hV6d2FQOzjBD"
      },
      "source": [
        "num_covid=len(os.listdir(os.path.join('Train', 'Covid')))\n",
        "num_normal=len(os.listdir(os.path.join('Train', 'Normal')))"
      ],
      "execution_count": 10,
      "outputs": []
    },
    {
      "cell_type": "code",
      "metadata": {
        "colab": {
          "base_uri": "https://localhost:8080/"
        },
        "id": "XhJZDYN_2KVi",
        "outputId": "e9ea588f-9498-4f93-ef59-230da58cb1a7"
      },
      "source": [
        "weight_for_0 = num_covid / (num_normal + num_covid)\n",
        "weight_for_1 = num_normal / (num_normal + num_covid)\n",
        "\n",
        "class_weight = {0: weight_for_0, 1: weight_for_1}\n",
        "\n",
        "print(f\"Weight for class 0: {weight_for_0:.2f}\")\n",
        "print(f\"Weight for class 1: {weight_for_1:.2f}\")"
      ],
      "execution_count": 11,
      "outputs": [
        {
          "output_type": "stream",
          "text": [
            "Weight for class 0: 0.50\n",
            "Weight for class 1: 0.50\n"
          ],
          "name": "stdout"
        }
      ]
    },
    {
      "cell_type": "code",
      "metadata": {
        "id": "75mFTsE12eOG"
      },
      "source": [
        "from keras.models import Sequential\n",
        "from keras.layers import Dense, Conv2D, MaxPool2D, Dropout, Flatten, BatchNormalization\n",
        "\n",
        "\n",
        "model = Sequential()\n",
        "model.add(Conv2D(32,kernel_size=(3,3),activation='relu',input_shape=(224,224,3)))\n",
        "model.add(Conv2D(64,(3,3),activation='relu'))\n",
        "model.add(MaxPool2D(pool_size=(2,2)))\n",
        "model.add(Dropout(0.2))\n",
        "\n",
        "model.add(Conv2D(64,(3,3),activation='relu'))\n",
        "model.add(MaxPool2D(pool_size=(2,2)))\n",
        "model.add(Dropout(0.2))\n",
        "\n",
        "model.add(Conv2D(128,(3,3),activation='relu'))\n",
        "model.add(MaxPool2D(pool_size=(2,2)))\n",
        "model.add(Dropout(0.2))\n",
        "\n",
        "model.add(Flatten())\n",
        "model.add(Dense(64,activation='relu'))\n",
        "\n",
        "model.add(Dense(1,activation='sigmoid'))\n",
        "\n",
        "model.compile(loss=keras.losses.binary_crossentropy,optimizer='adam',metrics=['accuracy'])"
      ],
      "execution_count": 12,
      "outputs": []
    },
    {
      "cell_type": "code",
      "metadata": {
        "colab": {
          "base_uri": "https://localhost:8080/"
        },
        "id": "FQ7zkLvz2lZl",
        "outputId": "71a39eed-812e-4f80-fb29-8589f72c27c9"
      },
      "source": [
        "model.summary()\n"
      ],
      "execution_count": 13,
      "outputs": [
        {
          "output_type": "stream",
          "text": [
            "Model: \"sequential_1\"\n",
            "_________________________________________________________________\n",
            "Layer (type)                 Output Shape              Param #   \n",
            "=================================================================\n",
            "conv2d_4 (Conv2D)            (None, 222, 222, 32)      896       \n",
            "_________________________________________________________________\n",
            "conv2d_5 (Conv2D)            (None, 220, 220, 64)      18496     \n",
            "_________________________________________________________________\n",
            "max_pooling2d_3 (MaxPooling2 (None, 110, 110, 64)      0         \n",
            "_________________________________________________________________\n",
            "dropout_3 (Dropout)          (None, 110, 110, 64)      0         \n",
            "_________________________________________________________________\n",
            "conv2d_6 (Conv2D)            (None, 108, 108, 64)      36928     \n",
            "_________________________________________________________________\n",
            "max_pooling2d_4 (MaxPooling2 (None, 54, 54, 64)        0         \n",
            "_________________________________________________________________\n",
            "dropout_4 (Dropout)          (None, 54, 54, 64)        0         \n",
            "_________________________________________________________________\n",
            "conv2d_7 (Conv2D)            (None, 52, 52, 128)       73856     \n",
            "_________________________________________________________________\n",
            "max_pooling2d_5 (MaxPooling2 (None, 26, 26, 128)       0         \n",
            "_________________________________________________________________\n",
            "dropout_5 (Dropout)          (None, 26, 26, 128)       0         \n",
            "_________________________________________________________________\n",
            "flatten_1 (Flatten)          (None, 86528)             0         \n",
            "_________________________________________________________________\n",
            "dense_2 (Dense)              (None, 64)                5537856   \n",
            "_________________________________________________________________\n",
            "dense_3 (Dense)              (None, 1)                 65        \n",
            "=================================================================\n",
            "Total params: 5,668,097\n",
            "Trainable params: 5,668,097\n",
            "Non-trainable params: 0\n",
            "_________________________________________________________________\n"
          ],
          "name": "stdout"
        }
      ]
    },
    {
      "cell_type": "code",
      "metadata": {
        "colab": {
          "base_uri": "https://localhost:8080/"
        },
        "id": "ldZz8kMA2tja",
        "outputId": "abca119d-a191-4d1f-b81e-9266bc81d2b8"
      },
      "source": [
        "r = model.fit(\n",
        "    train, \n",
        "    epochs=8,\n",
        "    validation_data=validation, \n",
        "    validation_steps=20,\n",
        ")"
      ],
      "execution_count": 17,
      "outputs": [
        {
          "output_type": "stream",
          "text": [
            "Epoch 1/8\n",
            "698/698 [==============================] - 42s 59ms/step - loss: 0.0181 - accuracy: 0.9955 - val_loss: 0.0841 - val_accuracy: 0.9500\n",
            "Epoch 2/8\n",
            "698/698 [==============================] - 41s 59ms/step - loss: 0.0100 - accuracy: 0.9962 - val_loss: 0.0146 - val_accuracy: 1.0000\n",
            "Epoch 3/8\n",
            "698/698 [==============================] - 42s 60ms/step - loss: 0.0249 - accuracy: 0.9943 - val_loss: 0.0218 - val_accuracy: 1.0000\n",
            "Epoch 4/8\n",
            "698/698 [==============================] - 44s 63ms/step - loss: 0.0323 - accuracy: 0.9910 - val_loss: 0.0112 - val_accuracy: 1.0000\n",
            "Epoch 5/8\n",
            "698/698 [==============================] - 42s 60ms/step - loss: 0.0155 - accuracy: 0.9952 - val_loss: 0.0918 - val_accuracy: 0.9500\n",
            "Epoch 6/8\n",
            "698/698 [==============================] - 42s 60ms/step - loss: 0.0201 - accuracy: 0.9944 - val_loss: 0.0947 - val_accuracy: 0.9500\n",
            "Epoch 7/8\n",
            "698/698 [==============================] - 43s 61ms/step - loss: 0.0197 - accuracy: 0.9943 - val_loss: 0.0040 - val_accuracy: 1.0000\n",
            "Epoch 8/8\n",
            "698/698 [==============================] - 42s 61ms/step - loss: 0.0305 - accuracy: 0.9943 - val_loss: 0.0574 - val_accuracy: 1.0000\n"
          ],
          "name": "stdout"
        }
      ]
    },
    {
      "cell_type": "code",
      "metadata": {
        "colab": {
          "base_uri": "https://localhost:8080/",
          "height": 279
        },
        "id": "I9NFxnEl7RSj",
        "outputId": "54b28bcb-7723-479a-d660-20f4bd6c2165"
      },
      "source": [
        "plt.figure(figsize=(12, 8))\n",
        "\n",
        "plt.subplot(2, 2, 1)\n",
        "plt.plot(r.history['loss'], label='Loss')\n",
        "plt.plot(r.history['val_loss'], label='Val_Loss')\n",
        "plt.legend()\n",
        "plt.title('Loss Evolution')\n",
        "\n",
        "plt.subplot(2, 2, 2)\n",
        "plt.plot(r.history['accuracy'], label='Accuracy')\n",
        "plt.plot(r.history['val_accuracy'], label='Val_Accuracy')\n",
        "plt.legend()\n",
        "plt.title('Accuracy Evolution')"
      ],
      "execution_count": 18,
      "outputs": [
        {
          "output_type": "execute_result",
          "data": {
            "text/plain": [
              "Text(0.5, 1.0, 'Accuracy Evolution')"
            ]
          },
          "metadata": {
            "tags": []
          },
          "execution_count": 18
        },
        {
          "output_type": "display_data",
          "data": {
            "image/png": "[encoded data removed]",
            "text/plain": [
              "<Figure size 864x576 with 2 Axes>"
            ]
          },
          "metadata": {
            "tags": [],
            "needs_background": "light"
          }
        }
      ]
    },
    {
      "cell_type": "code",
      "metadata": {
        "colab": {
          "base_uri": "https://localhost:8080/"
        },
        "id": "5GBQ74ik7au_",
        "outputId": "6d04bed0-f843-4a46-9a46-84f8e8796382"
      },
      "source": [
        "evaluation = model.evaluate(test)\n",
        "print(f\"Test Accuracy: {evaluation[1] * 100:.2f}%\")\n",
        "\n",
        "evaluation = model.evaluate(train)\n",
        "print(f\"Train Accuracy: {evaluation[1] * 100:.2f}%\")"
      ],
      "execution_count": 19,
      "outputs": [
        {
          "output_type": "stream",
          "text": [
            "1635/1635 [==============================] - 9s 6ms/step - loss: 0.4529 - accuracy: 0.9260\n",
            "Test Accuracy: 92.60%\n",
            "698/698 [==============================] - 38s 54ms/step - loss: 0.0152 - accuracy: 0.9946\n",
            "Train Accuracy: 99.46%\n"
          ],
          "name": "stdout"
        }
      ]
    },
    {
      "cell_type": "code",
      "metadata": {
        "colab": {
          "base_uri": "https://localhost:8080/",
          "height": 199
        },
        "id": "NteWSepK7lNY",
        "outputId": "00fe18fb-460c-4c9b-8efe-0d55d1d86347"
      },
      "source": [
        "from sklearn.metrics import confusion_matrix, classification_report\n",
        "\n",
        "pred = model.predict(test)\n",
        "\n",
        "print(confusion_matrix(test.classes, pred > 0.5))\n",
        "pd.DataFrame(classification_report(test.classes, pred > 0.5, output_dict=True))"
      ],
      "execution_count": 20,
      "outputs": [
        {
          "output_type": "stream",
          "text": [
            "[[645  60]\n",
            " [ 61 869]]\n"
          ],
          "name": "stdout"
        },
        {
          "output_type": "execute_result",
          "data": {
            "text/html": [
              "<div>\n",
              "<style scoped>\n",
              "    .dataframe tbody tr th:only-of-type {\n",
              "        vertical-align: middle;\n",
              "    }\n",
              "\n",
              "    .dataframe tbody tr th {\n",
              "        vertical-align: top;\n",
              "    }\n",
              "\n",
              "    .dataframe thead th {\n",
              "        text-align: right;\n",
              "    }\n",
              "</style>\n",
              "<table border=\"1\" class=\"dataframe\">\n",
              "  <thead>\n",
              "    <tr style=\"text-align: right;\">\n",
              "      <th></th>\n",
              "      <th>0</th>\n",
              "      <th>1</th>\n",
              "      <th>accuracy</th>\n",
              "      <th>macro avg</th>\n",
              "      <th>weighted avg</th>\n",
              "    </tr>\n",
              "  </thead>\n",
              "  <tbody>\n",
              "    <tr>\n",
              "      <th>precision</th>\n",
              "      <td>0.913598</td>\n",
              "      <td>0.935414</td>\n",
              "      <td>0.925994</td>\n",
              "      <td>0.924506</td>\n",
              "      <td>0.926007</td>\n",
              "    </tr>\n",
              "    <tr>\n",
              "      <th>recall</th>\n",
              "      <td>0.914894</td>\n",
              "      <td>0.934409</td>\n",
              "      <td>0.925994</td>\n",
              "      <td>0.924651</td>\n",
              "      <td>0.925994</td>\n",
              "    </tr>\n",
              "    <tr>\n",
              "      <th>f1-score</th>\n",
              "      <td>0.914245</td>\n",
              "      <td>0.934911</td>\n",
              "      <td>0.925994</td>\n",
              "      <td>0.924578</td>\n",
              "      <td>0.926000</td>\n",
              "    </tr>\n",
              "    <tr>\n",
              "      <th>support</th>\n",
              "      <td>705.000000</td>\n",
              "      <td>930.000000</td>\n",
              "      <td>0.925994</td>\n",
              "      <td>1635.000000</td>\n",
              "      <td>1635.000000</td>\n",
              "    </tr>\n",
              "  </tbody>\n",
              "</table>\n",
              "</div>"
            ],
            "text/plain": [
              "                    0           1  accuracy    macro avg  weighted avg\n",
              "precision    0.913598    0.935414  0.925994     0.924506      0.926007\n",
              "recall       0.914894    0.934409  0.925994     0.924651      0.925994\n",
              "f1-score     0.914245    0.934911  0.925994     0.924578      0.926000\n",
              "support    705.000000  930.000000  0.925994  1635.000000   1635.000000"
            ]
          },
          "metadata": {
            "tags": []
          },
          "execution_count": 20
        }
      ]
    },
    {
      "cell_type": "code",
      "metadata": {
        "id": "z31sZILmI1Kq"
      },
      "source": [
        "from keras.layers import Dense, Conv2D, MaxPool2D, Dropout, Flatten, BatchNormalization\n",
        "\n",
        "\n",
        "model2 = Sequential()\n",
        "\n",
        "model2.add(Conv2D(filters=32, kernel_size=(3, 3), input_shape=(180, 180, 3), activation='relu'))\n",
        "model2.add(BatchNormalization())\n",
        "model2.add(Conv2D(filters=32, kernel_size=(3, 3), input_shape=(180, 180, 3), activation='relu'))\n",
        "model2.add(BatchNormalization())\n",
        "model2.add(MaxPool2D(pool_size=(2, 2)))\n",
        "\n",
        "model2.add(Conv2D(filters=64, kernel_size=(3, 3), activation='relu'))\n",
        "model2.add(BatchNormalization())\n",
        "model2.add(Conv2D(filters=64, kernel_size=(3, 3), activation='relu'))\n",
        "model2.add(BatchNormalization())\n",
        "model2.add(MaxPool2D(pool_size=(2, 2)))\n",
        "\n",
        "model2.add(Conv2D(filters=128, kernel_size=(3, 3), activation='relu'))\n",
        "model2.add(BatchNormalization())\n",
        "model2.add(Conv2D(filters=128, kernel_size=(3, 3), activation='relu'))\n",
        "model2.add(BatchNormalization())\n",
        "model2.add(MaxPool2D(pool_size=(2, 2)))\n",
        "\n",
        "model2.add(Flatten())\n",
        "model2.add(Dense(128, activation='relu'))\n",
        "model2.add(Dropout(0.2))\n",
        "\n",
        "model2.add(Dense(1, activation='sigmoid'))\n",
        "\n",
        "model2.compile(loss='binary_crossentropy', \n",
        "              optimizer='adam', \n",
        "              metrics=['accuracy'])\n"
      ],
      "execution_count": 23,
      "outputs": []
    },
    {
      "cell_type": "code",
      "metadata": {
        "colab": {
          "base_uri": "https://localhost:8080/",
          "height": 229
        },
        "id": "Xn7JpQwpI7cC",
        "outputId": "6b0d5522-faee-4686-b026-d460a4cdae76"
      },
      "source": [
        "r = model2.fit(\n",
        "    train, \n",
        "    epochs=10,\n",
        "    validation_data=validation, \n",
        "    class_weight=class_weight,\n",
        "    steps_per_epoch=788,\n",
        "    validation_steps=25,\n",
        ")"
      ],
      "execution_count": 1,
      "outputs": [
        {
          "output_type": "error",
          "ename": "NameError",
          "evalue": "ignored",
          "traceback": [
            "\u001b[0;31m---------------------------------------------------------------------------\u001b[0m",
            "\u001b[0;31mNameError\u001b[0m                                 Traceback (most recent call last)",
            "\u001b[0;32m<ipython-input-1-44874d1f2fb0>\u001b[0m in \u001b[0;36m<module>\u001b[0;34m()\u001b[0m\n\u001b[0;32m----> 1\u001b[0;31m r = model2.fit(\n\u001b[0m\u001b[1;32m      2\u001b[0m     \u001b[0mtrain\u001b[0m\u001b[0;34m,\u001b[0m\u001b[0;34m\u001b[0m\u001b[0;34m\u001b[0m\u001b[0m\n\u001b[1;32m      3\u001b[0m     \u001b[0mepochs\u001b[0m\u001b[0;34m=\u001b[0m\u001b[0;36m10\u001b[0m\u001b[0;34m,\u001b[0m\u001b[0;34m\u001b[0m\u001b[0;34m\u001b[0m\u001b[0m\n\u001b[1;32m      4\u001b[0m     \u001b[0mvalidation_data\u001b[0m\u001b[0;34m=\u001b[0m\u001b[0mvalidation\u001b[0m\u001b[0;34m,\u001b[0m\u001b[0;34m\u001b[0m\u001b[0;34m\u001b[0m\u001b[0m\n\u001b[1;32m      5\u001b[0m     \u001b[0mclass_weight\u001b[0m\u001b[0;34m=\u001b[0m\u001b[0mclass_weight\u001b[0m\u001b[0;34m,\u001b[0m\u001b[0;34m\u001b[0m\u001b[0;34m\u001b[0m\u001b[0m\n",
            "\u001b[0;31mNameError\u001b[0m: name 'model2' is not defined"
          ]
        }
      ]
    }
  ]
}
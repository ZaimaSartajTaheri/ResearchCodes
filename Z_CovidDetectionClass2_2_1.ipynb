{
  "nbformat": 4,
  "nbformat_minor": 0,
  "metadata": {
    "colab": {
      "name": " Z_CovidDetectionClass2_2_1.ipynb",
      "provenance": [],
      "collapsed_sections": [],
      "include_colab_link": true
    },
    "kernelspec": {
      "name": "python3",
      "display_name": "Python 3"
    },
    "language_info": {
      "name": "python"
    },
    "accelerator": "GPU"
  },
  "cells": [
    {
      "cell_type": "markdown",
      "metadata": {
        "id": "view-in-github",
        "colab_type": "text"
      },
      "source": [
        "<a href=\"https://colab.research.google.com/github/ZaimaSartajTaheri/ResearchCodes/blob/main/Z_CovidDetectionClass2_2_1.ipynb\" target=\"_parent\"><img src=\"https://colab.research.google.com/assets/colab-badge.svg\" alt=\"Open In Colab\"/></a>"
      ]
    },
    {
      "cell_type": "code",
      "metadata": {
        "colab": {
          "base_uri": "https://localhost:8080/"
        },
        "id": "V30G8sN7QGYw",
        "outputId": "7882be1f-b32d-4d39-9643-af9c21717b69"
      },
      "source": [
        "from google.colab import drive\n",
        "drive.mount('/content/drive')"
      ],
      "execution_count": 1,
      "outputs": [
        {
          "output_type": "stream",
          "text": [
            "Mounted at /content/drive\n"
          ],
          "name": "stdout"
        }
      ]
    },
    {
      "cell_type": "code",
      "metadata": {
        "id": "35gRVnqYHthE"
      },
      "source": [
        "import os\n",
        "import numpy as np\n",
        "import pandas as pd \n",
        "import matplotlib.pyplot as plt\n",
        "import seaborn as sns\n",
        "import tensorflow as tf\n",
        "from tensorflow import keras\n"
      ],
      "execution_count": 21,
      "outputs": []
    },
    {
      "cell_type": "code",
      "metadata": {
        "id": "1xxaOo23QsCy"
      },
      "source": [
        "from keras.preprocessing.image import ImageDataGenerator\n",
        "\n",
        "image_generator = ImageDataGenerator(\n",
        "    # rotation_range=20,\n",
        "     #width_shift_range=0.1,\n",
        "    # shear_range=0.1,\n",
        "     zoom_range=0.1,\n",
        "    samplewise_center=True,\n",
        "    samplewise_std_normalization=True\n",
        ")"
      ],
      "execution_count": 22,
      "outputs": []
    },
    {
      "cell_type": "code",
      "metadata": {
        "colab": {
          "base_uri": "https://localhost:8080/"
        },
        "id": "7LQepaTqH4Cj",
        "outputId": "51d7db16-ab7c-4c35-8cbe-f4ebb50dc593"
      },
      "source": [
        "train = image_generator.flow_from_directory('/content/drive/MyDrive/CovidDataset2/Train', \n",
        "                                            batch_size=32, \n",
        "                                            shuffle=True, \n",
        "                                            class_mode='categorical',\n",
        "                                            target_size=(224, 224))\n",
        "\n",
        "validation =image_generator.flow_from_directory('/content/drive/MyDrive/CovidDataset2/Val', \n",
        "                                                batch_size=1, \n",
        "                                                shuffle=False, \n",
        "                                                class_mode='categorical',\n",
        "                                                target_size=(224, 224))\n",
        "\n",
        "test =image_generator.flow_from_directory('/content/drive/MyDrive/CovidDataset2/Test', \n",
        "                                            batch_size=1, \n",
        "                                            shuffle=False, \n",
        "                                            class_mode='categorical',\n",
        "                                            target_size=(224, 224))"
      ],
      "execution_count": 23,
      "outputs": [
        {
          "output_type": "stream",
          "text": [
            "Found 5584 images belonging to 2 classes.\n",
            "Found 1862 images belonging to 2 classes.\n",
            "Found 1860 images belonging to 2 classes.\n"
          ],
          "name": "stdout"
        }
      ]
    },
    {
      "cell_type": "code",
      "metadata": {
        "id": "g_4wD_w0Q16R"
      },
      "source": [
        "from keras.models import Sequential\n",
        "from keras.layers import Dense, Conv2D, MaxPool2D, Dropout, Flatten, BatchNormalization\n",
        "\n",
        "\n",
        "model = Sequential()\n",
        "model.add(Conv2D(32,kernel_size=(3,3),activation='relu',input_shape=(224,224,3)))\n",
        "model.add(Conv2D(64,(3,3),activation='relu'))\n",
        "model.add(MaxPool2D(pool_size=(2,2)))\n",
        "model.add(Dropout(0.25))\n",
        "\n",
        "model.add(Conv2D(64,(3,3),activation='relu'))\n",
        "model.add(MaxPool2D(pool_size=(2,2)))\n",
        "model.add(Dropout(0.2))\n",
        "\n",
        "model.add(Conv2D(64,(3,3),activation='relu'))\n",
        "model.add(MaxPool2D(pool_size=(2,2)))\n",
        "model.add(Dropout(0.3))\n",
        "\n",
        "model.add(Flatten())\n",
        "# model.add(Dense(64,activation='relu'))\n",
        "\n",
        "model.add(Dense(2,activation='softmax'))\n",
        "\n",
        "model.compile(loss=keras.losses.categorical_crossentropy,optimizer='adam',metrics=['accuracy'])"
      ],
      "execution_count": 24,
      "outputs": []
    },
    {
      "cell_type": "code",
      "metadata": {
        "colab": {
          "base_uri": "https://localhost:8080/"
        },
        "id": "FUCjZfSGQ26q",
        "outputId": "837493e2-d801-4ae3-f6e8-6e2ffc042192"
      },
      "source": [
        "model.summary()"
      ],
      "execution_count": 25,
      "outputs": [
        {
          "output_type": "stream",
          "text": [
            "Model: \"sequential_3\"\n",
            "_________________________________________________________________\n",
            "Layer (type)                 Output Shape              Param #   \n",
            "=================================================================\n",
            "conv2d_12 (Conv2D)           (None, 222, 222, 32)      896       \n",
            "_________________________________________________________________\n",
            "conv2d_13 (Conv2D)           (None, 220, 220, 64)      18496     \n",
            "_________________________________________________________________\n",
            "max_pooling2d_9 (MaxPooling2 (None, 110, 110, 64)      0         \n",
            "_________________________________________________________________\n",
            "dropout_9 (Dropout)          (None, 110, 110, 64)      0         \n",
            "_________________________________________________________________\n",
            "conv2d_14 (Conv2D)           (None, 108, 108, 64)      36928     \n",
            "_________________________________________________________________\n",
            "max_pooling2d_10 (MaxPooling (None, 54, 54, 64)        0         \n",
            "_________________________________________________________________\n",
            "dropout_10 (Dropout)         (None, 54, 54, 64)        0         \n",
            "_________________________________________________________________\n",
            "conv2d_15 (Conv2D)           (None, 52, 52, 64)        36928     \n",
            "_________________________________________________________________\n",
            "max_pooling2d_11 (MaxPooling (None, 26, 26, 64)        0         \n",
            "_________________________________________________________________\n",
            "dropout_11 (Dropout)         (None, 26, 26, 64)        0         \n",
            "_________________________________________________________________\n",
            "flatten_3 (Flatten)          (None, 43264)             0         \n",
            "_________________________________________________________________\n",
            "dense_3 (Dense)              (None, 2)                 86530     \n",
            "=================================================================\n",
            "Total params: 179,778\n",
            "Trainable params: 179,778\n",
            "Non-trainable params: 0\n",
            "_________________________________________________________________\n"
          ],
          "name": "stdout"
        }
      ]
    },
    {
      "cell_type": "code",
      "metadata": {
        "colab": {
          "base_uri": "https://localhost:8080/"
        },
        "id": "8DIwki-1Q6BI",
        "outputId": "07166967-d9a8-46bb-9583-4f7909b0413f"
      },
      "source": [
        "r = model.fit(\n",
        "    train, \n",
        "    epochs=20,\n",
        "    validation_data=validation,\n",
        "    validation_steps=100,\n",
        ")"
      ],
      "execution_count": 26,
      "outputs": [
        {
          "output_type": "stream",
          "text": [
            "Epoch 1/20\n",
            "175/175 [==============================] - 1118s 6s/step - loss: 0.7136 - accuracy: 0.6358 - val_loss: 0.4088 - val_accuracy: 0.8700\n",
            "Epoch 2/20\n",
            "175/175 [==============================] - 94s 534ms/step - loss: 0.4007 - accuracy: 0.8289 - val_loss: 0.2405 - val_accuracy: 0.9300\n",
            "Epoch 3/20\n",
            "175/175 [==============================] - 93s 532ms/step - loss: 0.3235 - accuracy: 0.8713 - val_loss: 0.3571 - val_accuracy: 0.8500\n",
            "Epoch 4/20\n",
            "175/175 [==============================] - 93s 531ms/step - loss: 0.2841 - accuracy: 0.8927 - val_loss: 0.2451 - val_accuracy: 0.9300\n",
            "Epoch 5/20\n",
            "175/175 [==============================] - 93s 532ms/step - loss: 0.2442 - accuracy: 0.9029 - val_loss: 0.2194 - val_accuracy: 0.9300\n",
            "Epoch 6/20\n",
            "175/175 [==============================] - 94s 536ms/step - loss: 0.1935 - accuracy: 0.9233 - val_loss: 0.2705 - val_accuracy: 0.8700\n",
            "Epoch 7/20\n",
            "175/175 [==============================] - 93s 532ms/step - loss: 0.1713 - accuracy: 0.9367 - val_loss: 0.1990 - val_accuracy: 0.9400\n",
            "Epoch 8/20\n",
            "175/175 [==============================] - 93s 533ms/step - loss: 0.1914 - accuracy: 0.9274 - val_loss: 0.2525 - val_accuracy: 0.9100\n",
            "Epoch 9/20\n",
            "175/175 [==============================] - 94s 535ms/step - loss: 0.1641 - accuracy: 0.9381 - val_loss: 0.1941 - val_accuracy: 0.9300\n",
            "Epoch 10/20\n",
            "175/175 [==============================] - 94s 535ms/step - loss: 0.1553 - accuracy: 0.9343 - val_loss: 0.3066 - val_accuracy: 0.9100\n",
            "Epoch 11/20\n",
            "175/175 [==============================] - 94s 536ms/step - loss: 0.1512 - accuracy: 0.9449 - val_loss: 0.2702 - val_accuracy: 0.9400\n",
            "Epoch 12/20\n",
            "175/175 [==============================] - 94s 538ms/step - loss: 0.1263 - accuracy: 0.9503 - val_loss: 0.2084 - val_accuracy: 0.9500\n",
            "Epoch 13/20\n",
            "175/175 [==============================] - 95s 541ms/step - loss: 0.1117 - accuracy: 0.9567 - val_loss: 0.2812 - val_accuracy: 0.9400\n",
            "Epoch 14/20\n",
            "175/175 [==============================] - 95s 542ms/step - loss: 0.1190 - accuracy: 0.9553 - val_loss: 0.1546 - val_accuracy: 0.9400\n",
            "Epoch 15/20\n",
            "175/175 [==============================] - 95s 542ms/step - loss: 0.1116 - accuracy: 0.9559 - val_loss: 0.1745 - val_accuracy: 0.9300\n",
            "Epoch 16/20\n",
            "175/175 [==============================] - 94s 537ms/step - loss: 0.1165 - accuracy: 0.9550 - val_loss: 0.2119 - val_accuracy: 0.9400\n",
            "Epoch 17/20\n",
            "175/175 [==============================] - 94s 536ms/step - loss: 0.0997 - accuracy: 0.9626 - val_loss: 0.1301 - val_accuracy: 0.9700\n",
            "Epoch 18/20\n",
            "175/175 [==============================] - 93s 534ms/step - loss: 0.1029 - accuracy: 0.9650 - val_loss: 0.1907 - val_accuracy: 0.9800\n",
            "Epoch 19/20\n",
            "175/175 [==============================] - 94s 536ms/step - loss: 0.0882 - accuracy: 0.9671 - val_loss: 0.2132 - val_accuracy: 0.9600\n",
            "Epoch 20/20\n",
            "175/175 [==============================] - 94s 538ms/step - loss: 0.0882 - accuracy: 0.9662 - val_loss: 0.1671 - val_accuracy: 0.9600\n"
          ],
          "name": "stdout"
        }
      ]
    },
    {
      "cell_type": "code",
      "metadata": {
        "colab": {
          "base_uri": "https://localhost:8080/",
          "height": 252
        },
        "id": "vCTjCFalQ_jd",
        "outputId": "10f2b670-39cb-4e7e-a2ab-2cab618c8ae2"
      },
      "source": [
        "plt.figure(figsize=(12, 8))\n",
        "\n",
        "plt.subplot(2, 2, 1)\n",
        "plt.plot(r.history['loss'], label='Loss')\n",
        "plt.plot(r.history['val_loss'], label='Val_Loss')\n",
        "plt.legend()\n",
        "plt.title('Loss Evolution')\n",
        "\n",
        "plt.subplot(2, 2, 2)\n",
        "plt.plot(r.history['accuracy'], label='Accuracy')\n",
        "plt.plot(r.history['val_accuracy'], label='Val_Accuracy')\n",
        "plt.legend()\n",
        "plt.title('Accuracy Evolution')"
      ],
      "execution_count": 27,
      "outputs": [
        {
          "output_type": "execute_result",
          "data": {
            "text/plain": [
              "Text(0.5, 1.0, 'Accuracy Evolution')"
            ]
          },
          "metadata": {
            "tags": []
          },
          "execution_count": 27
        },
        {
          "output_type": "display_data",
          "data": {
            "image/png": "[encoded data removed]",
            "text/plain": [
              "<Figure size 864x576 with 2 Axes>"
            ]
          },
          "metadata": {
            "tags": [],
            "needs_background": "light"
          }
        }
      ]
    },
    {
      "cell_type": "code",
      "metadata": {
        "colab": {
          "base_uri": "https://localhost:8080/"
        },
        "id": "lGYIvyI8RAWN",
        "outputId": "7b3b289d-b5d4-485d-831e-0664f6136147"
      },
      "source": [
        "evaluation = model.evaluate(test)\n",
        "print(f\"Test Accuracy: {evaluation[1] * 100:.2f}%\")\n",
        "\n",
        "evaluation = model.evaluate(train)\n",
        "print(f\"Train Accuracy: {evaluation[1] * 100:.2f}%\")"
      ],
      "execution_count": 28,
      "outputs": [
        {
          "output_type": "stream",
          "text": [
            "1860/1860 [==============================] - 373s 201ms/step - loss: 0.1666 - accuracy: 0.9484\n",
            "Test Accuracy: 94.84%\n",
            "175/175 [==============================] - 87s 495ms/step - loss: 0.0552 - accuracy: 0.9799\n",
            "Train Accuracy: 97.99%\n"
          ],
          "name": "stdout"
        }
      ]
    },
    {
      "cell_type": "code",
      "metadata": {
        "colab": {
          "base_uri": "https://localhost:8080/"
        },
        "id": "YcVm090wAXg_",
        "outputId": "5cf285ba-c661-493e-cca6-c604e3fe1cd1"
      },
      "source": [
        "from keras.utils.np_utils import to_categorical \n",
        "num_classes=len(test.class_indices)\n",
        "\n",
        "test_labels = test.classes  \n",
        "test_labels = to_categorical(test_labels, num_classes=num_classes) \n",
        "test_labels"
      ],
      "execution_count": 29,
      "outputs": [
        {
          "output_type": "execute_result",
          "data": {
            "text/plain": [
              "array([[1., 0.],\n",
              "       [1., 0.],\n",
              "       [1., 0.],\n",
              "       ...,\n",
              "       [0., 1.],\n",
              "       [0., 1.],\n",
              "       [0., 1.]], dtype=float32)"
            ]
          },
          "metadata": {
            "tags": []
          },
          "execution_count": 29
        }
      ]
    },
    {
      "cell_type": "code",
      "metadata": {
        "colab": {
          "base_uri": "https://localhost:8080/",
          "height": 166
        },
        "id": "y4AduED0RC8G",
        "outputId": "23a89ad3-b359-4f2c-f56c-33b7a38c798c"
      },
      "source": [
        "from sklearn.metrics import confusion_matrix, classification_report\n",
        "\n",
        "# rounded_labels=np.argmax(test, axis=1)\n",
        "\n",
        "pred = model.predict(test)\n",
        "# pred = np.argmax(predictions, axis=1)\n",
        "\n",
        "y_pred=np.argmax(pred, axis=1)\n",
        "y_test=np.argmax(test_labels, axis=1)\n",
        "\n",
        "\n",
        "cnf_matrix=confusion_matrix(y_test, y_pred)\n",
        "pd.DataFrame(classification_report(y_test,y_pred,output_dict=True))"
      ],
      "execution_count": 30,
      "outputs": [
        {
          "output_type": "execute_result",
          "data": {
            "text/html": [
              "<div>\n",
              "<style scoped>\n",
              "    .dataframe tbody tr th:only-of-type {\n",
              "        vertical-align: middle;\n",
              "    }\n",
              "\n",
              "    .dataframe tbody tr th {\n",
              "        vertical-align: top;\n",
              "    }\n",
              "\n",
              "    .dataframe thead th {\n",
              "        text-align: right;\n",
              "    }\n",
              "</style>\n",
              "<table border=\"1\" class=\"dataframe\">\n",
              "  <thead>\n",
              "    <tr style=\"text-align: right;\">\n",
              "      <th></th>\n",
              "      <th>0</th>\n",
              "      <th>1</th>\n",
              "      <th>accuracy</th>\n",
              "      <th>macro avg</th>\n",
              "      <th>weighted avg</th>\n",
              "    </tr>\n",
              "  </thead>\n",
              "  <tbody>\n",
              "    <tr>\n",
              "      <th>precision</th>\n",
              "      <td>0.948718</td>\n",
              "      <td>0.954545</td>\n",
              "      <td>0.951613</td>\n",
              "      <td>0.951632</td>\n",
              "      <td>0.951632</td>\n",
              "    </tr>\n",
              "    <tr>\n",
              "      <th>recall</th>\n",
              "      <td>0.954839</td>\n",
              "      <td>0.948387</td>\n",
              "      <td>0.951613</td>\n",
              "      <td>0.951613</td>\n",
              "      <td>0.951613</td>\n",
              "    </tr>\n",
              "    <tr>\n",
              "      <th>f1-score</th>\n",
              "      <td>0.951768</td>\n",
              "      <td>0.951456</td>\n",
              "      <td>0.951613</td>\n",
              "      <td>0.951612</td>\n",
              "      <td>0.951612</td>\n",
              "    </tr>\n",
              "    <tr>\n",
              "      <th>support</th>\n",
              "      <td>930.000000</td>\n",
              "      <td>930.000000</td>\n",
              "      <td>0.951613</td>\n",
              "      <td>1860.000000</td>\n",
              "      <td>1860.000000</td>\n",
              "    </tr>\n",
              "  </tbody>\n",
              "</table>\n",
              "</div>"
            ],
            "text/plain": [
              "                    0           1  accuracy    macro avg  weighted avg\n",
              "precision    0.948718    0.954545  0.951613     0.951632      0.951632\n",
              "recall       0.954839    0.948387  0.951613     0.951613      0.951613\n",
              "f1-score     0.951768    0.951456  0.951613     0.951612      0.951612\n",
              "support    930.000000  930.000000  0.951613  1860.000000   1860.000000"
            ]
          },
          "metadata": {
            "tags": []
          },
          "execution_count": 30
        }
      ]
    },
    {
      "cell_type": "code",
      "metadata": {
        "id": "-n8BmSrjDDoy"
      },
      "source": [
        "def plot_confusion_matrix(cm, classes,\n",
        "                          normalize=False,\n",
        "                          title='Confusion matrix',\n",
        "                          cmap=plt.cm.Blues):\n",
        "    \"\"\"\n",
        "    This function prints and plots the confusion matrix.\n",
        "    Normalization can be applied by setting `normalize=True`.\n",
        "    \"\"\"\n",
        "    import itertools\n",
        "    if normalize:\n",
        "        cm = cm.astype('float') / cm.sum(axis=1)[:, np.newaxis]\n",
        "        print(\"Normalized confusion matrix\")\n",
        "    else:\n",
        "        print('Confusion matrix, without normalization')\n",
        "\n",
        "    print(cm)\n",
        "\n",
        "    plt.imshow(cm, interpolation='nearest', cmap=cmap)\n",
        "    plt.title(title)\n",
        "    plt.colorbar()\n",
        "    tick_marks = np.arange(len(classes))\n",
        "    plt.xticks(tick_marks, classes, rotation=45)\n",
        "    plt.yticks(tick_marks, classes)\n",
        "\n",
        "    fmt = '.2f' if normalize else 'd'\n",
        "    thresh = cm.max() / 2.\n",
        "    for i, j in itertools.product(range(cm.shape[0]), range(cm.shape[1])):\n",
        "        plt.text(j, i, format(cm[i, j], fmt),\n",
        "                 horizontalalignment=\"center\",\n",
        "                 color=\"white\" if cm[i, j] > thresh else \"black\")\n",
        "\n",
        "    plt.ylabel('True label')\n",
        "    plt.xlabel('Predicted label')\n",
        "    plt.tight_layout()"
      ],
      "execution_count": 31,
      "outputs": []
    },
    {
      "cell_type": "code",
      "metadata": {
        "colab": {
          "base_uri": "https://localhost:8080/",
          "height": 347
        },
        "id": "uby9_RN9Db11",
        "outputId": "71dbe8ab-d999-4e85-d4b0-745dfdc4ab5f"
      },
      "source": [
        "plt.figure()\n",
        "plot_confusion_matrix(cnf_matrix, classes=['Covid', 'Normal', 'Pneumonia'],\n",
        "                      title='Confusion matrix, without normalization')"
      ],
      "execution_count": 32,
      "outputs": [
        {
          "output_type": "stream",
          "text": [
            "Confusion matrix, without normalization\n",
            "[[888  42]\n",
            " [ 48 882]]\n"
          ],
          "name": "stdout"
        },
        {
          "output_type": "display_data",
          "data": {
            "image/png": "[encoded data removed]",
            "text/plain": [
              "<Figure size 432x288 with 2 Axes>"
            ]
          },
          "metadata": {
            "tags": [],
            "needs_background": "light"
          }
        }
      ]
    }
  ]
}
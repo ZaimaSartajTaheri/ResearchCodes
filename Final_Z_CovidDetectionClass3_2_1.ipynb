{
  "nbformat": 4,
  "nbformat_minor": 0,
  "metadata": {
    "accelerator": "GPU",
    "colab": {
      "name": "Final_Z_CovidDetectionClass3_2_1.ipynb",
      "provenance": [],
      "collapsed_sections": [],
      "include_colab_link": true
    },
    "kernelspec": {
      "display_name": "Python 3",
      "name": "python3"
    },
    "language_info": {
      "name": "python"
    }
  },
  "cells": [
    {
      "cell_type": "markdown",
      "metadata": {
        "id": "view-in-github",
        "colab_type": "text"
      },
      "source": [
        "<a href=\"https://colab.research.google.com/github/ZaimaSartajTaheri/ResearchCodes/blob/main/Final_Z_CovidDetectionClass3_2_1.ipynb\" target=\"_parent\"><img src=\"https://colab.research.google.com/assets/colab-badge.svg\" alt=\"Open In Colab\"/></a>"
      ]
    },
    {
      "cell_type": "code",
      "metadata": {
        "colab": {
          "base_uri": "https://localhost:8080/"
        },
        "id": "V30G8sN7QGYw",
        "outputId": "cf20ecc8-6ef7-467e-a5ec-e9db6e2acba8"
      },
      "source": [
        "from google.colab import drive\n",
        "drive.mount('/content/drive')"
      ],
      "execution_count": null,
      "outputs": [
        {
          "output_type": "stream",
          "text": [
            "Mounted at /content/drive\n"
          ],
          "name": "stdout"
        }
      ]
    },
    {
      "cell_type": "code",
      "metadata": {
        "id": "35gRVnqYHthE"
      },
      "source": [
        "import os\n",
        "import numpy as np\n",
        "import pandas as pd \n",
        "import matplotlib.pyplot as plt\n",
        "import seaborn as sns\n",
        "import tensorflow as tf\n",
        "from tensorflow import keras\n"
      ],
      "execution_count": null,
      "outputs": []
    },
    {
      "cell_type": "code",
      "metadata": {
        "id": "1xxaOo23QsCy"
      },
      "source": [
        "from keras.preprocessing.image import ImageDataGenerator\n",
        "\n",
        "image_generator = ImageDataGenerator(\n",
        "    # rotation_range=20,\n",
        "     #width_shift_range=0.1,\n",
        "    # shear_range=0.1,\n",
        "     zoom_range=0.1,\n",
        "    samplewise_center=True,\n",
        "    samplewise_std_normalization=True\n",
        ")"
      ],
      "execution_count": null,
      "outputs": []
    },
    {
      "cell_type": "code",
      "metadata": {
        "colab": {
          "base_uri": "https://localhost:8080/"
        },
        "id": "7LQepaTqH4Cj",
        "outputId": "22271e14-6fe5-4c57-c955-30526385e137"
      },
      "source": [
        "train = image_generator.flow_from_directory('/content/drive/MyDrive/CovidDataset/CovidDataset/Train', \n",
        "                                            batch_size=32, \n",
        "                                            shuffle=True, \n",
        "                                            class_mode='categorical',\n",
        "                                            target_size=(224, 224))\n",
        "\n",
        "validation =image_generator.flow_from_directory('/content/drive/MyDrive/CovidDataset/CovidDataset/Val', \n",
        "                                                batch_size=16, \n",
        "                                                shuffle=False, \n",
        "                                                class_mode='categorical',\n",
        "                                                target_size=(224, 224))\n",
        "\n",
        "test =image_generator.flow_from_directory('/content/drive/MyDrive/CovidDataset/CovidDataset/Test', \n",
        "                                            batch_size=1, \n",
        "                                            shuffle=False, \n",
        "                                            class_mode='categorical',\n",
        "                                            target_size=(224, 224))"
      ],
      "execution_count": null,
      "outputs": [
        {
          "output_type": "stream",
          "text": [
            "Found 8376 images belonging to 3 classes.\n",
            "Found 2792 images belonging to 3 classes.\n",
            "Found 2790 images belonging to 3 classes.\n"
          ],
          "name": "stdout"
        }
      ]
    },
    {
      "cell_type": "code",
      "metadata": {
        "id": "g_4wD_w0Q16R"
      },
      "source": [
        "from keras.models import Sequential\n",
        "from keras.layers import Dense, Conv2D, MaxPool2D, Dropout, Flatten, BatchNormalization\n",
        "\n",
        "\n",
        "model = Sequential()\n",
        "model.add(Conv2D(32,kernel_size=(3,3),activation='relu',input_shape=(224,224,3)))\n",
        "model.add(Conv2D(64,(3,3),activation='relu'))\n",
        "model.add(MaxPool2D(pool_size=(2,2)))\n",
        "model.add(Dropout(0.25))\n",
        "\n",
        "model.add(Conv2D(64,(3,3),activation='relu'))\n",
        "model.add(MaxPool2D(pool_size=(2,2)))\n",
        "model.add(Dropout(0.2))\n",
        "\n",
        "model.add(Conv2D(64,(3,3),activation='relu'))\n",
        "model.add(MaxPool2D(pool_size=(2,2)))\n",
        "model.add(Dropout(0.3))\n",
        "\n",
        "model.add(Flatten())\n",
        "# model.add(Dense(64,activation='relu'))\n",
        "\n",
        "model.add(Dense(3,activation='softmax'))\n",
        "\n",
        "model.compile(loss=keras.losses.categorical_crossentropy,optimizer='adam',metrics=['accuracy'])"
      ],
      "execution_count": null,
      "outputs": []
    },
    {
      "cell_type": "code",
      "metadata": {
        "colab": {
          "base_uri": "https://localhost:8080/"
        },
        "id": "FUCjZfSGQ26q",
        "outputId": "cabb6d11-c15d-42d4-fbd8-13ad1404acc8"
      },
      "source": [
        "model.summary()"
      ],
      "execution_count": null,
      "outputs": [
        {
          "output_type": "stream",
          "text": [
            "Model: \"sequential_1\"\n",
            "_________________________________________________________________\n",
            "Layer (type)                 Output Shape              Param #   \n",
            "=================================================================\n",
            "conv2d_4 (Conv2D)            (None, 222, 222, 32)      896       \n",
            "_________________________________________________________________\n",
            "conv2d_5 (Conv2D)            (None, 220, 220, 64)      18496     \n",
            "_________________________________________________________________\n",
            "max_pooling2d_3 (MaxPooling2 (None, 110, 110, 64)      0         \n",
            "_________________________________________________________________\n",
            "dropout_3 (Dropout)          (None, 110, 110, 64)      0         \n",
            "_________________________________________________________________\n",
            "conv2d_6 (Conv2D)            (None, 108, 108, 64)      36928     \n",
            "_________________________________________________________________\n",
            "max_pooling2d_4 (MaxPooling2 (None, 54, 54, 64)        0         \n",
            "_________________________________________________________________\n",
            "dropout_4 (Dropout)          (None, 54, 54, 64)        0         \n",
            "_________________________________________________________________\n",
            "conv2d_7 (Conv2D)            (None, 52, 52, 64)        36928     \n",
            "_________________________________________________________________\n",
            "max_pooling2d_5 (MaxPooling2 (None, 26, 26, 64)        0         \n",
            "_________________________________________________________________\n",
            "dropout_5 (Dropout)          (None, 26, 26, 64)        0         \n",
            "_________________________________________________________________\n",
            "flatten_1 (Flatten)          (None, 43264)             0         \n",
            "_________________________________________________________________\n",
            "dense_1 (Dense)              (None, 3)                 129795    \n",
            "=================================================================\n",
            "Total params: 223,043\n",
            "Trainable params: 223,043\n",
            "Non-trainable params: 0\n",
            "_________________________________________________________________\n"
          ],
          "name": "stdout"
        }
      ]
    },
    {
      "cell_type": "code",
      "metadata": {
        "colab": {
          "base_uri": "https://localhost:8080/"
        },
        "id": "8DIwki-1Q6BI",
        "outputId": "44fa0775-a619-4495-a746-9986d80b9988"
      },
      "source": [
        "r = model.fit(\n",
        "    train, \n",
        "    epochs=25,\n",
        "    validation_data=validation,\n",
        "    validation_steps=50,\n",
        ")"
      ],
      "execution_count": null,
      "outputs": [
        {
          "output_type": "stream",
          "text": [
            "Epoch 1/25\n",
            "262/262 [==============================] - 6258s 24s/step - loss: 0.5003 - accuracy: 0.7767 - val_loss: 0.3635 - val_accuracy: 0.8988\n",
            "Epoch 2/25\n",
            "262/262 [==============================] - 208s 795ms/step - loss: 0.3153 - accuracy: 0.8788 - val_loss: 0.4518 - val_accuracy: 0.8300\n",
            "Epoch 3/25\n",
            "262/262 [==============================] - 210s 802ms/step - loss: 0.2627 - accuracy: 0.9001 - val_loss: 0.3721 - val_accuracy: 0.8550\n",
            "Epoch 4/25\n",
            "262/262 [==============================] - 209s 798ms/step - loss: 0.2225 - accuracy: 0.9140 - val_loss: 0.3550 - val_accuracy: 0.8975\n",
            "Epoch 5/25\n",
            "262/262 [==============================] - 209s 797ms/step - loss: 0.1857 - accuracy: 0.9299 - val_loss: 0.2961 - val_accuracy: 0.9025\n",
            "Epoch 6/25\n",
            "262/262 [==============================] - 209s 796ms/step - loss: 0.1634 - accuracy: 0.9388 - val_loss: 0.1656 - val_accuracy: 0.9400\n",
            "Epoch 7/25\n",
            "262/262 [==============================] - 210s 800ms/step - loss: 0.1616 - accuracy: 0.9367 - val_loss: 0.3748 - val_accuracy: 0.8425\n",
            "Epoch 8/25\n",
            "262/262 [==============================] - 211s 806ms/step - loss: 0.1469 - accuracy: 0.9452 - val_loss: 0.1972 - val_accuracy: 0.9237\n",
            "Epoch 9/25\n",
            "262/262 [==============================] - 211s 803ms/step - loss: 0.1340 - accuracy: 0.9506 - val_loss: 0.1954 - val_accuracy: 0.9450\n",
            "Epoch 10/25\n",
            "262/262 [==============================] - 211s 805ms/step - loss: 0.1188 - accuracy: 0.9570 - val_loss: 0.2844 - val_accuracy: 0.9013\n",
            "Epoch 11/25\n",
            "262/262 [==============================] - 210s 803ms/step - loss: 0.1056 - accuracy: 0.9618 - val_loss: 0.1415 - val_accuracy: 0.9650\n",
            "Epoch 12/25\n",
            "262/262 [==============================] - 211s 807ms/step - loss: 0.1092 - accuracy: 0.9606 - val_loss: 0.1742 - val_accuracy: 0.9438\n",
            "Epoch 13/25\n",
            "262/262 [==============================] - 211s 805ms/step - loss: 0.0936 - accuracy: 0.9660 - val_loss: 0.1994 - val_accuracy: 0.9262\n",
            "Epoch 14/25\n",
            "262/262 [==============================] - 211s 806ms/step - loss: 0.0913 - accuracy: 0.9656 - val_loss: 0.4092 - val_accuracy: 0.8800\n",
            "Epoch 15/25\n",
            "262/262 [==============================] - 207s 791ms/step - loss: 0.0910 - accuracy: 0.9660 - val_loss: 0.2030 - val_accuracy: 0.9262\n",
            "Epoch 16/25\n",
            "262/262 [==============================] - 204s 777ms/step - loss: 0.0830 - accuracy: 0.9684 - val_loss: 0.3674 - val_accuracy: 0.8863\n",
            "Epoch 17/25\n",
            "262/262 [==============================] - 204s 777ms/step - loss: 0.0822 - accuracy: 0.9697 - val_loss: 0.1049 - val_accuracy: 0.9638\n",
            "Epoch 18/25\n",
            "262/262 [==============================] - 206s 788ms/step - loss: 0.0800 - accuracy: 0.9706 - val_loss: 0.1717 - val_accuracy: 0.9425\n",
            "Epoch 19/25\n",
            "262/262 [==============================] - 205s 783ms/step - loss: 0.0790 - accuracy: 0.9713 - val_loss: 0.1815 - val_accuracy: 0.9413\n",
            "Epoch 20/25\n",
            "262/262 [==============================] - 206s 784ms/step - loss: 0.0737 - accuracy: 0.9721 - val_loss: 0.1388 - val_accuracy: 0.9613\n",
            "Epoch 21/25\n",
            "262/262 [==============================] - 207s 789ms/step - loss: 0.0769 - accuracy: 0.9716 - val_loss: 0.1737 - val_accuracy: 0.9438\n",
            "Epoch 22/25\n",
            "262/262 [==============================] - 206s 788ms/step - loss: 0.0628 - accuracy: 0.9784 - val_loss: 0.2155 - val_accuracy: 0.9413\n",
            "Epoch 23/25\n",
            "262/262 [==============================] - 208s 794ms/step - loss: 0.0656 - accuracy: 0.9766 - val_loss: 0.1581 - val_accuracy: 0.9525\n",
            "Epoch 24/25\n",
            "262/262 [==============================] - 204s 778ms/step - loss: 0.0545 - accuracy: 0.9805 - val_loss: 0.1154 - val_accuracy: 0.9588\n",
            "Epoch 25/25\n",
            "262/262 [==============================] - 203s 775ms/step - loss: 0.0658 - accuracy: 0.9772 - val_loss: 0.1817 - val_accuracy: 0.9525\n"
          ],
          "name": "stdout"
        }
      ]
    },
    {
      "cell_type": "code",
      "metadata": {
        "colab": {
          "base_uri": "https://localhost:8080/",
          "height": 276
        },
        "id": "vCTjCFalQ_jd",
        "outputId": "eb2fde22-a811-4c08-b49b-244b3c139120"
      },
      "source": [
        "plt.figure(figsize=(12, 8))\n",
        "x=[0,5,10,15,20,25]\n",
        "plt.subplot(2, 2, 1)\n",
        "plt.plot(r.history['loss'], label='Training Loss',scalex=True)\n",
        "plt.plot(r.history['val_loss'], label='Validation Loss',scalex=True)\n",
        "plt.xlabel(\"Epoch\")\n",
        "plt.ylabel(\"Loss\")\n",
        "\n",
        "plt.xlim(0,25)\n",
        "plt.legend()\n",
        "plt.title('Evaluation of loss')\n",
        "\n",
        "plt.subplot(2, 2, 2)\n",
        "plt.plot(r.history['accuracy'], label='Training Accuracy')\n",
        "plt.plot(r.history['val_accuracy'], label='Validation Accuracy')\n",
        "plt.xlabel(\"Epoch\")\n",
        "plt.ylabel(\"Accuracy\")\n",
        "plt.xlim(0,25)\n",
        "plt.legend()\n",
        "plt.title('Evaluation of accuracy')\n",
        "plt.savefig(\"irnv2_curve3.png\")\n"
      ],
      "execution_count": null,
      "outputs": [
        {
          "output_type": "display_data",
          "data": {
            "image/png": "[encoded data removed]",
            "text/plain": [
              "<Figure size 864x576 with 2 Axes>"
            ]
          },
          "metadata": {
            "needs_background": "light"
          }
        }
      ]
    },
    {
      "cell_type": "code",
      "metadata": {
        "colab": {
          "base_uri": "https://localhost:8080/"
        },
        "id": "lGYIvyI8RAWN",
        "outputId": "6bee1008-ba4c-432c-ceee-20714da87ce9"
      },
      "source": [
        "evaluation = model.evaluate(test)\n",
        "print(f\"Test Accuracy: {evaluation[1] * 100:.2f}%\")\n",
        "\n",
        "# evaluation = model.evaluate(train)\n",
        "# print(f\"Train Accuracy: {evaluation[1] * 100:.2f}%\")"
      ],
      "execution_count": null,
      "outputs": [
        {
          "output_type": "stream",
          "text": [
            "2790/2790 [==============================] - 1774s 636ms/step - loss: 0.2087 - accuracy: 0.9344\n",
            "Test Accuracy: 93.44%\n"
          ],
          "name": "stdout"
        }
      ]
    },
    {
      "cell_type": "code",
      "metadata": {
        "colab": {
          "base_uri": "https://localhost:8080/"
        },
        "id": "YcVm090wAXg_",
        "outputId": "7a3697c4-e101-4860-d6ea-ebe48515586d"
      },
      "source": [
        "from keras.utils.np_utils import to_categorical \n",
        "num_classes=len(test.class_indices)\n",
        "\n",
        "test_labels = test.classes  \n",
        "test_labels = to_categorical(test_labels, num_classes=num_classes) \n",
        "test_labels"
      ],
      "execution_count": null,
      "outputs": [
        {
          "output_type": "execute_result",
          "data": {
            "text/plain": [
              "array([[1., 0., 0.],\n",
              "       [1., 0., 0.],\n",
              "       [1., 0., 0.],\n",
              "       ...,\n",
              "       [0., 0., 1.],\n",
              "       [0., 0., 1.],\n",
              "       [0., 0., 1.]], dtype=float32)"
            ]
          },
          "metadata": {},
          "execution_count": 14
        }
      ]
    },
    {
      "cell_type": "code",
      "metadata": {
        "colab": {
          "base_uri": "https://localhost:8080/",
          "height": 173
        },
        "id": "y4AduED0RC8G",
        "outputId": "c989c523-9c4a-4004-d9e3-9402babdffd8"
      },
      "source": [
        "from sklearn.metrics import confusion_matrix, classification_report\n",
        "\n",
        "# rounded_labels=np.argmax(test, axis=1)\n",
        "\n",
        "pred = model.predict(test)\n",
        "# pred = np.argmax(predictions, axis=1)\n",
        "\n",
        "y_pred=np.argmax(pred, axis=1)\n",
        "y_test=np.argmax(test_labels, axis=1)\n",
        "\n",
        "\n",
        "cnf_matrix=confusion_matrix(y_test, y_pred)\n",
        "\n",
        "pd.DataFrame(classification_report(y_test,y_pred,output_dict=True))\n"
      ],
      "execution_count": null,
      "outputs": [
        {
          "output_type": "execute_result",
          "data": {
            "text/html": [
              "<div>\n",
              "<style scoped>\n",
              "    .dataframe tbody tr th:only-of-type {\n",
              "        vertical-align: middle;\n",
              "    }\n",
              "\n",
              "    .dataframe tbody tr th {\n",
              "        vertical-align: top;\n",
              "    }\n",
              "\n",
              "    .dataframe thead th {\n",
              "        text-align: right;\n",
              "    }\n",
              "</style>\n",
              "<table border=\"1\" class=\"dataframe\">\n",
              "  <thead>\n",
              "    <tr style=\"text-align: right;\">\n",
              "      <th></th>\n",
              "      <th>0</th>\n",
              "      <th>1</th>\n",
              "      <th>2</th>\n",
              "      <th>accuracy</th>\n",
              "      <th>macro avg</th>\n",
              "      <th>weighted avg</th>\n",
              "    </tr>\n",
              "  </thead>\n",
              "  <tbody>\n",
              "    <tr>\n",
              "      <th>precision</th>\n",
              "      <td>0.936898</td>\n",
              "      <td>0.891150</td>\n",
              "      <td>0.989679</td>\n",
              "      <td>0.937276</td>\n",
              "      <td>0.939242</td>\n",
              "      <td>0.939242</td>\n",
              "    </tr>\n",
              "    <tr>\n",
              "      <th>recall</th>\n",
              "      <td>0.941935</td>\n",
              "      <td>0.941935</td>\n",
              "      <td>0.927957</td>\n",
              "      <td>0.937276</td>\n",
              "      <td>0.937276</td>\n",
              "      <td>0.937276</td>\n",
              "    </tr>\n",
              "    <tr>\n",
              "      <th>f1-score</th>\n",
              "      <td>0.939410</td>\n",
              "      <td>0.915839</td>\n",
              "      <td>0.957825</td>\n",
              "      <td>0.937276</td>\n",
              "      <td>0.937691</td>\n",
              "      <td>0.937691</td>\n",
              "    </tr>\n",
              "    <tr>\n",
              "      <th>support</th>\n",
              "      <td>930.000000</td>\n",
              "      <td>930.000000</td>\n",
              "      <td>930.000000</td>\n",
              "      <td>0.937276</td>\n",
              "      <td>2790.000000</td>\n",
              "      <td>2790.000000</td>\n",
              "    </tr>\n",
              "  </tbody>\n",
              "</table>\n",
              "</div>"
            ],
            "text/plain": [
              "                    0           1  ...    macro avg  weighted avg\n",
              "precision    0.936898    0.891150  ...     0.939242      0.939242\n",
              "recall       0.941935    0.941935  ...     0.937276      0.937276\n",
              "f1-score     0.939410    0.915839  ...     0.937691      0.937691\n",
              "support    930.000000  930.000000  ...  2790.000000   2790.000000\n",
              "\n",
              "[4 rows x 6 columns]"
            ]
          },
          "metadata": {},
          "execution_count": 15
        }
      ]
    },
    {
      "cell_type": "code",
      "metadata": {
        "id": "-n8BmSrjDDoy"
      },
      "source": [
        "def plot_confusion_matrix(cm, classes,\n",
        "                          normalize=False,\n",
        "                          title='',\n",
        "                          cmap=plt.cm.Blues):\n",
        "    \"\"\"\n",
        "    This function prints and plots the confusion matrix.\n",
        "    Normalization can be applied by setting `normalize=True`.\n",
        "    \"\"\"\n",
        "    import itertools\n",
        "    if normalize:\n",
        "        cm = cm.astype('float') / cm.sum(axis=1)[:, np.newaxis]\n",
        "        print(\"Normalized confusion matrix\")\n",
        "    else:\n",
        "        print('Confusion matrix, without normalization')\n",
        "\n",
        "    print(cm)\n",
        "\n",
        "    plt.imshow(cm, interpolation='nearest', cmap=cmap)\n",
        "    plt.title(title)\n",
        "    plt.colorbar()\n",
        "    tick_marks = np.arange(len(classes))\n",
        "    plt.xticks(tick_marks, classes, rotation=45)\n",
        "    plt.yticks(tick_marks, classes)\n",
        "\n",
        "    fmt = '.2f' if normalize else 'd'\n",
        "    thresh = cm.max() / 2.\n",
        "    for i, j in itertools.product(range(cm.shape[0]), range(cm.shape[1])):\n",
        "        plt.text(j, i, format(cm[i, j], fmt),\n",
        "                 horizontalalignment=\"center\",\n",
        "                 color=\"white\" if cm[i, j] > thresh else \"black\")\n",
        "\n",
        "    plt.ylabel('True label')\n",
        "    plt.xlabel('Predicted label')\n",
        "    plt.tight_layout()"
      ],
      "execution_count": null,
      "outputs": []
    },
    {
      "cell_type": "code",
      "metadata": {
        "colab": {
          "base_uri": "https://localhost:8080/",
          "height": 365
        },
        "id": "uby9_RN9Db11",
        "outputId": "d7dbabef-4083-48b4-f404-4e604f6c5044"
      },
      "source": [
        "plt.figure()\n",
        "plot_confusion_matrix(cnf_matrix, classes=['COVID-19', 'Normal', 'Pneumonia'])\n",
        "plt.savefig(\"IRNV2_CONFUTIONMATRIX3.png\")\n"
      ],
      "execution_count": null,
      "outputs": [
        {
          "output_type": "stream",
          "text": [
            "Confusion matrix, without normalization\n",
            "[[876  49   5]\n",
            " [ 50 876   4]\n",
            " [  9  58 863]]\n"
          ],
          "name": "stdout"
        },
        {
          "output_type": "display_data",
          "data": {
            "image/png": "[encoded data removed]",
            "text/plain": [
              "<Figure size 432x288 with 2 Axes>"
            ]
          },
          "metadata": {
            "needs_background": "light"
          }
        }
      ]
    },
    {
      "cell_type": "code",
      "metadata": {
        "id": "n1KcYe2ZZuyr"
      },
      "source": [
        "model.save('irnv2_model_final_1.h5')"
      ],
      "execution_count": null,
      "outputs": []
    }
  ]
}
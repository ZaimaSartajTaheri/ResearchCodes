{
  "nbformat": 4,
  "nbformat_minor": 0,
  "metadata": {
    "colab": {
      "name": "T_vgg16(3)_1.1NonTUNED.ipynb",
      "provenance": [],
      "collapsed_sections": [],
      "include_colab_link": true
    },
    "kernelspec": {
      "name": "python3",
      "display_name": "Python 3"
    },
    "language_info": {
      "name": "python"
    },
    "accelerator": "GPU"
  },
  "cells": [
    {
      "cell_type": "markdown",
      "metadata": {
        "id": "view-in-github",
        "colab_type": "text"
      },
      "source": [
        "<a href=\"https://colab.research.google.com/github/ZaimaSartajTaheri/ResearchCodes/blob/main/T_vgg16(3)_1_1NonTUNED.ipynb\" target=\"_parent\"><img src=\"https://colab.research.google.com/assets/colab-badge.svg\" alt=\"Open In Colab\"/></a>"
      ]
    },
    {
      "cell_type": "code",
      "metadata": {
        "colab": {
          "base_uri": "https://localhost:8080/"
        },
        "id": "095p8vdhePJ3",
        "outputId": "06b5f740-d35a-443c-a8d0-6d47ba3b802b"
      },
      "source": [
        "from google.colab import drive\n",
        "drive.mount(\"/content/drive/\")"
      ],
      "execution_count": 4,
      "outputs": [
        {
          "output_type": "stream",
          "text": [
            "Mounted at /content/drive/\n"
          ],
          "name": "stdout"
        }
      ]
    },
    {
      "cell_type": "code",
      "metadata": {
        "id": "adGXnPrYej4i"
      },
      "source": [
        "test_dir=\"/content/drive/MyDrive/Project_materials/CovidDataset/Test\"\n",
        "train_dir=\"/content/drive/MyDrive/Project_materials/CovidDataset/Train\"\n",
        "val_dir=\"/content/drive/MyDrive/Project_materials/CovidDataset/Val\""
      ],
      "execution_count": 5,
      "outputs": []
    },
    {
      "cell_type": "markdown",
      "metadata": {
        "id": "42MhhiFhOuS_"
      },
      "source": [
        ""
      ]
    },
    {
      "cell_type": "code",
      "metadata": {
        "id": "5IrX-bjMfcy3"
      },
      "source": [
        "from keras.preprocessing.image import ImageDataGenerator, array_to_img, img_to_array, load_img\n",
        "from keras import optimizers\n",
        "from keras.callbacks import History \n",
        "from keras.preprocessing.image import ImageDataGenerator\n",
        "\n",
        "image_generator = ImageDataGenerator(\n",
        "    # rotation_range=20,\n",
        "     #width_shift_range=0.1,\n",
        "    # shear_range=0.1,\n",
        "     zoom_range=0.1,\n",
        "    samplewise_center=True,\n",
        "    samplewise_std_normalization=True\n",
        ")"
      ],
      "execution_count": 6,
      "outputs": []
    },
    {
      "cell_type": "code",
      "metadata": {
        "colab": {
          "base_uri": "https://localhost:8080/"
        },
        "id": "zNSRZyQtffWy",
        "outputId": "13f40e9f-a07b-485b-9a44-f4ffb07c2c43"
      },
      "source": [
        "train = image_generator.flow_from_directory(train_dir, \n",
        "                                            batch_size=32, \n",
        "                                            shuffle=True, \n",
        "                                            class_mode='categorical',\n",
        "                                            target_size=(224, 224))\n",
        "\n",
        "validation =image_generator.flow_from_directory(val_dir, \n",
        "                                                batch_size=1, \n",
        "                                                shuffle=False, \n",
        "                                                class_mode='categorical',\n",
        "                                                target_size=(224, 224))\n",
        "\n",
        "test =image_generator.flow_from_directory(test_dir, \n",
        "                                            batch_size=1, \n",
        "                                            shuffle=False, \n",
        "                                            class_mode='categorical',\n",
        "                                            target_size=(224, 224))"
      ],
      "execution_count": 7,
      "outputs": [
        {
          "output_type": "stream",
          "text": [
            "Found 8376 images belonging to 3 classes.\n",
            "Found 2792 images belonging to 3 classes.\n",
            "Found 2790 images belonging to 3 classes.\n"
          ],
          "name": "stdout"
        }
      ]
    },
    {
      "cell_type": "code",
      "metadata": {
        "colab": {
          "base_uri": "https://localhost:8080/"
        },
        "id": "q9Sy0EZwfiB7",
        "outputId": "9e4c7ec9-9856-4e60-95b4-0a60c04df8d0"
      },
      "source": [
        "nb_train_samples = len(train.filenames)  \n",
        "nb_train_samples\n",
        "num_classes=len(train.class_indices)\n",
        "num_classes"
      ],
      "execution_count": 8,
      "outputs": [
        {
          "output_type": "execute_result",
          "data": {
            "text/plain": [
              "3"
            ]
          },
          "metadata": {
            "tags": []
          },
          "execution_count": 8
        }
      ]
    },
    {
      "cell_type": "code",
      "metadata": {
        "colab": {
          "base_uri": "https://localhost:8080/"
        },
        "id": "9ouurCOwfqVF",
        "outputId": "6dcc85a5-7d6f-4e11-9859-7d98503f74d7"
      },
      "source": [
        "from keras.utils.np_utils import to_categorical \n",
        " # get the class lebels for the training data, in the original order  \n",
        "train_labels = train.classes  \n",
        "   \n",
        " # convert the training labels to categorical vectors  \n",
        "train_labels = to_categorical(train_labels, num_classes=num_classes) \n",
        "train_labels"
      ],
      "execution_count": 9,
      "outputs": [
        {
          "output_type": "execute_result",
          "data": {
            "text/plain": [
              "array([[1., 0., 0.],\n",
              "       [1., 0., 0.],\n",
              "       [1., 0., 0.],\n",
              "       ...,\n",
              "       [0., 0., 1.],\n",
              "       [0., 0., 1.],\n",
              "       [0., 0., 1.]], dtype=float32)"
            ]
          },
          "metadata": {
            "tags": []
          },
          "execution_count": 9
        }
      ]
    },
    {
      "cell_type": "code",
      "metadata": {
        "colab": {
          "base_uri": "https://localhost:8080/"
        },
        "id": "3oxic1Ppfq5Z",
        "outputId": "6f77c4ce-3301-4c06-cb36-92f014330299"
      },
      "source": [
        "validation_labels = validation.classes  \n",
        "validation_labels = to_categorical(validation_labels, num_classes=num_classes) \n",
        "validation_labels"
      ],
      "execution_count": 10,
      "outputs": [
        {
          "output_type": "execute_result",
          "data": {
            "text/plain": [
              "array([[1., 0., 0.],\n",
              "       [1., 0., 0.],\n",
              "       [1., 0., 0.],\n",
              "       ...,\n",
              "       [0., 0., 1.],\n",
              "       [0., 0., 1.],\n",
              "       [0., 0., 1.]], dtype=float32)"
            ]
          },
          "metadata": {
            "tags": []
          },
          "execution_count": 10
        }
      ]
    },
    {
      "cell_type": "code",
      "metadata": {
        "colab": {
          "base_uri": "https://localhost:8080/"
        },
        "id": "U5ZzUfveft7k",
        "outputId": "f3829640-7761-450f-aaf0-4eed358e8056"
      },
      "source": [
        "test_labels = test.classes  \n",
        "test_labels = to_categorical(test_labels, num_classes=num_classes) \n",
        "test_labels"
      ],
      "execution_count": 11,
      "outputs": [
        {
          "output_type": "execute_result",
          "data": {
            "text/plain": [
              "array([[1., 0., 0.],\n",
              "       [1., 0., 0.],\n",
              "       [1., 0., 0.],\n",
              "       ...,\n",
              "       [0., 0., 1.],\n",
              "       [0., 0., 1.],\n",
              "       [0., 0., 1.]], dtype=float32)"
            ]
          },
          "metadata": {
            "tags": []
          },
          "execution_count": 11
        }
      ]
    },
    {
      "cell_type": "code",
      "metadata": {
        "id": "SE_6nSAWfwks"
      },
      "source": [
        "#importing other required libraries\n",
        "import numpy as np\n",
        "import pandas as pd\n",
        "from sklearn.utils.multiclass import unique_labels\n",
        "import os\n",
        "import matplotlib.pyplot as plt\n",
        "import matplotlib.image as mpimg\n",
        "import seaborn as sns\n",
        "import itertools\n",
        "from sklearn.model_selection import train_test_split\n",
        "from sklearn.metrics import confusion_matrix\n",
        "from keras import Sequential\n",
        "from keras.applications.vgg16 import VGG16\n",
        "from keras.preprocessing.image import ImageDataGenerator\n",
        "from keras.optimizers import SGD,Adam\n",
        "from keras.callbacks import ReduceLROnPlateau\n",
        "from keras.layers import Flatten,Dense,BatchNormalization,Activation,Dropout\n",
        "from keras.models import Model\n",
        "import numpy as np\n",
        "import tensorflow as tf\n",
        "from tensorflow import keras\n",
        "from keras.layers import Convolution2D, MaxPooling2D, ZeroPadding2D, GlobalAveragePooling2D, AveragePooling2D"
      ],
      "execution_count": 12,
      "outputs": []
    },
    {
      "cell_type": "code",
      "metadata": {
        "id": "o9SPmyILf1cH",
        "colab": {
          "base_uri": "https://localhost:8080/"
        },
        "outputId": "f4b00f2e-3d84-4467-e229-dd7bb81e7a3f"
      },
      "source": [
        "#Defining the VGG Convolutional Neural Net\n",
        "base_model = VGG16(input_shape = (224, 224, 3), include_top = False, weights = 'imagenet')"
      ],
      "execution_count": 13,
      "outputs": [
        {
          "output_type": "stream",
          "text": [
            "Downloading data from https://storage.googleapis.com/tensorflow/keras-applications/vgg16/vgg16_weights_tf_dim_ordering_tf_kernels_notop.h5\n",
            "58892288/58889256 [==============================] - 0s 0us/step\n",
            "58900480/58889256 [==============================] - 0s 0us/step\n"
          ],
          "name": "stdout"
        }
      ]
    },
    {
      "cell_type": "code",
      "metadata": {
        "id": "87DSsmqHLu9S"
      },
      "source": [
        "base_model.trainable = False\n",
        "#Adding the final layers to the above base models where the actual classification is done in the dense layers\n",
        "model= Sequential()\n",
        "model.add(base_model) \n",
        "model.add(Flatten())\n"
      ],
      "execution_count": 14,
      "outputs": []
    },
    {
      "cell_type": "code",
      "metadata": {
        "id": "ZNydDFIko8RT"
      },
      "source": [
        "#Adding the Dense layers along with activation and batch normalization\n",
        "model.add(Dense(1024,activation=('relu'),input_dim=512))\n",
        "model.add(Dense(512,activation=('relu'))) \n",
        "model.add(Dense(256,activation=('relu'))) \n",
        "model.add(Dropout(.3))\n",
        "model.add(Dense(num_classes,activation=('softmax'))) \n"
      ],
      "execution_count": 15,
      "outputs": []
    },
    {
      "cell_type": "code",
      "metadata": {
        "colab": {
          "base_uri": "https://localhost:8080/"
        },
        "id": "SBhV2WEypiKA",
        "outputId": "27c1d615-c150-41b1-8dac-60e882a77d4b"
      },
      "source": [
        "model.summary()"
      ],
      "execution_count": 16,
      "outputs": [
        {
          "output_type": "stream",
          "text": [
            "Model: \"sequential\"\n",
            "_________________________________________________________________\n",
            "Layer (type)                 Output Shape              Param #   \n",
            "=================================================================\n",
            "vgg16 (Functional)           (None, 7, 7, 512)         14714688  \n",
            "_________________________________________________________________\n",
            "flatten (Flatten)            (None, 25088)             0         \n",
            "_________________________________________________________________\n",
            "dense (Dense)                (None, 1024)              25691136  \n",
            "_________________________________________________________________\n",
            "dense_1 (Dense)              (None, 512)               524800    \n",
            "_________________________________________________________________\n",
            "dense_2 (Dense)              (None, 256)               131328    \n",
            "_________________________________________________________________\n",
            "dropout (Dropout)            (None, 256)               0         \n",
            "_________________________________________________________________\n",
            "dense_3 (Dense)              (None, 3)                 771       \n",
            "=================================================================\n",
            "Total params: 41,062,723\n",
            "Trainable params: 26,348,035\n",
            "Non-trainable params: 14,714,688\n",
            "_________________________________________________________________\n"
          ],
          "name": "stdout"
        }
      ]
    },
    {
      "cell_type": "code",
      "metadata": {
        "id": "X2dwI2rbgl9b"
      },
      "source": [
        "model.compile(\n",
        "    optimizer='Adam',  # optimizer chooses the type of gradient descent one want to apply\n",
        "    loss='categorical_crossentropy',\n",
        "    metrics=['accuracy']\n",
        ")"
      ],
      "execution_count": 17,
      "outputs": []
    },
    {
      "cell_type": "code",
      "metadata": {
        "colab": {
          "base_uri": "https://localhost:8080/"
        },
        "id": "1PfqfmoZhUw2",
        "outputId": "4f2386e7-fab2-43e3-e480-16ec67caa309"
      },
      "source": [
        "\n",
        "r= model.fit(train,\n",
        "             validation_data = validation,\n",
        "             validation_steps=25,\n",
        "             epochs = 10\n",
        "             )"
      ],
      "execution_count": 18,
      "outputs": [
        {
          "output_type": "stream",
          "text": [
            "Epoch 1/10\n",
            "262/262 [==============================] - 3198s 12s/step - loss: 0.9483 - accuracy: 0.7982 - val_loss: 0.0397 - val_accuracy: 1.0000\n",
            "Epoch 2/10\n",
            "262/262 [==============================] - 130s 497ms/step - loss: 0.1376 - accuracy: 0.9550 - val_loss: 0.1254 - val_accuracy: 0.9600\n",
            "Epoch 3/10\n",
            "262/262 [==============================] - 129s 490ms/step - loss: 0.0795 - accuracy: 0.9694 - val_loss: 0.0706 - val_accuracy: 0.9600\n",
            "Epoch 4/10\n",
            "262/262 [==============================] - 128s 488ms/step - loss: 0.0508 - accuracy: 0.9813 - val_loss: 0.0703 - val_accuracy: 0.9600\n",
            "Epoch 5/10\n",
            "262/262 [==============================] - 128s 490ms/step - loss: 0.0659 - accuracy: 0.9793 - val_loss: 0.0071 - val_accuracy: 1.0000\n",
            "Epoch 6/10\n",
            "262/262 [==============================] - 127s 486ms/step - loss: 0.0586 - accuracy: 0.9782 - val_loss: 0.0068 - val_accuracy: 1.0000\n",
            "Epoch 7/10\n",
            "262/262 [==============================] - 127s 484ms/step - loss: 0.0447 - accuracy: 0.9858 - val_loss: 8.2574e-04 - val_accuracy: 1.0000\n",
            "Epoch 8/10\n",
            "262/262 [==============================] - 127s 483ms/step - loss: 0.0259 - accuracy: 0.9920 - val_loss: 0.0184 - val_accuracy: 1.0000\n",
            "Epoch 9/10\n",
            "262/262 [==============================] - 127s 485ms/step - loss: 0.0372 - accuracy: 0.9863 - val_loss: 0.0053 - val_accuracy: 1.0000\n",
            "Epoch 10/10\n",
            "262/262 [==============================] - 128s 486ms/step - loss: 0.0169 - accuracy: 0.9939 - val_loss: 0.0060 - val_accuracy: 1.0000\n"
          ],
          "name": "stdout"
        }
      ]
    },
    {
      "cell_type": "code",
      "metadata": {
        "colab": {
          "base_uri": "https://localhost:8080/"
        },
        "id": "Iskr2IgZhdC4",
        "outputId": "af4c9359-fa73-4752-d9da-094e518ab127"
      },
      "source": [
        "evaluation = model.evaluate(test)\n",
        "print(f\"Test Accuracy: {evaluation[1] * 100:.2f}%\")\n",
        "\n",
        "evaluation = model.evaluate(train)\n",
        "print(f\"Train Accuracy: {evaluation[1] * 100:.2f}%\")"
      ],
      "execution_count": 19,
      "outputs": [
        {
          "output_type": "stream",
          "text": [
            "2790/2790 [==============================] - 1003s 360ms/step - loss: 0.1304 - accuracy: 0.9513\n",
            "Test Accuracy: 95.13%\n",
            "262/262 [==============================] - 128s 488ms/step - loss: 0.0438 - accuracy: 0.9838\n",
            "Train Accuracy: 98.38%\n"
          ],
          "name": "stdout"
        }
      ]
    },
    {
      "cell_type": "code",
      "metadata": {
        "colab": {
          "base_uri": "https://localhost:8080/",
          "height": 172
        },
        "id": "QosFZH5lJSHd",
        "outputId": "235d3ca4-b0da-472c-f92a-b892a05354fc"
      },
      "source": [
        "from sklearn.metrics import confusion_matrix, classification_report\n",
        "import pandas as pd\n",
        "import numpy as np\n",
        "\n",
        "\n",
        "# rounded_labels=np.argmax(test, axis=1)\n",
        "\n",
        "pred = model.predict(test)\n",
        "# pred = np.argmax(predictions, axis=1)\n",
        "\n",
        "y_pred=np.argmax(pred, axis=1)\n",
        "y_test=np.argmax(test_labels, axis=1)\n",
        "\n",
        "\n",
        "cnf_matrix=confusion_matrix(y_test, y_pred)\n",
        "pd.DataFrame(classification_report(y_test,y_pred,output_dict=True))"
      ],
      "execution_count": 20,
      "outputs": [
        {
          "output_type": "execute_result",
          "data": {
            "text/html": [
              "<div>\n",
              "<style scoped>\n",
              "    .dataframe tbody tr th:only-of-type {\n",
              "        vertical-align: middle;\n",
              "    }\n",
              "\n",
              "    .dataframe tbody tr th {\n",
              "        vertical-align: top;\n",
              "    }\n",
              "\n",
              "    .dataframe thead th {\n",
              "        text-align: right;\n",
              "    }\n",
              "</style>\n",
              "<table border=\"1\" class=\"dataframe\">\n",
              "  <thead>\n",
              "    <tr style=\"text-align: right;\">\n",
              "      <th></th>\n",
              "      <th>0</th>\n",
              "      <th>1</th>\n",
              "      <th>2</th>\n",
              "      <th>accuracy</th>\n",
              "      <th>macro avg</th>\n",
              "      <th>weighted avg</th>\n",
              "    </tr>\n",
              "  </thead>\n",
              "  <tbody>\n",
              "    <tr>\n",
              "      <th>precision</th>\n",
              "      <td>0.887814</td>\n",
              "      <td>0.977108</td>\n",
              "      <td>0.991361</td>\n",
              "      <td>0.948746</td>\n",
              "      <td>0.952094</td>\n",
              "      <td>0.952094</td>\n",
              "    </tr>\n",
              "    <tr>\n",
              "      <th>recall</th>\n",
              "      <td>0.987097</td>\n",
              "      <td>0.872043</td>\n",
              "      <td>0.987097</td>\n",
              "      <td>0.948746</td>\n",
              "      <td>0.948746</td>\n",
              "      <td>0.948746</td>\n",
              "    </tr>\n",
              "    <tr>\n",
              "      <th>f1-score</th>\n",
              "      <td>0.934827</td>\n",
              "      <td>0.921591</td>\n",
              "      <td>0.989224</td>\n",
              "      <td>0.948746</td>\n",
              "      <td>0.948547</td>\n",
              "      <td>0.948547</td>\n",
              "    </tr>\n",
              "    <tr>\n",
              "      <th>support</th>\n",
              "      <td>930.000000</td>\n",
              "      <td>930.000000</td>\n",
              "      <td>930.000000</td>\n",
              "      <td>0.948746</td>\n",
              "      <td>2790.000000</td>\n",
              "      <td>2790.000000</td>\n",
              "    </tr>\n",
              "  </tbody>\n",
              "</table>\n",
              "</div>"
            ],
            "text/plain": [
              "                    0           1  ...    macro avg  weighted avg\n",
              "precision    0.887814    0.977108  ...     0.952094      0.952094\n",
              "recall       0.987097    0.872043  ...     0.948746      0.948746\n",
              "f1-score     0.934827    0.921591  ...     0.948547      0.948547\n",
              "support    930.000000  930.000000  ...  2790.000000   2790.000000\n",
              "\n",
              "[4 rows x 6 columns]"
            ]
          },
          "metadata": {
            "tags": []
          },
          "execution_count": 20
        }
      ]
    },
    {
      "cell_type": "code",
      "metadata": {
        "id": "-fCLqpxsJy9j"
      },
      "source": [
        "import matplotlib.pyplot as plt\n",
        "def plot_confusion_matrix(cm, classes,\n",
        "                          normalize=False,\n",
        "                          title='Confusion matrix',\n",
        "                          cmap=plt.cm.Blues):\n",
        "    \"\"\"\n",
        "    This function prints and plots the confusion matrix.\n",
        "    Normalization can be applied by setting normalize=True.\n",
        "    \"\"\"\n",
        "    import itertools\n",
        "    if normalize:\n",
        "        cm = cm.astype('float') / cm.sum(axis=1)[:, np.newaxis]\n",
        "        print(\"Normalized confusion matrix\")\n",
        "    else:\n",
        "        print('Confusion matrix, without normalization')\n",
        "\n",
        "    print(cm)\n",
        "\n",
        "    plt.imshow(cm, interpolation='nearest', cmap=cmap)\n",
        "    plt.title(title)\n",
        "    plt.colorbar()\n",
        "    tick_marks = np.arange(len(classes))\n",
        "    plt.xticks(tick_marks, classes, rotation=45)\n",
        "    plt.yticks(tick_marks, classes)\n",
        "\n",
        "    fmt = '.2f' if normalize else 'd'\n",
        "    thresh = cm.max() / 2.\n",
        "    for i, j in itertools.product(range(cm.shape[0]), range(cm.shape[1])):\n",
        "        plt.text(j, i, format(cm[i, j], fmt),\n",
        "                 horizontalalignment=\"center\",\n",
        "                 color=\"white\" if cm[i, j] > thresh else \"black\")\n",
        "\n",
        "    plt.ylabel('True label')\n",
        "    plt.xlabel('Predicted label')\n",
        "    plt.tight_layout()"
      ],
      "execution_count": 21,
      "outputs": []
    },
    {
      "cell_type": "code",
      "metadata": {
        "colab": {
          "base_uri": "https://localhost:8080/",
          "height": 364
        },
        "id": "2nSYXsIcKctQ",
        "outputId": "66fec45a-990a-4235-9fd5-cbe778c629d8"
      },
      "source": [
        "plt.figure()\n",
        "plot_confusion_matrix(cnf_matrix, classes=['Covid', 'Normal', 'Pneumonia'],\n",
        "                      title='Confusion matrix, without normalization')\n",
        "plt.savefig('Confution Matrix')"
      ],
      "execution_count": 22,
      "outputs": [
        {
          "output_type": "stream",
          "text": [
            "Confusion matrix, without normalization\n",
            "[[918   9   3]\n",
            " [114 811   5]\n",
            " [  2  10 918]]\n"
          ],
          "name": "stdout"
        },
        {
          "output_type": "display_data",
          "data": {
            "image/png": "[encoded data removed]",
            "text/plain": [
              "<Figure size 432x288 with 2 Axes>"
            ]
          },
          "metadata": {
            "tags": [],
            "needs_background": "light"
          }
        }
      ]
    },
    {
      "cell_type": "code",
      "metadata": {
        "colab": {
          "base_uri": "https://localhost:8080/",
          "height": 262
        },
        "id": "cFaP5-P_KgPf",
        "outputId": "05e5cd93-575d-4836-c69e-d672b2f27477"
      },
      "source": [
        "\n",
        "plt.figure(figsize=(12, 8))\n",
        "\n",
        "plt.subplot(2, 2, 1)\n",
        "plt.plot(r.history['loss'], label='Loss')\n",
        "plt.plot(r.history['val_loss'], label='Val_Loss')\n",
        "plt.legend()\n",
        "plt.title('Loss Evolution')\n",
        "plt.savefig('loss Curve')\n",
        "\n",
        "plt.subplot(2, 2, 2)\n",
        "plt.plot(r.history['accuracy'], label='Accuracy')\n",
        "plt.plot(r.history['val_accuracy'], label='Val_Accuracy')\n",
        "plt.legend()\n",
        "plt.title('Accuracy Evolution')\n",
        "plt.savefig('Accuracy Curve')"
      ],
      "execution_count": 23,
      "outputs": [
        {
          "output_type": "display_data",
          "data": {
            "image/png": "[encoded data removed]",
            "text/plain": [
              "<Figure size 864x576 with 2 Axes>"
            ]
          },
          "metadata": {
            "tags": [],
            "needs_background": "light"
          }
        }
      ]
    },
    {
      "cell_type": "code",
      "metadata": {
        "id": "hvJjG9gxKpbR"
      },
      "source": [
        ""
      ],
      "execution_count": null,
      "outputs": []
    },
    {
      "cell_type": "code",
      "metadata": {
        "id": "OusKbrH2NVIu"
      },
      "source": [
        ""
      ],
      "execution_count": null,
      "outputs": []
    }
  ]
}
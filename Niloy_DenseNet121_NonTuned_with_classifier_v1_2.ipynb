{
  "nbformat": 4,
  "nbformat_minor": 0,
  "metadata": {
    "accelerator": "GPU",
    "colab": {
      "name": "Niloy_DenseNet121_NonTuned_with_classifier v1.2.ipynb",
      "provenance": [],
      "mount_file_id": "1tOhJNu2WbVigprlw3hclcsVrWFwkaxo7",
      "authorship_tag": "ABX9TyPKPY+QTD9b/kDsgapLu/LX",
      "include_colab_link": true
    },
    "kernelspec": {
      "display_name": "Python 3",
      "name": "python3"
    },
    "language_info": {
      "name": "python"
    }
  },
  "cells": [
    {
      "cell_type": "markdown",
      "metadata": {
        "id": "view-in-github",
        "colab_type": "text"
      },
      "source": [
        "<a href=\"https://colab.research.google.com/github/ZaimaSartajTaheri/ResearchCodes/blob/main/Niloy_DenseNet121_NonTuned_with_classifier_v1_2.ipynb\" target=\"_parent\"><img src=\"https://colab.research.google.com/assets/colab-badge.svg\" alt=\"Open In Colab\"/></a>"
      ]
    },
    {
      "cell_type": "code",
      "metadata": {
        "colab": {
          "base_uri": "https://localhost:8080/"
        },
        "id": "9U6MOlo1wtfg",
        "outputId": "2760e0d5-7350-4ce6-9d0e-81c2ff10eb7a"
      },
      "source": [
        "import numpy as np\n",
        "import matplotlib.pyplot as plt\n",
        "import keras\n",
        "from keras.layers import *\n",
        "from keras.models import *\n",
        "from keras.preprocessing import image\n",
        "from tensorflow.keras import datasets, layers, models\n",
        "import tensorflow_hub as hub\n",
        "from sklearn.ensemble import RandomForestClassifier\n",
        "import tensorflow as tf\n",
        "import tensorboard\n",
        "\n",
        "X_train_path = \"/content/drive/MyDrive/Research/v1_0/Train\"\n",
        "X_test_path = \"/content/drive/MyDrive/Research/v1_0/Test\"\n",
        "Val_test_path = \"/content/drive/MyDrive/Research/v1_0/Val\"\n",
        "\n",
        "# design the traing dataset\n",
        "train_datagen = image.ImageDataGenerator(\n",
        "    rescale=1/255,\n",
        "    zoom_range=0.1,\n",
        "    samplewise_center=True,\n",
        "    samplewise_std_normalization=True\n",
        ")\n",
        "\n",
        "X_train = train_datagen.flow_from_directory(\n",
        "    X_train_path,\n",
        "    target_size=(224, 224),\n",
        "    batch_size=32,\n",
        "    shuffle=True, \n",
        "    class_mode = \"categorical\"\n",
        ")\n",
        "\n",
        "# design the test dataset\n",
        "# test_datagen = image.ImageDataGenerator(rescale=1/255)\n",
        "\n",
        "X_test = train_datagen.flow_from_directory(\n",
        "    X_test_path,\n",
        "    target_size=(224, 224),\n",
        "    batch_size=1,\n",
        "    shuffle=False,\n",
        "    class_mode= \"categorical\"\n",
        ")\n",
        "\n",
        "# design the test dataset\n",
        "# Val_datagen = image.ImageDataGenerator(rescale=1/255)\n",
        "\n",
        "Val_test = train_datagen.flow_from_directory(\n",
        "    Val_test_path,\n",
        "    target_size=(224, 224),\n",
        "    batch_size=1,\n",
        "    shuffle=False,\n",
        "    class_mode= \"categorical\"\n",
        ")\n",
        "\n",
        "#Getting numbers of samples and classes\n",
        "nb_train_samples = len(X_train.filenames)  \n",
        "nb_train_samples\n",
        "num_classes=len(X_train.class_indices)\n",
        "num_classes\n",
        "\n",
        "\n",
        "from keras.utils.np_utils import to_categorical \n",
        "# get the class lebels for the training data, in the original order  \n",
        "train_labels = X_train.classes  \n",
        "train_labels = to_categorical(train_labels, num_classes=num_classes) \n",
        "\n",
        "validation_labels = Val_test.classes  \n",
        "validation_labels = to_categorical(validation_labels, num_classes=num_classes) \n",
        "\n",
        "test_labels = X_test.classes  \n",
        "test_labels = to_categorical(test_labels, num_classes=num_classes) "
      ],
      "execution_count": 1,
      "outputs": [
        {
          "output_type": "stream",
          "text": [
            "Found 8376 images belonging to 3 classes.\n",
            "Found 2790 images belonging to 3 classes.\n",
            "Found 2792 images belonging to 3 classes.\n"
          ],
          "name": "stdout"
        }
      ]
    },
    {
      "cell_type": "code",
      "metadata": {
        "colab": {
          "base_uri": "https://localhost:8080/"
        },
        "id": "GU-YF6dsdGBI",
        "outputId": "fd11f29d-883a-42f1-a218-cf2d08eca442"
      },
      "source": [
        "# TL Model\n",
        "from keras.applications.densenet import DenseNet121\n",
        "base_model = DenseNet121(\n",
        "    include_top=False, weights='imagenet',input_shape = (224, 224, 3)\n",
        ")\n",
        "\n",
        "# changing the output layer of the TL layer\n",
        "x = base_model.output\n",
        "x = GlobalMaxPooling2D()(x)\n",
        "x = Dropout(.5)(x)\n",
        "predictions = Dense(X_train.num_classes, activation='softmax')(x)\n",
        "model = Model(inputs=base_model.input, outputs=predictions)\n",
        "\n",
        "for layer in base_model.layers:\n",
        "    layer.trainable = False\n",
        "\n",
        "feature_extractor = model.predict(X_train)\n",
        "features = feature_extractor.reshape(feature_extractor.shape[0], -1)\n",
        "X_for_RF = features\n",
        "\n",
        "from sklearn.ensemble import RandomForestClassifier\n",
        "RF_model = RandomForestClassifier(n_estimators = 50, random_state = 42)\n",
        "\n",
        "# model.compile(\n",
        "#     optimizer='adam',  # optimizer chooses the type of gradient descent one want to apply\n",
        "#     loss='categorical_crossentropy',\n",
        "#     metrics=['accuracy']\n",
        "# )\n",
        "\n",
        "# RF_model.summary()\n",
        "\n",
        "RF_model.fit(X_for_RF, X_train.classes)\n",
        "\n",
        "\n"
      ],
      "execution_count": 2,
      "outputs": [
        {
          "output_type": "stream",
          "text": [
            "Downloading data from https://storage.googleapis.com/tensorflow/keras-applications/densenet/densenet121_weights_tf_dim_ordering_tf_kernels_notop.h5\n",
            "29089792/29084464 [==============================] - 0s 0us/step\n",
            "29097984/29084464 [==============================] - 0s 0us/step\n"
          ],
          "name": "stdout"
        },
        {
          "output_type": "execute_result",
          "data": {
            "text/plain": [
              "RandomForestClassifier(bootstrap=True, ccp_alpha=0.0, class_weight=None,\n",
              "                       criterion='gini', max_depth=None, max_features='auto',\n",
              "                       max_leaf_nodes=None, max_samples=None,\n",
              "                       min_impurity_decrease=0.0, min_impurity_split=None,\n",
              "                       min_samples_leaf=1, min_samples_split=2,\n",
              "                       min_weight_fraction_leaf=0.0, n_estimators=50,\n",
              "                       n_jobs=None, oob_score=False, random_state=42, verbose=0,\n",
              "                       warm_start=False)"
            ]
          },
          "metadata": {
            "tags": []
          },
          "execution_count": 2
        }
      ]
    },
    {
      "cell_type": "code",
      "metadata": {
        "id": "FaFPX61j8MUl"
      },
      "source": [
        "X_test_feature = model.predict(X_test)\n",
        "X_test_features = X_test_feature.reshape(X_test_feature.shape[0], -1)\n",
        "prediction_RF = RF_model.predict(X_test_features)\n",
        "# from sklearn import preprocessing\n",
        "# le = preprocessing.LabelEncoder()\n",
        "# prediction_RF = le.inverse_transform(prediction_RF)\n",
        "\n"
      ],
      "execution_count": 4,
      "outputs": []
    },
    {
      "cell_type": "code",
      "metadata": {
        "colab": {
          "base_uri": "https://localhost:8080/"
        },
        "id": "91STcSmx_6kM",
        "outputId": "076da28f-e092-48f9-ebad-1a5854ea5b54"
      },
      "source": [
        "from sklearn import metrics\n",
        "print(\"Accuracy = \", metrics.accuracy_score(X_test.classes, prediction_RF))"
      ],
      "execution_count": 5,
      "outputs": [
        {
          "output_type": "stream",
          "text": [
            "Accuracy =  0.34516129032258064\n"
          ],
          "name": "stdout"
        }
      ]
    },
    {
      "cell_type": "code",
      "metadata": {
        "id": "JBFuz7L5t_aL"
      },
      "source": [
        "r = model.fit(X_train, epochs=10, steps_per_epoch = 262, validation_data=(\n",
        "    Val_test), validation_steps = 25)\n",
        "\n",
        "# evaluate on test set\n",
        "model.evaluate(X_test)"
      ],
      "execution_count": null,
      "outputs": []
    },
    {
      "cell_type": "code",
      "metadata": {
        "colab": {
          "base_uri": "https://localhost:8080/",
          "height": 139
        },
        "id": "aR4VZPXzzPUu",
        "outputId": "3a1cfd1e-c724-4ae6-d26d-21e87568df17"
      },
      "source": [
        "plt.figure(figsize=(12, 8))\n",
        "\n",
        "plt.subplot(2, 2, 1)\n",
        "plt.plot(r.history['loss'], label='Loss')\n",
        "plt.plot(r.history['val_loss'], label='Val_Loss')\n",
        "plt.legend()\n",
        "plt.title('Loss Evolution')\n",
        "plt.savefig('lossCurve')\n",
        "\n",
        "plt.subplot(2, 2, 2)\n",
        "plt.plot(r.history['accuracy'], label='Accuracy')\n",
        "plt.plot(r.history['val_accuracy'], label='Val_Accuracy')\n",
        "plt.legend()\n",
        "plt.title('Accuracy Evolution')\n",
        "plt.savefig('accuracyCurve')\n",
        "\n",
        "# Classification Report\n",
        "from sklearn.metrics import confusion_matrix, classification_report\n",
        "import pandas as pd\n",
        "import numpy as np\n",
        "\n",
        "pred = model.predict(X_test)\n",
        "y_pred=np.argmax(pred, axis=1)\n",
        "y_test=np.argmax(test_labels, axis=1)\n",
        "\n",
        "cnf_matrix=confusion_matrix(y_test, y_pred)\n",
        "pd.DataFrame(classification_report(y_test,y_pred,output_dict=True))\n",
        "\n",
        "# Confusion Matrix\n",
        "import matplotlib.pyplot as plt\n",
        "def plot_confusion_matrix(cm, classes,\n",
        "                          normalize=False,\n",
        "                          title='Confusion matrix',\n",
        "                          cmap=plt.cm.Blues):\n",
        "    \"\"\"\n",
        "    This function prints and plots the confusion matrix.\n",
        "    Normalization can be applied by setting normalize=True.\n",
        "    \"\"\"\n",
        "    import itertools\n",
        "    if normalize:\n",
        "        cm = cm.astype('float') / cm.sum(axis=1)[:, np.newaxis]\n",
        "        print(\"Normalized confusion matrix\")\n",
        "    else:\n",
        "        print('Confusion matrix, without normalization')\n",
        "\n",
        "    print(cm)\n",
        "\n",
        "    plt.imshow(cm, interpolation='nearest', cmap=cmap)\n",
        "    plt.title(title)\n",
        "    plt.colorbar()\n",
        "    tick_marks = np.arange(len(classes))\n",
        "    plt.xticks(tick_marks, classes, rotation=45)\n",
        "    plt.yticks(tick_marks, classes)\n",
        "\n",
        "    fmt = '.2f' if normalize else 'd'\n",
        "    thresh = cm.max() / 2.\n",
        "    for i, j in itertools.product(range(cm.shape[0]), range(cm.shape[1])):\n",
        "        plt.text(j, i, format(cm[i, j], fmt),\n",
        "                 horizontalalignment=\"center\",\n",
        "                 color=\"white\" if cm[i, j] > thresh else \"black\")\n",
        "\n",
        "    plt.ylabel('True label')\n",
        "    plt.xlabel('Predicted label')\n",
        "    plt.tight_layout()\n",
        "    plt.savefig('ConfusionMatrix')\n",
        "\n",
        "plt.figure()\n",
        "plot_confusion_matrix(cnf_matrix, classes=['Covid', 'Normal', 'Pneumonia'],\n",
        "                    title='Confusion matrix, without normalization')\n",
        "\n",
        "# plt.figure(figsize=(12, 8))\n",
        "\n",
        "# plt.subplot(2, 2, 1)\n",
        "# plt.plot(r.history['loss'], label='Loss')\n",
        "# plt.plot(r.history['val_loss'], label='Val_Loss')\n",
        "# plt.legend()\n",
        "# plt.title('Loss Evolution')\n",
        "# plt.savefig('lossCurve')\n",
        "\n",
        "# plt.subplot(2, 2, 2)\n",
        "# plt.plot(r.history['accuracy'], label='Accuracy')\n",
        "# plt.plot(r.history['val_accuracy'], label='Val_Accuracy')\n",
        "# plt.legend()\n",
        "# plt.title('Accuracy Evolution')\n",
        "# plt.savefig('accuracyCurve')"
      ],
      "execution_count": null,
      "outputs": [
        {
          "output_type": "stream",
          "text": [
            "Confusion matrix, without normalization\n",
            "[[541 387   2]\n",
            " [ 16 913   1]\n",
            " [  2 175 753]]\n"
          ],
          "name": "stdout"
        },
        {
          "output_type": "display_data",
          "data": {
            "image/png": "[encoded data removed]",
            "text/plain": [
              "<Figure size 864x576 with 2 Axes>"
            ]
          },
          "metadata": {
            "tags": []
          }
        },
        {
          "output_type": "display_data",
          "data": {
            "image/png": "[encoded data removed]",
            "text/plain": [
              "<Figure size 432x288 with 2 Axes>"
            ]
          },
          "metadata": {
            "tags": []
          }
        }
      ]
    }
  ]
}
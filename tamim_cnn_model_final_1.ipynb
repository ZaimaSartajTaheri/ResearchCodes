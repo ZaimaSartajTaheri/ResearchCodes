{
  "nbformat": 4,
  "nbformat_minor": 0,
  "metadata": {
    "accelerator": "GPU",
    "colab": {
      "name": "tamim_cnn_model_final_1.ipynb",
      "provenance": [],
      "authorship_tag": "ABX9TyPYi7vZBbkEoVOTAqYJF9pu",
      "include_colab_link": true
    },
    "kernelspec": {
      "display_name": "Python 3",
      "name": "python3"
    },
    "language_info": {
      "name": "python"
    }
  },
  "cells": [
    {
      "cell_type": "markdown",
      "metadata": {
        "id": "view-in-github",
        "colab_type": "text"
      },
      "source": [
        "<a href=\"https://colab.research.google.com/github/ZaimaSartajTaheri/ResearchCodes/blob/main/tamim_cnn_model_final_1.ipynb\" target=\"_parent\"><img src=\"https://colab.research.google.com/assets/colab-badge.svg\" alt=\"Open In Colab\"/></a>"
      ]
    },
    {
      "cell_type": "code",
      "metadata": {
        "colab": {
          "base_uri": "https://localhost:8080/"
        },
        "id": "mjiMqytvAVel",
        "outputId": "4f7d6331-104c-4ff4-a683-4f43db1964d4"
      },
      "source": [
        "from google.colab import drive\n",
        "drive.mount(\"/content/drive/\")"
      ],
      "execution_count": 1,
      "outputs": [
        {
          "output_type": "stream",
          "text": [
            "Mounted at /content/drive/\n"
          ],
          "name": "stdout"
        }
      ]
    },
    {
      "cell_type": "code",
      "metadata": {
        "id": "TyoY5NUxAWSs"
      },
      "source": [
        "test_dir=\"/content/drive/MyDrive/CovidDataset/Test\"\n",
        "train_dir=\"/content/drive/MyDrive/CovidDataset/Train\"\n",
        "val_dir=\"/content/drive/MyDrive/CovidDataset/Val\""
      ],
      "execution_count": 2,
      "outputs": []
    },
    {
      "cell_type": "code",
      "metadata": {
        "id": "hYxw-ReVAiu2"
      },
      "source": [
        "from keras.preprocessing.image import ImageDataGenerator, array_to_img, img_to_array, load_img\n",
        "from keras import optimizers\n",
        "from keras.callbacks import History \n",
        "from keras.preprocessing.image import ImageDataGenerator\n",
        "\n",
        "image_generator = ImageDataGenerator(\n",
        "    # rotation_range=20,\n",
        "     #width_shift_range=0.1,\n",
        "    # shear_range=0.1,\n",
        "     zoom_range=0.1,\n",
        "    samplewise_center=True,\n",
        "    samplewise_std_normalization=True\n",
        ")"
      ],
      "execution_count": 3,
      "outputs": []
    },
    {
      "cell_type": "code",
      "metadata": {
        "colab": {
          "base_uri": "https://localhost:8080/"
        },
        "id": "Fp8VLJKUAlxg",
        "outputId": "ab123deb-8736-4b1f-8ae2-db85a1bb0338"
      },
      "source": [
        "train = image_generator.flow_from_directory(train_dir, \n",
        "                                            batch_size=32, \n",
        "                                            shuffle=True, \n",
        "                                            class_mode='categorical',\n",
        "                                            target_size=(224, 224))\n",
        "\n",
        "validation =image_generator.flow_from_directory(val_dir, \n",
        "                                                batch_size=1, \n",
        "                                                shuffle=False, \n",
        "                                                class_mode='categorical',\n",
        "                                                target_size=(224, 224))\n",
        "\n",
        "test =image_generator.flow_from_directory(test_dir, \n",
        "                                            batch_size=1, \n",
        "                                            shuffle=False, \n",
        "                                            class_mode='categorical',\n",
        "                                            target_size=(224, 224))"
      ],
      "execution_count": 4,
      "outputs": [
        {
          "output_type": "stream",
          "text": [
            "Found 8376 images belonging to 3 classes.\n",
            "Found 2792 images belonging to 3 classes.\n",
            "Found 2790 images belonging to 3 classes.\n"
          ],
          "name": "stdout"
        }
      ]
    },
    {
      "cell_type": "code",
      "metadata": {
        "id": "afCHVUFbAqQo"
      },
      "source": [
        "import os\n",
        "import numpy as np\n",
        "import pandas as pd \n",
        "import matplotlib.pyplot as plt\n",
        "import seaborn as sns\n",
        "import tensorflow as tf\n",
        "from tensorflow import keras\n",
        "from keras.models import Sequential\n",
        "from keras.layers import Dense, Conv2D, MaxPool2D, Dropout, Flatten, BatchNormalization\n",
        "\n",
        "\n",
        "model = Sequential()\n",
        "model.add(Conv2D(32,kernel_size=(3,3),activation='relu',input_shape=(224,224,3)))\n",
        "model.add(Conv2D(64,(3,3),activation='relu'))\n",
        "model.add(MaxPool2D(pool_size=(2,2)))\n",
        "model.add(Dropout(0.25))\n",
        "\n",
        "model.add(Conv2D(64,(3,3),activation='relu'))\n",
        "model.add(MaxPool2D(pool_size=(2,2)))\n",
        "model.add(Dropout(0.2))\n",
        "\n",
        "model.add(Conv2D(64,(3,3),activation='relu'))\n",
        "model.add(MaxPool2D(pool_size=(2,2)))\n",
        "model.add(Dropout(0.3))\n",
        "\n",
        "model.add(Flatten())\n",
        "# model.add(Dense(64,activation='relu'))\n",
        "\n",
        "model.add(Dense(3,activation='softmax'))\n",
        "\n",
        "model.compile(loss=keras.losses.categorical_crossentropy,optimizer='adam',metrics=['accuracy'])"
      ],
      "execution_count": 5,
      "outputs": []
    },
    {
      "cell_type": "code",
      "metadata": {
        "colab": {
          "base_uri": "https://localhost:8080/"
        },
        "id": "l885YhigBD1o",
        "outputId": "f54947ec-0531-4c65-db59-a36d36fdf285"
      },
      "source": [
        "model.summary()"
      ],
      "execution_count": 7,
      "outputs": [
        {
          "output_type": "stream",
          "text": [
            "Model: \"sequential\"\n",
            "_________________________________________________________________\n",
            "Layer (type)                 Output Shape              Param #   \n",
            "=================================================================\n",
            "conv2d (Conv2D)              (None, 222, 222, 32)      896       \n",
            "_________________________________________________________________\n",
            "conv2d_1 (Conv2D)            (None, 220, 220, 64)      18496     \n",
            "_________________________________________________________________\n",
            "max_pooling2d (MaxPooling2D) (None, 110, 110, 64)      0         \n",
            "_________________________________________________________________\n",
            "dropout (Dropout)            (None, 110, 110, 64)      0         \n",
            "_________________________________________________________________\n",
            "conv2d_2 (Conv2D)            (None, 108, 108, 64)      36928     \n",
            "_________________________________________________________________\n",
            "max_pooling2d_1 (MaxPooling2 (None, 54, 54, 64)        0         \n",
            "_________________________________________________________________\n",
            "dropout_1 (Dropout)          (None, 54, 54, 64)        0         \n",
            "_________________________________________________________________\n",
            "conv2d_3 (Conv2D)            (None, 52, 52, 64)        36928     \n",
            "_________________________________________________________________\n",
            "max_pooling2d_2 (MaxPooling2 (None, 26, 26, 64)        0         \n",
            "_________________________________________________________________\n",
            "dropout_2 (Dropout)          (None, 26, 26, 64)        0         \n",
            "_________________________________________________________________\n",
            "flatten (Flatten)            (None, 43264)             0         \n",
            "_________________________________________________________________\n",
            "dense (Dense)                (None, 3)                 129795    \n",
            "=================================================================\n",
            "Total params: 223,043\n",
            "Trainable params: 223,043\n",
            "Non-trainable params: 0\n",
            "_________________________________________________________________\n"
          ],
          "name": "stdout"
        }
      ]
    },
    {
      "cell_type": "code",
      "metadata": {
        "colab": {
          "base_uri": "https://localhost:8080/"
        },
        "id": "ulAMDnP_BNe9",
        "outputId": "ff6e38f2-a8d4-428d-aa6e-230cd9b5beb4"
      },
      "source": [
        "\n",
        "r = model.fit(\n",
        "    train, \n",
        "    epochs=20,\n",
        "    validation_data=validation,\n",
        "    validation_steps=100,\n",
        ")"
      ],
      "execution_count": 9,
      "outputs": [
        {
          "output_type": "stream",
          "text": [
            "Epoch 1/20\n",
            "262/262 [==============================] - 2832s 11s/step - loss: 0.6840 - accuracy: 0.6833 - val_loss: 0.2744 - val_accuracy: 0.9100\n",
            "Epoch 2/20\n",
            "262/262 [==============================] - 142s 542ms/step - loss: 0.3274 - accuracy: 0.8634 - val_loss: 0.2872 - val_accuracy: 0.9200\n",
            "Epoch 3/20\n",
            "262/262 [==============================] - 142s 544ms/step - loss: 0.2508 - accuracy: 0.9012 - val_loss: 0.3614 - val_accuracy: 0.8500\n",
            "Epoch 4/20\n",
            "262/262 [==============================] - 140s 534ms/step - loss: 0.2058 - accuracy: 0.9230 - val_loss: 0.1880 - val_accuracy: 0.9500\n",
            "Epoch 5/20\n",
            "262/262 [==============================] - 139s 531ms/step - loss: 0.1904 - accuracy: 0.9265 - val_loss: 0.3041 - val_accuracy: 0.8900\n",
            "Epoch 6/20\n",
            "262/262 [==============================] - 140s 534ms/step - loss: 0.1609 - accuracy: 0.9416 - val_loss: 0.2237 - val_accuracy: 0.9100\n",
            "Epoch 7/20\n",
            "262/262 [==============================] - 139s 530ms/step - loss: 0.1427 - accuracy: 0.9447 - val_loss: 0.2163 - val_accuracy: 0.9400\n",
            "Epoch 8/20\n",
            "262/262 [==============================] - 140s 534ms/step - loss: 0.1303 - accuracy: 0.9505 - val_loss: 0.2258 - val_accuracy: 0.9000\n",
            "Epoch 9/20\n",
            "262/262 [==============================] - 138s 527ms/step - loss: 0.1222 - accuracy: 0.9526 - val_loss: 0.1682 - val_accuracy: 0.9300\n",
            "Epoch 10/20\n",
            "262/262 [==============================] - 138s 526ms/step - loss: 0.1223 - accuracy: 0.9545 - val_loss: 0.1518 - val_accuracy: 0.9400\n",
            "Epoch 11/20\n",
            "262/262 [==============================] - 138s 526ms/step - loss: 0.1131 - accuracy: 0.9559 - val_loss: 0.0933 - val_accuracy: 0.9700\n",
            "Epoch 12/20\n",
            "262/262 [==============================] - 138s 526ms/step - loss: 0.0927 - accuracy: 0.9672 - val_loss: 0.1968 - val_accuracy: 0.9300\n",
            "Epoch 13/20\n",
            "262/262 [==============================] - 138s 526ms/step - loss: 0.1033 - accuracy: 0.9601 - val_loss: 0.1929 - val_accuracy: 0.9400\n",
            "Epoch 14/20\n",
            "262/262 [==============================] - 137s 523ms/step - loss: 0.0829 - accuracy: 0.9680 - val_loss: 0.4106 - val_accuracy: 0.9200\n",
            "Epoch 15/20\n",
            "262/262 [==============================] - 138s 528ms/step - loss: 0.0838 - accuracy: 0.9694 - val_loss: 0.2881 - val_accuracy: 0.9200\n",
            "Epoch 16/20\n",
            "262/262 [==============================] - 137s 522ms/step - loss: 0.0730 - accuracy: 0.9713 - val_loss: 0.1975 - val_accuracy: 0.9500\n",
            "Epoch 17/20\n",
            "262/262 [==============================] - 138s 526ms/step - loss: 0.0885 - accuracy: 0.9685 - val_loss: 0.1409 - val_accuracy: 0.9600\n",
            "Epoch 18/20\n",
            "262/262 [==============================] - 137s 524ms/step - loss: 0.0665 - accuracy: 0.9794 - val_loss: 0.2318 - val_accuracy: 0.9600\n",
            "Epoch 19/20\n",
            "262/262 [==============================] - 137s 525ms/step - loss: 0.0826 - accuracy: 0.9731 - val_loss: 0.2374 - val_accuracy: 0.9600\n",
            "Epoch 20/20\n",
            "262/262 [==============================] - 138s 525ms/step - loss: 0.0741 - accuracy: 0.9733 - val_loss: 0.1568 - val_accuracy: 0.9700\n"
          ],
          "name": "stdout"
        }
      ]
    },
    {
      "cell_type": "code",
      "metadata": {
        "id": "D4Rkdrb1BS6j",
        "colab": {
          "base_uri": "https://localhost:8080/",
          "height": 255
        },
        "outputId": "ef506934-e20a-4f2f-a63b-8f52254d449e"
      },
      "source": [
        "plt.figure(figsize=(12, 8))\n",
        "\n",
        "plt.subplot(2, 2, 1)\n",
        "plt.plot(r.history['loss'], label='Training Loss',scalex=True)\n",
        "plt.plot(r.history['val_loss'], label='Validation Loss',scalex=True)\n",
        "plt.xlabel(\"Epoch\")\n",
        "plt.ylabel(\"Loss\")\n",
        "\n",
        "plt.xlim(0,10)\n",
        "plt.legend()\n",
        "plt.title('Evaluation of loss')\n",
        "\n",
        "plt.subplot(2, 2, 2)\n",
        "plt.plot(r.history['accuracy'], label='Training Accuracy')\n",
        "plt.plot(r.history['val_accuracy'], label='Validation Accuracy')\n",
        "plt.xlabel(\"Epoch\")\n",
        "plt.ylabel(\"Accuracy\")\n",
        "plt.xlim(0,10)\n",
        "plt.legend()\n",
        "plt.title('Evaluation of accuracy')\n",
        "plt.savefig(\"squares.png\")"
      ],
      "execution_count": 24,
      "outputs": [
        {
          "output_type": "display_data",
          "data": {
            "image/png": "[encoded data removed]",
            "text/plain": [
              "<Figure size 864x576 with 2 Axes>"
            ]
          },
          "metadata": {
            "tags": [],
            "needs_background": "light"
          }
        }
      ]
    },
    {
      "cell_type": "code",
      "metadata": {
        "colab": {
          "base_uri": "https://localhost:8080/"
        },
        "id": "6TEgihadEb7P",
        "outputId": "291dfeda-52f0-4951-dfe4-dd48b9675058"
      },
      "source": [
        "evaluation = model.evaluate(test)\n",
        "print(f\"Test Accuracy: {evaluation[1] * 100:.2f}%\")\n",
        "\n",
        "evaluation = model.evaluate(train)\n",
        "print(f\"Train Accuracy: {evaluation[1] * 100:.2f}%\")"
      ],
      "execution_count": 26,
      "outputs": [
        {
          "output_type": "stream",
          "text": [
            "2790/2790 [==============================] - 690s 247ms/step - loss: 0.2659 - accuracy: 0.9265\n",
            "Test Accuracy: 92.65%\n",
            "262/262 [==============================] - 130s 495ms/step - loss: 0.0580 - accuracy: 0.9778\n",
            "Train Accuracy: 97.78%\n"
          ],
          "name": "stdout"
        }
      ]
    },
    {
      "cell_type": "code",
      "metadata": {
        "colab": {
          "base_uri": "https://localhost:8080/"
        },
        "id": "F_EVOhPwF70x",
        "outputId": "5fb7b98b-1dbb-4526-f324-e5ba064bcdf8"
      },
      "source": [
        "from keras.utils.np_utils import to_categorical \n",
        "num_classes=len(test.class_indices)\n",
        "\n",
        "test_labels = test.classes  \n",
        "test_labels = to_categorical(test_labels, num_classes=num_classes) \n",
        "test_labels"
      ],
      "execution_count": 27,
      "outputs": [
        {
          "output_type": "execute_result",
          "data": {
            "text/plain": [
              "array([[1., 0., 0.],\n",
              "       [1., 0., 0.],\n",
              "       [1., 0., 0.],\n",
              "       ...,\n",
              "       [0., 0., 1.],\n",
              "       [0., 0., 1.],\n",
              "       [0., 0., 1.]], dtype=float32)"
            ]
          },
          "metadata": {
            "tags": []
          },
          "execution_count": 27
        }
      ]
    },
    {
      "cell_type": "code",
      "metadata": {
        "colab": {
          "base_uri": "https://localhost:8080/",
          "height": 172
        },
        "id": "VLpBmlxuJXAf",
        "outputId": "21369334-5a64-46f2-a40e-60fd933dc407"
      },
      "source": [
        "from sklearn.metrics import confusion_matrix, classification_report\n",
        "\n",
        "# rounded_labels=np.argmax(test, axis=1)\n",
        "\n",
        "pred = model.predict(test)\n",
        "# pred = np.argmax(predictions, axis=1)\n",
        "\n",
        "y_pred=np.argmax(pred, axis=1)\n",
        "y_test=np.argmax(test_labels, axis=1)\n",
        "\n",
        "\n",
        "cnf_matrix=confusion_matrix(y_test, y_pred)\n",
        "pd.DataFrame(classification_report(y_test,y_pred,output_dict=True))"
      ],
      "execution_count": 28,
      "outputs": [
        {
          "output_type": "execute_result",
          "data": {
            "text/html": [
              "<div>\n",
              "<style scoped>\n",
              "    .dataframe tbody tr th:only-of-type {\n",
              "        vertical-align: middle;\n",
              "    }\n",
              "\n",
              "    .dataframe tbody tr th {\n",
              "        vertical-align: top;\n",
              "    }\n",
              "\n",
              "    .dataframe thead th {\n",
              "        text-align: right;\n",
              "    }\n",
              "</style>\n",
              "<table border=\"1\" class=\"dataframe\">\n",
              "  <thead>\n",
              "    <tr style=\"text-align: right;\">\n",
              "      <th></th>\n",
              "      <th>0</th>\n",
              "      <th>1</th>\n",
              "      <th>2</th>\n",
              "      <th>accuracy</th>\n",
              "      <th>macro avg</th>\n",
              "      <th>weighted avg</th>\n",
              "    </tr>\n",
              "  </thead>\n",
              "  <tbody>\n",
              "    <tr>\n",
              "      <th>precision</th>\n",
              "      <td>0.902736</td>\n",
              "      <td>0.908696</td>\n",
              "      <td>0.971687</td>\n",
              "      <td>0.926523</td>\n",
              "      <td>0.927706</td>\n",
              "      <td>0.927706</td>\n",
              "    </tr>\n",
              "    <tr>\n",
              "      <th>recall</th>\n",
              "      <td>0.958065</td>\n",
              "      <td>0.898925</td>\n",
              "      <td>0.922581</td>\n",
              "      <td>0.926523</td>\n",
              "      <td>0.926523</td>\n",
              "      <td>0.926523</td>\n",
              "    </tr>\n",
              "    <tr>\n",
              "      <th>f1-score</th>\n",
              "      <td>0.929577</td>\n",
              "      <td>0.903784</td>\n",
              "      <td>0.946498</td>\n",
              "      <td>0.926523</td>\n",
              "      <td>0.926620</td>\n",
              "      <td>0.926620</td>\n",
              "    </tr>\n",
              "    <tr>\n",
              "      <th>support</th>\n",
              "      <td>930.000000</td>\n",
              "      <td>930.000000</td>\n",
              "      <td>930.000000</td>\n",
              "      <td>0.926523</td>\n",
              "      <td>2790.000000</td>\n",
              "      <td>2790.000000</td>\n",
              "    </tr>\n",
              "  </tbody>\n",
              "</table>\n",
              "</div>"
            ],
            "text/plain": [
              "                    0           1  ...    macro avg  weighted avg\n",
              "precision    0.902736    0.908696  ...     0.927706      0.927706\n",
              "recall       0.958065    0.898925  ...     0.926523      0.926523\n",
              "f1-score     0.929577    0.903784  ...     0.926620      0.926620\n",
              "support    930.000000  930.000000  ...  2790.000000   2790.000000\n",
              "\n",
              "[4 rows x 6 columns]"
            ]
          },
          "metadata": {
            "tags": []
          },
          "execution_count": 28
        }
      ]
    },
    {
      "cell_type": "code",
      "metadata": {
        "id": "taN9AAg8JbMV"
      },
      "source": [
        "\n",
        "def plot_confusion_matrix(cm, classes,\n",
        "                          normalize=False,\n",
        "                          title='',\n",
        "                          cmap=plt.cm.Blues):\n",
        "    \"\"\"\n",
        "    This function prints and plots the confusion matrix.\n",
        "    Normalization can be applied by setting `normalize=True`.\n",
        "    \"\"\"\n",
        "    import itertools\n",
        "    if normalize:\n",
        "        cm = cm.astype('float') / cm.sum(axis=1)[:, np.newaxis]\n",
        "        print(\"Normalized confusion matrix\")\n",
        "    else:\n",
        "        print('Confusion matrix, without normalization')\n",
        "\n",
        "    print(cm)\n",
        "\n",
        "    plt.imshow(cm, interpolation='nearest', cmap=cmap)\n",
        "    plt.title(title)\n",
        "    plt.colorbar()\n",
        "    tick_marks = np.arange(len(classes))\n",
        "    plt.xticks(tick_marks, classes, rotation=45)\n",
        "    plt.yticks(tick_marks, classes)\n",
        "\n",
        "    fmt = '.2f' if normalize else 'd'\n",
        "    thresh = cm.max() / 2.\n",
        "    for i, j in itertools.product(range(cm.shape[0]), range(cm.shape[1])):\n",
        "        plt.text(j, i, format(cm[i, j], fmt),\n",
        "                 horizontalalignment=\"center\",\n",
        "                 color=\"white\" if cm[i, j] > thresh else \"black\")\n",
        "\n",
        "    plt.ylabel('True label')\n",
        "    plt.xlabel('Predicted label')\n",
        "    plt.tight_layout()"
      ],
      "execution_count": 34,
      "outputs": []
    },
    {
      "cell_type": "code",
      "metadata": {
        "colab": {
          "base_uri": "https://localhost:8080/",
          "height": 364
        },
        "id": "KTJcO-qDJqdL",
        "outputId": "709db638-f385-4ded-d855-ae4b8b08bbca"
      },
      "source": [
        "plt.figure()\n",
        "plot_confusion_matrix(cnf_matrix, classes=['COVID-19', 'Normal', 'Pneumonia'])\n",
        "plt.savefig(\"CNN_CONFUTIONMATRIX1.png\")"
      ],
      "execution_count": 35,
      "outputs": [
        {
          "output_type": "stream",
          "text": [
            "Confusion matrix, without normalization\n",
            "[[891  27  12]\n",
            " [ 81 836  13]\n",
            " [ 15  57 858]]\n"
          ],
          "name": "stdout"
        },
        {
          "output_type": "display_data",
          "data": {
            "image/png": "[encoded data removed]",
            "text/plain": [
              "<Figure size 432x288 with 2 Axes>"
            ]
          },
          "metadata": {
            "tags": [],
            "needs_background": "light"
          }
        }
      ]
    },
    {
      "cell_type": "code",
      "metadata": {
        "id": "TCngtM4gJye0"
      },
      "source": [
        "model.save('tamim_cnn_model_final_1.h5')"
      ],
      "execution_count": 36,
      "outputs": []
    },
    {
      "cell_type": "code",
      "metadata": {
        "id": "ml6W7cbCLsmi"
      },
      "source": [
        ""
      ],
      "execution_count": null,
      "outputs": []
    }
  ]
}
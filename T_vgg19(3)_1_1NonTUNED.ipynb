{
  "nbformat": 4,
  "nbformat_minor": 0,
  "metadata": {
    "colab": {
      "name": "T_vgg19(3)_1.1NonTUNED.ipynb",
      "provenance": [],
      "collapsed_sections": [],
      "include_colab_link": true
    },
    "kernelspec": {
      "name": "python3",
      "display_name": "Python 3"
    },
    "language_info": {
      "name": "python"
    },
    "accelerator": "GPU"
  },
  "cells": [
    {
      "cell_type": "markdown",
      "metadata": {
        "id": "view-in-github",
        "colab_type": "text"
      },
      "source": [
        "<a href=\"https://colab.research.google.com/github/ZaimaSartajTaheri/ResearchCodes/blob/main/T_vgg19(3)_1_1NonTUNED.ipynb\" target=\"_parent\"><img src=\"https://colab.research.google.com/assets/colab-badge.svg\" alt=\"Open In Colab\"/></a>"
      ]
    },
    {
      "cell_type": "code",
      "metadata": {
        "colab": {
          "base_uri": "https://localhost:8080/"
        },
        "id": "095p8vdhePJ3",
        "outputId": "b1b2c6fe-8538-4c9a-8d9b-41698192906d"
      },
      "source": [
        "from google.colab import drive\n",
        "drive.mount(\"/content/drive/\")"
      ],
      "execution_count": 1,
      "outputs": [
        {
          "output_type": "stream",
          "text": [
            "Mounted at /content/drive/\n"
          ],
          "name": "stdout"
        }
      ]
    },
    {
      "cell_type": "code",
      "metadata": {
        "id": "adGXnPrYej4i"
      },
      "source": [
        "test_dir=\"/content/drive/MyDrive/Project_materials/CovidDataset/Test\"\n",
        "train_dir=\"/content/drive/MyDrive/Project_materials/CovidDataset/Train\"\n",
        "val_dir=\"/content/drive/MyDrive/Project_materials/CovidDataset/Val\""
      ],
      "execution_count": 2,
      "outputs": []
    },
    {
      "cell_type": "markdown",
      "metadata": {
        "id": "42MhhiFhOuS_"
      },
      "source": [
        ""
      ]
    },
    {
      "cell_type": "code",
      "metadata": {
        "id": "5IrX-bjMfcy3"
      },
      "source": [
        "from keras.preprocessing.image import ImageDataGenerator, array_to_img, img_to_array, load_img\n",
        "from keras import optimizers\n",
        "from keras.callbacks import History \n",
        "from keras.preprocessing.image import ImageDataGenerator\n",
        "\n",
        "image_generator = ImageDataGenerator(\n",
        "    # rotation_range=20,\n",
        "     #width_shift_range=0.1,\n",
        "    # shear_range=0.1,\n",
        "     zoom_range=0.1,\n",
        "    samplewise_center=True,\n",
        "    samplewise_std_normalization=True\n",
        ")"
      ],
      "execution_count": 3,
      "outputs": []
    },
    {
      "cell_type": "code",
      "metadata": {
        "colab": {
          "base_uri": "https://localhost:8080/"
        },
        "id": "zNSRZyQtffWy",
        "outputId": "0553b5d4-fa86-4654-ebb1-52db2656b252"
      },
      "source": [
        "train = image_generator.flow_from_directory(train_dir, \n",
        "                                            batch_size=32, \n",
        "                                            shuffle=True, \n",
        "                                            class_mode='categorical',\n",
        "                                            target_size=(224, 224))\n",
        "\n",
        "validation =image_generator.flow_from_directory(val_dir, \n",
        "                                                batch_size=1, \n",
        "                                                shuffle=False, \n",
        "                                                class_mode='categorical',\n",
        "                                                target_size=(224, 224))\n",
        "\n",
        "test =image_generator.flow_from_directory(test_dir, \n",
        "                                            batch_size=1, \n",
        "                                            shuffle=False, \n",
        "                                            class_mode='categorical',\n",
        "                                            target_size=(224, 224))"
      ],
      "execution_count": 4,
      "outputs": [
        {
          "output_type": "stream",
          "text": [
            "Found 8376 images belonging to 3 classes.\n",
            "Found 2792 images belonging to 3 classes.\n",
            "Found 2790 images belonging to 3 classes.\n"
          ],
          "name": "stdout"
        }
      ]
    },
    {
      "cell_type": "code",
      "metadata": {
        "colab": {
          "base_uri": "https://localhost:8080/"
        },
        "id": "q9Sy0EZwfiB7",
        "outputId": "44360e86-fc15-4e47-b721-1e9c64ca1583"
      },
      "source": [
        "nb_train_samples = len(train.filenames)  \n",
        "nb_train_samples\n",
        "num_classes=len(train.class_indices)\n",
        "num_classes"
      ],
      "execution_count": 5,
      "outputs": [
        {
          "output_type": "execute_result",
          "data": {
            "text/plain": [
              "3"
            ]
          },
          "metadata": {
            "tags": []
          },
          "execution_count": 5
        }
      ]
    },
    {
      "cell_type": "code",
      "metadata": {
        "colab": {
          "base_uri": "https://localhost:8080/"
        },
        "id": "9ouurCOwfqVF",
        "outputId": "a4bc0a2b-b11c-4646-e5a4-519908014889"
      },
      "source": [
        "from keras.utils.np_utils import to_categorical \n",
        " # get the class lebels for the training data, in the original order  \n",
        "train_labels = train.classes  \n",
        "   \n",
        " # convert the training labels to categorical vectors  \n",
        "train_labels = to_categorical(train_labels, num_classes=num_classes) \n",
        "train_labels"
      ],
      "execution_count": 6,
      "outputs": [
        {
          "output_type": "execute_result",
          "data": {
            "text/plain": [
              "array([[1., 0., 0.],\n",
              "       [1., 0., 0.],\n",
              "       [1., 0., 0.],\n",
              "       ...,\n",
              "       [0., 0., 1.],\n",
              "       [0., 0., 1.],\n",
              "       [0., 0., 1.]], dtype=float32)"
            ]
          },
          "metadata": {
            "tags": []
          },
          "execution_count": 6
        }
      ]
    },
    {
      "cell_type": "code",
      "metadata": {
        "colab": {
          "base_uri": "https://localhost:8080/"
        },
        "id": "3oxic1Ppfq5Z",
        "outputId": "5cbee24b-b3a4-47b3-9715-4e489789169c"
      },
      "source": [
        "validation_labels = validation.classes  \n",
        "validation_labels = to_categorical(validation_labels, num_classes=num_classes) \n",
        "validation_labels"
      ],
      "execution_count": 7,
      "outputs": [
        {
          "output_type": "execute_result",
          "data": {
            "text/plain": [
              "array([[1., 0., 0.],\n",
              "       [1., 0., 0.],\n",
              "       [1., 0., 0.],\n",
              "       ...,\n",
              "       [0., 0., 1.],\n",
              "       [0., 0., 1.],\n",
              "       [0., 0., 1.]], dtype=float32)"
            ]
          },
          "metadata": {
            "tags": []
          },
          "execution_count": 7
        }
      ]
    },
    {
      "cell_type": "code",
      "metadata": {
        "colab": {
          "base_uri": "https://localhost:8080/"
        },
        "id": "U5ZzUfveft7k",
        "outputId": "1b6f3558-186c-4329-b594-af4feed9ac46"
      },
      "source": [
        "test_labels = test.classes  \n",
        "test_labels = to_categorical(test_labels, num_classes=num_classes) \n",
        "test_labels"
      ],
      "execution_count": 8,
      "outputs": [
        {
          "output_type": "execute_result",
          "data": {
            "text/plain": [
              "array([[1., 0., 0.],\n",
              "       [1., 0., 0.],\n",
              "       [1., 0., 0.],\n",
              "       ...,\n",
              "       [0., 0., 1.],\n",
              "       [0., 0., 1.],\n",
              "       [0., 0., 1.]], dtype=float32)"
            ]
          },
          "metadata": {
            "tags": []
          },
          "execution_count": 8
        }
      ]
    },
    {
      "cell_type": "code",
      "metadata": {
        "id": "SE_6nSAWfwks"
      },
      "source": [
        "#importing other required libraries\n",
        "import numpy as np\n",
        "import pandas as pd\n",
        "from sklearn.utils.multiclass import unique_labels\n",
        "import os\n",
        "import matplotlib.pyplot as plt\n",
        "import matplotlib.image as mpimg\n",
        "import seaborn as sns\n",
        "import itertools\n",
        "from sklearn.model_selection import train_test_split\n",
        "from sklearn.metrics import confusion_matrix\n",
        "from keras import Sequential\n",
        "from keras.applications.vgg19 import VGG19\n",
        "from keras.preprocessing.image import ImageDataGenerator\n",
        "from keras.optimizers import SGD,Adam\n",
        "from keras.callbacks import ReduceLROnPlateau\n",
        "from keras.layers import Flatten,Dense,BatchNormalization,Activation,Dropout\n",
        "from keras.models import Model\n",
        "import numpy as np\n",
        "import tensorflow as tf\n",
        "from tensorflow import keras\n",
        "from keras.layers import Convolution2D, MaxPooling2D, ZeroPadding2D, GlobalAveragePooling2D, AveragePooling2D"
      ],
      "execution_count": 9,
      "outputs": []
    },
    {
      "cell_type": "code",
      "metadata": {
        "id": "o9SPmyILf1cH",
        "colab": {
          "base_uri": "https://localhost:8080/"
        },
        "outputId": "11d2eb78-ab48-4b95-8c8f-0ce56f9f9e64"
      },
      "source": [
        "#Defining the VGG Convolutional Neural Net\n",
        "base_model = VGG19(input_shape = (224, 224, 3), include_top = False, weights = 'imagenet')"
      ],
      "execution_count": 10,
      "outputs": [
        {
          "output_type": "stream",
          "text": [
            "Downloading data from https://storage.googleapis.com/tensorflow/keras-applications/vgg19/vgg19_weights_tf_dim_ordering_tf_kernels_notop.h5\n",
            "80142336/80134624 [==============================] - 1s 0us/step\n",
            "80150528/80134624 [==============================] - 1s 0us/step\n"
          ],
          "name": "stdout"
        }
      ]
    },
    {
      "cell_type": "code",
      "metadata": {
        "id": "87DSsmqHLu9S"
      },
      "source": [
        "base_model.trainable = False\n",
        "#Adding the final layers to the above base models where the actual classification is done in the dense layers\n",
        "model= Sequential()\n",
        "model.add(base_model) \n",
        "model.add(Flatten())\n"
      ],
      "execution_count": 11,
      "outputs": []
    },
    {
      "cell_type": "code",
      "metadata": {
        "id": "ZNydDFIko8RT"
      },
      "source": [
        "#Adding the Dense layers along with activation and batch normalization\n",
        "model.add(Dense(1024,activation=('relu'),input_dim=512))\n",
        "model.add(Dense(512,activation=('relu'))) \n",
        "model.add(Dense(256,activation=('relu'))) \n",
        "model.add(Dropout(.3))\n",
        "model.add(Dense(num_classes,activation=('softmax'))) \n"
      ],
      "execution_count": 12,
      "outputs": []
    },
    {
      "cell_type": "code",
      "metadata": {
        "colab": {
          "base_uri": "https://localhost:8080/"
        },
        "id": "SBhV2WEypiKA",
        "outputId": "88eb68c1-f7fd-4509-faa0-e1b54b59059f"
      },
      "source": [
        "model.summary()"
      ],
      "execution_count": 13,
      "outputs": [
        {
          "output_type": "stream",
          "text": [
            "Model: \"sequential\"\n",
            "_________________________________________________________________\n",
            "Layer (type)                 Output Shape              Param #   \n",
            "=================================================================\n",
            "vgg19 (Functional)           (None, 7, 7, 512)         20024384  \n",
            "_________________________________________________________________\n",
            "flatten (Flatten)            (None, 25088)             0         \n",
            "_________________________________________________________________\n",
            "dense (Dense)                (None, 1024)              25691136  \n",
            "_________________________________________________________________\n",
            "dense_1 (Dense)              (None, 512)               524800    \n",
            "_________________________________________________________________\n",
            "dense_2 (Dense)              (None, 256)               131328    \n",
            "_________________________________________________________________\n",
            "dropout (Dropout)            (None, 256)               0         \n",
            "_________________________________________________________________\n",
            "dense_3 (Dense)              (None, 3)                 771       \n",
            "=================================================================\n",
            "Total params: 46,372,419\n",
            "Trainable params: 26,348,035\n",
            "Non-trainable params: 20,024,384\n",
            "_________________________________________________________________\n"
          ],
          "name": "stdout"
        }
      ]
    },
    {
      "cell_type": "code",
      "metadata": {
        "id": "X2dwI2rbgl9b"
      },
      "source": [
        "model.compile(\n",
        "    optimizer='Adam',  # optimizer chooses the type of gradient descent one want to apply\n",
        "    loss='categorical_crossentropy',\n",
        "    metrics=['accuracy']\n",
        ")"
      ],
      "execution_count": 14,
      "outputs": []
    },
    {
      "cell_type": "code",
      "metadata": {
        "colab": {
          "base_uri": "https://localhost:8080/"
        },
        "id": "1PfqfmoZhUw2",
        "outputId": "de08d66b-a24f-4865-be74-1160a73e5866"
      },
      "source": [
        "\n",
        "r= model.fit(train,\n",
        "             validation_data = validation,\n",
        "             validation_steps=25,\n",
        "             epochs = 10\n",
        "             )"
      ],
      "execution_count": 15,
      "outputs": [
        {
          "output_type": "stream",
          "text": [
            "Epoch 1/10\n",
            "262/262 [==============================] - 2167s 8s/step - loss: 1.2399 - accuracy: 0.7723 - val_loss: 0.1334 - val_accuracy: 0.9600\n",
            "Epoch 2/10\n",
            "262/262 [==============================] - 132s 505ms/step - loss: 0.1182 - accuracy: 0.9538 - val_loss: 0.1080 - val_accuracy: 0.9600\n",
            "Epoch 3/10\n",
            "262/262 [==============================] - 131s 499ms/step - loss: 0.0965 - accuracy: 0.9668 - val_loss: 0.0209 - val_accuracy: 1.0000\n",
            "Epoch 4/10\n",
            "262/262 [==============================] - 131s 500ms/step - loss: 0.0727 - accuracy: 0.9759 - val_loss: 0.1774 - val_accuracy: 0.8800\n",
            "Epoch 5/10\n",
            "262/262 [==============================] - 130s 498ms/step - loss: 0.0819 - accuracy: 0.9672 - val_loss: 0.0398 - val_accuracy: 1.0000\n",
            "Epoch 6/10\n",
            "262/262 [==============================] - 130s 497ms/step - loss: 0.0622 - accuracy: 0.9754 - val_loss: 0.0130 - val_accuracy: 1.0000\n",
            "Epoch 7/10\n",
            "262/262 [==============================] - 130s 497ms/step - loss: 0.0531 - accuracy: 0.9802 - val_loss: 0.0421 - val_accuracy: 0.9600\n",
            "Epoch 8/10\n",
            "262/262 [==============================] - 130s 497ms/step - loss: 0.0470 - accuracy: 0.9825 - val_loss: 0.0072 - val_accuracy: 1.0000\n",
            "Epoch 9/10\n",
            "262/262 [==============================] - 131s 498ms/step - loss: 0.0428 - accuracy: 0.9855 - val_loss: 0.1517 - val_accuracy: 0.9200\n",
            "Epoch 10/10\n",
            "262/262 [==============================] - 130s 497ms/step - loss: 0.0458 - accuracy: 0.9847 - val_loss: 0.0142 - val_accuracy: 1.0000\n"
          ],
          "name": "stdout"
        }
      ]
    },
    {
      "cell_type": "code",
      "metadata": {
        "colab": {
          "base_uri": "https://localhost:8080/"
        },
        "id": "Iskr2IgZhdC4",
        "outputId": "16cfcbb1-47cc-4da2-ddf4-f3cbba354561"
      },
      "source": [
        "evaluation = model.evaluate(test)\n",
        "print(f\"Test Accuracy: {evaluation[1] * 100:.2f}%\")\n",
        "\n",
        "evaluation = model.evaluate(train)\n",
        "print(f\"Train Accuracy: {evaluation[1] * 100:.2f}%\")"
      ],
      "execution_count": 16,
      "outputs": [
        {
          "output_type": "stream",
          "text": [
            "2790/2790 [==============================] - 749s 268ms/step - loss: 0.4691 - accuracy: 0.9090\n",
            "Test Accuracy: 90.90%\n",
            "262/262 [==============================] - 135s 514ms/step - loss: 0.0284 - accuracy: 0.9894\n",
            "Train Accuracy: 98.94%\n"
          ],
          "name": "stdout"
        }
      ]
    },
    {
      "cell_type": "code",
      "metadata": {
        "colab": {
          "base_uri": "https://localhost:8080/",
          "height": 172
        },
        "id": "QosFZH5lJSHd",
        "outputId": "47111c27-08bc-4667-eb13-83abb9901842"
      },
      "source": [
        "from sklearn.metrics import confusion_matrix, classification_report\n",
        "import pandas as pd\n",
        "import numpy as np\n",
        "\n",
        "\n",
        "# rounded_labels=np.argmax(test, axis=1)\n",
        "\n",
        "pred = model.predict(test)\n",
        "# pred = np.argmax(predictions, axis=1)\n",
        "\n",
        "y_pred=np.argmax(pred, axis=1)\n",
        "y_test=np.argmax(test_labels, axis=1)\n",
        "\n",
        "\n",
        "cnf_matrix=confusion_matrix(y_test, y_pred)\n",
        "pd.DataFrame(classification_report(y_test,y_pred,output_dict=True))"
      ],
      "execution_count": 17,
      "outputs": [
        {
          "output_type": "execute_result",
          "data": {
            "text/html": [
              "<div>\n",
              "<style scoped>\n",
              "    .dataframe tbody tr th:only-of-type {\n",
              "        vertical-align: middle;\n",
              "    }\n",
              "\n",
              "    .dataframe tbody tr th {\n",
              "        vertical-align: top;\n",
              "    }\n",
              "\n",
              "    .dataframe thead th {\n",
              "        text-align: right;\n",
              "    }\n",
              "</style>\n",
              "<table border=\"1\" class=\"dataframe\">\n",
              "  <thead>\n",
              "    <tr style=\"text-align: right;\">\n",
              "      <th></th>\n",
              "      <th>0</th>\n",
              "      <th>1</th>\n",
              "      <th>2</th>\n",
              "      <th>accuracy</th>\n",
              "      <th>macro avg</th>\n",
              "      <th>weighted avg</th>\n",
              "    </tr>\n",
              "  </thead>\n",
              "  <tbody>\n",
              "    <tr>\n",
              "      <th>precision</th>\n",
              "      <td>0.925101</td>\n",
              "      <td>0.838335</td>\n",
              "      <td>1.000000</td>\n",
              "      <td>0.91362</td>\n",
              "      <td>0.921145</td>\n",
              "      <td>0.921145</td>\n",
              "    </tr>\n",
              "    <tr>\n",
              "      <th>recall</th>\n",
              "      <td>0.982796</td>\n",
              "      <td>0.931183</td>\n",
              "      <td>0.826882</td>\n",
              "      <td>0.91362</td>\n",
              "      <td>0.913620</td>\n",
              "      <td>0.913620</td>\n",
              "    </tr>\n",
              "    <tr>\n",
              "      <th>f1-score</th>\n",
              "      <td>0.953076</td>\n",
              "      <td>0.882323</td>\n",
              "      <td>0.905238</td>\n",
              "      <td>0.91362</td>\n",
              "      <td>0.913546</td>\n",
              "      <td>0.913546</td>\n",
              "    </tr>\n",
              "    <tr>\n",
              "      <th>support</th>\n",
              "      <td>930.000000</td>\n",
              "      <td>930.000000</td>\n",
              "      <td>930.000000</td>\n",
              "      <td>0.91362</td>\n",
              "      <td>2790.000000</td>\n",
              "      <td>2790.000000</td>\n",
              "    </tr>\n",
              "  </tbody>\n",
              "</table>\n",
              "</div>"
            ],
            "text/plain": [
              "                    0           1  ...    macro avg  weighted avg\n",
              "precision    0.925101    0.838335  ...     0.921145      0.921145\n",
              "recall       0.982796    0.931183  ...     0.913620      0.913620\n",
              "f1-score     0.953076    0.882323  ...     0.913546      0.913546\n",
              "support    930.000000  930.000000  ...  2790.000000   2790.000000\n",
              "\n",
              "[4 rows x 6 columns]"
            ]
          },
          "metadata": {
            "tags": []
          },
          "execution_count": 17
        }
      ]
    },
    {
      "cell_type": "code",
      "metadata": {
        "id": "-fCLqpxsJy9j"
      },
      "source": [
        "import matplotlib.pyplot as plt\n",
        "def plot_confusion_matrix(cm, classes,\n",
        "                          normalize=False,\n",
        "                          title='Confusion matrix',\n",
        "                          cmap=plt.cm.Blues):\n",
        "    \"\"\"\n",
        "    This function prints and plots the confusion matrix.\n",
        "    Normalization can be applied by setting normalize=True.\n",
        "    \"\"\"\n",
        "    import itertools\n",
        "    if normalize:\n",
        "        cm = cm.astype('float') / cm.sum(axis=1)[:, np.newaxis]\n",
        "        print(\"Normalized confusion matrix\")\n",
        "    else:\n",
        "        print('Confusion matrix, without normalization')\n",
        "\n",
        "    print(cm)\n",
        "\n",
        "    plt.imshow(cm, interpolation='nearest', cmap=cmap)\n",
        "    plt.title(title)\n",
        "    plt.colorbar()\n",
        "    tick_marks = np.arange(len(classes))\n",
        "    plt.xticks(tick_marks, classes, rotation=45)\n",
        "    plt.yticks(tick_marks, classes)\n",
        "\n",
        "    fmt = '.2f' if normalize else 'd'\n",
        "    thresh = cm.max() / 2.\n",
        "    for i, j in itertools.product(range(cm.shape[0]), range(cm.shape[1])):\n",
        "        plt.text(j, i, format(cm[i, j], fmt),\n",
        "                 horizontalalignment=\"center\",\n",
        "                 color=\"white\" if cm[i, j] > thresh else \"black\")\n",
        "\n",
        "    plt.ylabel('True label')\n",
        "    plt.xlabel('Predicted label')\n",
        "    plt.tight_layout()"
      ],
      "execution_count": 18,
      "outputs": []
    },
    {
      "cell_type": "code",
      "metadata": {
        "colab": {
          "base_uri": "https://localhost:8080/",
          "height": 364
        },
        "id": "2nSYXsIcKctQ",
        "outputId": "bd640d0b-b3bd-4654-be97-9884359e515a"
      },
      "source": [
        "plt.figure()\n",
        "plot_confusion_matrix(cnf_matrix, classes=['Covid', 'Normal', 'Pneumonia'],\n",
        "                      title='Confusion matrix, without normalization')\n",
        "plt.savefig('Confution Matrix')"
      ],
      "execution_count": 19,
      "outputs": [
        {
          "output_type": "stream",
          "text": [
            "Confusion matrix, without normalization\n",
            "[[914  16   0]\n",
            " [ 64 866   0]\n",
            " [ 10 151 769]]\n"
          ],
          "name": "stdout"
        },
        {
          "output_type": "display_data",
          "data": {
            "image/png": "[encoded data removed]",
            "text/plain": [
              "<Figure size 432x288 with 2 Axes>"
            ]
          },
          "metadata": {
            "tags": [],
            "needs_background": "light"
          }
        }
      ]
    },
    {
      "cell_type": "code",
      "metadata": {
        "colab": {
          "base_uri": "https://localhost:8080/",
          "height": 262
        },
        "id": "cFaP5-P_KgPf",
        "outputId": "926befee-092e-4f07-bb94-3018d27b6cc2"
      },
      "source": [
        "\n",
        "plt.figure(figsize=(12, 8))\n",
        "\n",
        "plt.subplot(2, 2, 1)\n",
        "plt.plot(r.history['loss'], label='Loss')\n",
        "plt.plot(r.history['val_loss'], label='Val_Loss')\n",
        "plt.legend()\n",
        "plt.title('Loss Evolution')\n",
        "plt.savefig('loss Curve')\n",
        "\n",
        "plt.subplot(2, 2, 2)\n",
        "plt.plot(r.history['accuracy'], label='Accuracy')\n",
        "plt.plot(r.history['val_accuracy'], label='Val_Accuracy')\n",
        "plt.legend()\n",
        "plt.title('Accuracy Evolution')\n",
        "plt.savefig('Accuracy Curve')"
      ],
      "execution_count": 20,
      "outputs": [
        {
          "output_type": "display_data",
          "data": {
            "image/png": "[encoded data removed]",
            "text/plain": [
              "<Figure size 864x576 with 2 Axes>"
            ]
          },
          "metadata": {
            "tags": [],
            "needs_background": "light"
          }
        }
      ]
    },
    {
      "cell_type": "code",
      "metadata": {
        "id": "hvJjG9gxKpbR"
      },
      "source": [
        ""
      ],
      "execution_count": null,
      "outputs": []
    },
    {
      "cell_type": "code",
      "metadata": {
        "id": "OusKbrH2NVIu"
      },
      "source": [
        ""
      ],
      "execution_count": null,
      "outputs": []
    }
  ]
}